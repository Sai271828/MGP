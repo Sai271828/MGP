{
 "cells": [
  {
   "cell_type": "markdown",
   "metadata": {},
   "source": [
    "# Analysing data on The Math Geaneology project\n",
    "https://www.genealogy.math.ndsu.nodak.edu/\n",
    "\n",
    "## Data\n",
    "\n",
    "add link to data.json"
   ]
  },
  {
   "cell_type": "markdown",
   "metadata": {},
   "source": [
    "## Reading data"
   ]
  },
  {
   "cell_type": "code",
   "execution_count": null,
   "metadata": {},
   "outputs": [],
   "source": [
    "import json\n",
    "import pandas as pd"
   ]
  },
  {
   "cell_type": "code",
   "execution_count": null,
   "metadata": {},
   "outputs": [],
   "source": [
    "with open(\"data/data.json\", \"r\") as f:\n",
    "    data = json.load(f)\n",
    "data=data[\"nodes\"]\n",
    "data=pd.DataFrame(data)\n",
    "data.head()"
   ]
  },
  {
   "cell_type": "markdown",
   "metadata": {},
   "source": [
    "## Fetching coordinates of schools\n",
    "\n",
    "We use OpenStreetMaps to get the coordinates of the schools"
   ]
  },
  {
   "cell_type": "code",
   "execution_count": null,
   "metadata": {},
   "outputs": [],
   "source": [
    "import time\n",
    "\n",
    "# Using Bing maps API for better performance. This requires a free account and an API key\n",
    "from geopy.geocoders import Bing\n",
    "\n",
    "# Alternatively we can use OpenStreetMaps API which is free and open source, but does not perform as well as Bing\n",
    "#from geopy.geocoders import Nominatim"
   ]
  },
  {
   "cell_type": "markdown",
   "metadata": {},
   "source": [
    "Defining the `get_coordinates` function using geopy package"
   ]
  },
  {
   "cell_type": "code",
   "execution_count": null,
   "metadata": {},
   "outputs": [],
   "source": [
    "def get_coordinates(university_name):\n",
    "\n",
    "    # Bing API Account\n",
    "    api_key=...\n",
    "    geolocator = Bing(api_key=api_key)\n",
    "\n",
    "    # Initialize the Nominatim geocoder\n",
    "    #geolocator = Nominatim(user_agent=\"university_locator\")\n",
    "\n",
    "    university_name_no_filler = remove_fillers(university_name)\n",
    "\n",
    "    try:\n",
    "        # Use the geocode method to get the location information\n",
    "        location = geolocator.geocode(university_name_no_filler)\n",
    "\n",
    "        if location:\n",
    "            # Extract latitude and longitude\n",
    "            latitude, longitude = location.latitude, location.longitude\n",
    "            return [university_name,latitude,longitude]\n",
    "            \n",
    "        else:\n",
    "            # if we did not get the location return location in Antartica\n",
    "            return [university_name,-82,135]\n",
    "            #print(f\"Coordinates for {university_name} not found.\")\n",
    "\n",
    "    except Exception as e:\n",
    "        #print(f\"An error occurred: {e}\")\n",
    "        #If there is an error we return None\n",
    "        return [university_name,None,None]\n",
    "\n",
    "def remove_fillers(sentence):\n",
    "\n",
    "    sentence = str(sentence)\n",
    "    # List of filler words\n",
    "    filler_words = ['the', 'of', 'and', 'in', 'to', 'a', 'is', 'that', 'it', 'with', 'as', 'on', 'for', 'at']\n",
    "\n",
    "    # Split the sentence into words\n",
    "    words = sentence.split()\n",
    "\n",
    "    # Remove filler words\n",
    "    filtered_words = [word for word in words if word.lower() not in filler_words]\n",
    "\n",
    "    # Join the remaining words to form the new sentence\n",
    "    new_sentence = ' '.join(filtered_words)\n",
    "\n",
    "    return new_sentence"
   ]
  },
  {
   "cell_type": "code",
   "execution_count": null,
   "metadata": {},
   "outputs": [],
   "source": [
    "import csv\n",
    "from tqdm import tqdm\n",
    "\n",
    "# Get the unique schools\n",
    "schools = data['school'].unique()\n",
    "\n",
    "# Loop through the schools and save the recieved coordinates in coord\n",
    "coords =[]\n",
    "count = 0\n",
    "for school in tqdm(schools):\n",
    "    coord = get_coordinates(school)\n",
    "    coords.append(coord)\n",
    "    count+=1\n",
    "    #if count%50==0:\n",
    "        #print(count)\n",
    "\n",
    "    # Save coordinates every 500 iterations\n",
    "    if count%500==0:\n",
    "        with open('data/coords'+str(count)+'.csv','w', newline='') as file:\n",
    "            csv_writer = csv.writer(file)\n",
    "            csv_writer.writerows(coords)\n",
    "\n",
    "    time.sleep(0.2)\n",
    "\n",
    "# Save all the coordinates\n",
    "with open('data/coords'+str(count)+'.csv','w', newline='') as file:\n",
    "    csv_writer = csv.writer(file)\n",
    "    csv_writer.writerows(coords)\n",
    "\n",
    "print(\"Done\")"
   ]
  }
 ],
 "metadata": {
  "kernelspec": {
   "display_name": "working",
   "language": "python",
   "name": "working"
  },
  "language_info": {
   "codemirror_mode": {
    "name": "ipython",
    "version": 3
   },
   "file_extension": ".py",
   "mimetype": "text/x-python",
   "name": "python",
   "nbconvert_exporter": "python",
   "pygments_lexer": "ipython3",
   "version": "3.11.5"
  }
 },
 "nbformat": 4,
 "nbformat_minor": 2
}

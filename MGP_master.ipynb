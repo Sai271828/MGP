{
 "cells": [
  {
   "cell_type": "markdown",
   "metadata": {
    "id": "ahIsZjjNp1te"
   },
   "source": [
    "# Math genealogy project"
   ]
  },
  {
   "cell_type": "markdown",
   "metadata": {
    "id": "3RV2npq46AcA"
   },
   "source": [
    "MIT License\n",
    "\n",
    "Copyright (c) 2023\n",
    "Authors: [Venkata Sai Narayana Bavisetty](https://www.linkedin.com/in/venkata-sai-narayana-bavisetty-62814476/), [Karthik Vasu](https://www.linkedin.com/in/karthikvasu/)\n",
    "\n"
   ]
  },
  {
   "cell_type": "markdown",
   "metadata": {
    "id": "hEDB05nMp9IS"
   },
   "source": [
    "In this notebook, we outline the process of downloading math genealogy data and coordinates for different universities. We will conclude by analyzing the data and providing explanations for some of our findings.\n"
   ]
  },
  {
   "cell_type": "markdown",
   "metadata": {
    "id": "ZGXIVaVvqf4h"
   },
   "source": [
    "# Downloading math genealogy data"
   ]
  },
  {
   "cell_type": "markdown",
   "metadata": {
    "id": "yd56xQltq0Nf"
   },
   "source": [
    "In this notebook, we outline the process of downloading Math genealogy data and coordinates for different universities. We will conclude by analyzing the data and providing explanations for some of our findings.\n",
    "\n",
    "We utilized the [MGP API](https://mathgenealogy.org:8000/api/v2/MGP/) for data retrieval. Below is the script code for downloading the data. While the script is primarily sourced from the [MGP website](https://mathgenealogy.org:8000/login), we made modifications to implement exponential backoff in case of request failures. This adaptation is crucial for successfully downloading the entire dataset in one go.\n"
   ]
  },
  {
   "cell_type": "markdown",
   "metadata": {
    "id": "pp9xEZeR3IV7"
   },
   "source": [
    "\n",
    "We download data in batches of $100$ IDs. Although the website indicates that we can download $10,000$ IDs at once, we encountered difficulties when attempting to do so in batches of $10,000$ or even $1,000$."
   ]
  },
  {
   "cell_type": "code",
   "execution_count": 1,
   "metadata": {
    "colab": {
     "base_uri": "https://localhost:8080/"
    },
    "id": "gjya_gFbtv8p",
    "outputId": "d075c3fa-0326-4f80-cacf-2fa40ecb5070"
   },
   "outputs": [],
   "source": [
    "#pip install backoff"
   ]
  },
  {
   "cell_type": "code",
   "execution_count": 1,
   "metadata": {
    "id": "4NM6ShGfPSLu"
   },
   "outputs": [],
   "source": [
    "import requests\n",
    "import json\n",
    "import sys\n",
    "import backoff\n",
    "from getpass import getpass\n",
    "import csv\n",
    "from tqdm import tqdm\n",
    "from folium import plugins\n",
    "import folium\n",
    "from datetime import datetime"
   ]
  },
  {
   "cell_type": "code",
   "execution_count": 2,
   "metadata": {
    "id": "YzGYypy7qzih"
   },
   "outputs": [],
   "source": [
    "PROTOCOL = \"https\"\n",
    "HOSTNAME = \"mathgenealogy.org\"\n",
    "PORT = \"8000\"\n",
    "\n",
    "# Function to prompt on the console for the user's\n",
    "# email address and password to use to log in to\n",
    "# the MGP API. Password is not shown on console\n",
    "# while the user types it.\n",
    "def getlogin():\n",
    "    print(\"Enter email used for MGP authentication:\",end=\" \",file=sys.stderr)\n",
    "    email = input()\n",
    "    password = getpass()\n",
    "    return {'email': email, 'password': password}\n",
    "\n",
    "# Function to log in to the MGP API and get a JWT for authentication.\n",
    "# authdata is a dict with key email set to the user's email address\n",
    "# and key password set to the user's password.\n",
    "# If login is successful, returns a JSON object with key token set\n",
    "# to the JWT.\n",
    "# If login is unsuccessful, raises RuntimeError.\n",
    "def login(authdata):\n",
    "    r = requests.post(f\"{PROTOCOL}://{HOSTNAME}:{PORT}/login\", authdata)\n",
    "    if r.ok:\n",
    "        r.close()\n",
    "        return r.json()\n",
    "    else:\n",
    "        r.close()\n",
    "        raise RuntimeError(\"Failed to authenticate\")\n",
    "\n",
    "# Function to do a query against the MGP API. Returns a string with\n",
    "# the query result if the query was successfully executed. Raises\n",
    "# RuntimeError if there is an error.\n",
    "\n",
    "# endpoint is a string (beginning with /) such as \"/api/v2/MGP/acad/all\"\n",
    "# referring to an API endpoint\n",
    "\n",
    "# token is a dict with key token containing a JWT.\n",
    "# The return value from login() is the best way to get this.\n",
    "\n",
    "# params is a dict structured to contain the GET parameters.\n",
    "# For example, if quering /api/v2/MGP/acad, params could be\n",
    "# {'id': '1969'}.\n",
    "@backoff.on_exception(backoff.expo, (requests.exceptions.Timeout,requests.exceptions.RequestException), max_tries= 8)\n",
    "def doquery(endpoint,token, params):\n",
    "    headers = {'x-access-token': token['token']}\n",
    "    r = requests.get(f\"{PROTOCOL}://{HOSTNAME}:{PORT}{endpoint}\",headers = headers, params = params)\n",
    "    if r.ok:\n",
    "        r.close()\n",
    "        return r.text\n",
    "\n",
    "download_data = False\n",
    "\n",
    "# User modifications can be made here in this portion of the script.\n",
    "# Alternatively, import the functions above into your own python\n",
    "# script and write code similar to what is given here as the example.\n",
    "if download_data:\n",
    "    data=[]\n",
    "\n",
    "    authdata = getlogin()\n",
    "\n",
    "    # Get all ids from MGP\n",
    "    endpoint = '/api/v2/MGP/acad/all'\n",
    "    querydata = ''\n",
    "    token = login(authdata)\n",
    "    all_ids = json.loads(doquery(endpoint,token,querydata))\n",
    "    \n",
    "    # Download data for IDs\n",
    "    # We will download in batches of 100\n",
    "    max_id= int(max(all_ids)/100) +1\n",
    "    endpoint = '/api/v2/MGP/acad/range'\n",
    "    json_file = \"MGP_data_try.json\"\n",
    "\n",
    "    for id in range(max_id):\n",
    "        # The token changes every two hours\n",
    "        token = login(authdata)\n",
    "\n",
    "        querydata = {'start': id*100, \"stop\":(id+1)*100}\n",
    "        new_data = json.loads(doquery(endpoint,token,querydata))\n",
    "        data.extend(new_data)\n",
    "\n",
    "        # Save data to a JSON file\n",
    "        with open(json_file, 'w', encoding='utf-8') as file:\n",
    "            json.dump(data, file, indent=4, ensure_ascii=False)\n",
    "\n"
   ]
  },
  {
   "cell_type": "markdown",
   "metadata": {},
   "source": [
    "# Processing the data"
   ]
  },
  {
   "cell_type": "markdown",
   "metadata": {},
   "source": [
    "The original data is formatted as a JSON file. Each row is a dictionary featuring the key `MGP_academic`. The corresponding value for this key is another dictionary encompassing the details of individuals within the math genealogy dataset. A sample element is presented below."
   ]
  },
  {
   "cell_type": "code",
   "execution_count": 3,
   "metadata": {
    "id": "3EbVBQeXpodv"
   },
   "outputs": [
    {
     "name": "stdout",
     "output_type": "stream",
     "text": [
      "The number of records are 299624\n",
      "Here is a sample element\n",
      "{\n",
      "    \"MGP_academic\": {\n",
      "        \"ID\": \"304941\",\n",
      "        \"family_name\": \"Scheepens\",\n",
      "        \"given_name\": \"Roeland\",\n",
      "        \"mrauth_id\": \"\",\n",
      "        \"other_names\": \"Johannus\",\n",
      "        \"student_data\": {\n",
      "            \"degrees\": [\n",
      "                {\n",
      "                    \"advised by\": {\n",
      "                        \"85417\": \"van de Wetering, Huub M. M.\",\n",
      "                        \"97935\": \"van Wijk, Jarke J.\"\n",
      "                    },\n",
      "                    \"degree_msc\": \"Unknown\",\n",
      "                    \"degree_type\": \"Ph.D.\",\n",
      "                    \"degree_year\": \"2015\",\n",
      "                    \"schools\": [\n",
      "                        \"Technische Universiteit Eindhoven, Netherlands\"\n",
      "                    ],\n",
      "                    \"thesis_title\": \"Visualization for maritime situational awareness\"\n",
      "                }\n",
      "            ],\n",
      "            \"descendants\": {\n",
      "                \"advisees\": [\n",
      "                    \"\"\n",
      "                ],\n",
      "                \"descendant_count\": 0\n",
      "            }\n",
      "        }\n",
      "    }\n",
      "}\n"
     ]
    }
   ],
   "source": [
    "import pandas as pd\n",
    "\n",
    "# Read the JSON file\n",
    "with open('C:\\\\Users\\\\karth\\\\Code\\\\MGP\\\\data\\\\MGP_data.json', 'r') as file:\n",
    "    all_data = json.load(file)\n",
    "\n",
    "print(f\"The number of records are {len(all_data)}\")\n",
    "print(f\"Here is a sample element\")\n",
    "print(json.dumps(all_data[100], indent=4))"
   ]
  },
  {
   "cell_type": "markdown",
   "metadata": {},
   "source": [
    "Here we access the JSON file and convert it into a Pandas dataframe with the required information. The data frame has the columns `ID`,  `family_name`, `given_name`, `school`, `year`, `descendants`, `country` and `subject`. However, for some of these fields may be `None` when information is not available."
   ]
  },
  {
   "cell_type": "code",
   "execution_count": 4,
   "metadata": {
    "id": "bNW3E-U90-H5"
   },
   "outputs": [],
   "source": [
    "data=[]\n",
    "\n",
    "school_split_len = []\n",
    "for temp_row in all_data:\n",
    "    row = temp_row['MGP_academic']\n",
    "\n",
    "    try:\n",
    "        school = row['student_data']['degrees'][0]['schools'][0]\n",
    "    except:\n",
    "        school = None\n",
    "\n",
    "    if school is None:\n",
    "        country = None\n",
    "    else:\n",
    "        split = school.split(',')\n",
    "        school_split_len.append(len(split))\n",
    "        if len(split)>1:\n",
    "            country = split[-1]\n",
    "        school = split[0]\n",
    "\n",
    "    try:\n",
    "        year = int(row['student_data']['degrees'][0]['degree_year'])\n",
    "    except:\n",
    "        year = None\n",
    "    \n",
    "    try:\n",
    "        subject = int(row['student_data']['degrees'][0]['degree_msc'])\n",
    "    except:\n",
    "        subject = None\n",
    "\n",
    "\n",
    "\n",
    "    new_row = {\n",
    "        'ID':row['ID'],\n",
    "        #'family_name':row['family_name'],\n",
    "        #'given_name':row['given_name'],\n",
    "        'school':school,\n",
    "        'year':year,\n",
    "        'descendants':row['student_data']['descendants']['descendant_count'],\n",
    "        #'country':country,\n",
    "        #'subject':subject\n",
    "        }\n",
    "    data.append(new_row)\n",
    "\n",
    "data = pd.DataFrame(data)"
   ]
  },
  {
   "cell_type": "code",
   "execution_count": 5,
   "metadata": {},
   "outputs": [
    {
     "data": {
      "text/plain": [
       "(299624, 4)"
      ]
     },
     "execution_count": 5,
     "metadata": {},
     "output_type": "execute_result"
    }
   ],
   "source": [
    "data.shape"
   ]
  },
  {
   "cell_type": "markdown",
   "metadata": {},
   "source": [
    "## Exploratory data analysis"
   ]
  },
  {
   "cell_type": "markdown",
   "metadata": {},
   "source": [
    "Number of PhDs by year plot"
   ]
  },
  {
   "cell_type": "markdown",
   "metadata": {},
   "source": [
    "Number of PhDs by subject bar plot? or pie chart?"
   ]
  },
  {
   "cell_type": "markdown",
   "metadata": {},
   "source": [
    "List of people with most descendants by subject classification"
   ]
  },
  {
   "cell_type": "markdown",
   "metadata": {},
   "source": [
    "Number of people with no descendants you graduated in 2012. This could be correlated to people leaving for industry?"
   ]
  },
  {
   "cell_type": "markdown",
   "metadata": {},
   "source": [
    "Compare that to people with no desecendants in the past. Show the number of people with no descendants vs graduation year graph."
   ]
  },
  {
   "cell_type": "markdown",
   "metadata": {},
   "source": [
    "Compare the number of people staying in the country of their PhD as professors vs people moving out. Check specifically for US to India over time"
   ]
  },
  {
   "cell_type": "markdown",
   "metadata": {
    "id": "TWCFqDsK0-X2"
   },
   "source": [
    "# Downloading the coordinate data"
   ]
  },
  {
   "cell_type": "code",
   "execution_count": 6,
   "metadata": {
    "id": "FcRO626V09fk"
   },
   "outputs": [],
   "source": [
    "def get_coordinates(university_name,use_Bing=False,bing_api_key=None):\n",
    "\n",
    "    # Bing API geocoder\n",
    "    if use_Bing:\n",
    "        geolocator = Bing(api_key=bing_api_key)\n",
    "\n",
    "    # Nominatim geocoder\n",
    "    else:\n",
    "        geolocator = Nominatim(user_agent=\"university_locator\")\n",
    "\n",
    "    university_name_no_filler = remove_fillers(university_name)\n",
    "\n",
    "    try:\n",
    "        # Use the geocode method to get the location information\n",
    "        location = geolocator.geocode(university_name_no_filler)\n",
    "\n",
    "        if location:\n",
    "            # Extract latitude and longitude\n",
    "            latitude, longitude = location.latitude, location.longitude\n",
    "            return [university_name,latitude,longitude]\n",
    "\n",
    "        else:\n",
    "            # if we did not get the location return location in Antartica\n",
    "            return [university_name,-82,135]\n",
    "            #print(f\"Coordinates for {university_name} not found.\")\n",
    "\n",
    "    except Exception as e:\n",
    "        #print(f\"An error occurred: {e}\")\n",
    "        #If there is an error we return None\n",
    "        return [university_name,None,None]\n",
    "\n",
    "def remove_fillers(sentence):\n",
    "\n",
    "    sentence = str(sentence)\n",
    "    # List of filler words\n",
    "    filler_words = ['the', 'of', 'and', 'in', 'to', 'a', 'is', 'that', 'it', 'with', 'as', 'on', 'for', 'at']\n",
    "\n",
    "    # Split the sentence into words\n",
    "    words = sentence.split()\n",
    "\n",
    "    # Remove filler words\n",
    "    filtered_words = [word for word in words if word.lower() not in filler_words]\n",
    "\n",
    "    # Join the remaining words to form the new sentence\n",
    "    new_sentence = ' '.join(filtered_words)\n",
    "\n",
    "    return new_sentence"
   ]
  },
  {
   "cell_type": "code",
   "execution_count": 7,
   "metadata": {
    "id": "BqEQH7bROyux"
   },
   "outputs": [
    {
     "name": "stderr",
     "output_type": "stream",
     "text": [
      "100%|██████████| 2665/2665 [16:03<00:00,  2.77it/s]"
     ]
    },
    {
     "name": "stdout",
     "output_type": "stream",
     "text": [
      "Done Downloading Coordinates\n"
     ]
    },
    {
     "name": "stderr",
     "output_type": "stream",
     "text": [
      "\n"
     ]
    }
   ],
   "source": [
    "import os\n",
    "\n",
    "# Set download_coordinates to True if you want to download the coordinates\n",
    "download_coordinates = True\n",
    "\n",
    "# Path to the coordinates file if you have already downloaded it.\n",
    "coords_file = 'C:\\\\Users\\\\karth\\\\Code\\\\MGP\\\\data\\\\coordinates.csv'\n",
    "\n",
    "# If you want to use Bing maps API, set use_Bing to True and enter your API key\n",
    "use_Bing = True\n",
    "bing_api_key = os.getenv('BING_API_KEY')\n",
    "downloaded_file = \"data/new_coords\"\n",
    "\n",
    "if download_coordinates:\n",
    "\n",
    "    import time\n",
    "\n",
    "    # Using Bing maps API for better performance. This requires a free account and an API key\n",
    "    from geopy.geocoders import Bing\n",
    "\n",
    "    # Alternatively we can use OpenStreetMaps API which is free and open source, but does not perform as well as Bing\n",
    "    from geopy.geocoders import Nominatim\n",
    "\n",
    "    # Get the unique schools\n",
    "    schools = data['school'].unique()\n",
    "\n",
    "    # Loop through the schools and save the recieved coordinates in coord\n",
    "    coords =[]\n",
    "    count = 0\n",
    "    for school in tqdm(schools):\n",
    "        coord = get_coordinates(school,use_Bing=use_Bing,bing_api_key=bing_api_key)\n",
    "        coords.append(coord)\n",
    "        count+=1\n",
    "\n",
    "        # Save coordinates every 500 iterations\n",
    "        if count%500==0:\n",
    "            with open(downloaded_file+str(count)+'.csv','w', newline='') as file:\n",
    "                csv_writer = csv.writer(file)\n",
    "                csv_writer.writerows(coords)\n",
    "\n",
    "        # To prevent the API from blocking us\n",
    "        time.sleep(0.2)\n",
    "\n",
    "    # Save all the coordinates\n",
    "    with open(downloaded_file+'.csv','w', newline='') as file:\n",
    "        csv_writer = csv.writer(file)\n",
    "        csv_writer.writerow(['school','lat','lon'])\n",
    "        csv_writer.writerows(coords)\n",
    "    print(\"Done Downloading Coordinates\")\n",
    "\n",
    "else:\n",
    "    # Read the coordinates from the csv file\n",
    "    coords = pd.read_csv(coords_file)\n"
   ]
  },
  {
   "cell_type": "code",
   "execution_count": 48,
   "metadata": {},
   "outputs": [],
   "source": [
    "# Merge the coordinates with the data\n",
    "data = pd.merge(data,coords,on='school',how='left')"
   ]
  },
  {
   "cell_type": "markdown",
   "metadata": {
    "id": "jz0ZZ7Qb1Lt1"
   },
   "source": [
    "# Making heatmaps"
   ]
  },
  {
   "cell_type": "code",
   "execution_count": 50,
   "metadata": {
    "id": "w8aIs9yHp0Ua"
   },
   "outputs": [
    {
     "name": "stdout",
     "output_type": "stream",
     "text": [
      "(299624, 6)\n"
     ]
    },
    {
     "data": {
      "text/plain": [
       "2665"
      ]
     },
     "execution_count": 50,
     "metadata": {},
     "output_type": "execute_result"
    }
   ],
   "source": [
    "print(data.shape)\n",
    "\n",
    "schools = data['school'].unique()\n",
    "len(schools)"
   ]
  },
  {
   "cell_type": "code",
   "execution_count": 51,
   "metadata": {},
   "outputs": [],
   "source": [
    "def plot_inf_univ(full_data, t0 = 1950, t1 = 1960, ignore_ones = False, show_map = True):\n",
    "    full_data.dropna(inplace=True)\n",
    "    period = full_data[ (full_data[\"year\"]>=t0) & (full_data['year']<t1)]\n",
    "\n",
    "    p = period[[\"school\",\"lat\",\"lon\",\"descendants\"]].groupby(['school'])\n",
    "    p = p[\"descendants\"].agg(['sum']).reset_index()\n",
    "    p = pd.merge(p,coords,on='school',how='left')\n",
    "\n",
    "    X = p[[\"lat\",\"lon\",\"sum\"]]\n",
    "    X.dropna(inplace=True)\n",
    "    if ignore_ones:\n",
    "        X = X[X[\"sum\"] != 1]\n",
    "        map = folium.Map(location = [5,30], tiles = \"Cartodb dark_matter\", zoom_start=2)\n",
    "\n",
    "        heat_data = X.values.tolist()\n",
    "\n",
    "        plugins.HeatMap(heat_data).add_to(map)\n",
    "\n",
    "        map.save(f\"heat_map_ignore_{t0}_to_{t1}.html\")\n",
    "        if show_map:\n",
    "            display(map)\n",
    "        return map\n",
    "        \n",
    "    else:\n",
    "        map = folium.Map(location = [5,30], tiles = \"Cartodb dark_matter\", zoom_start=2)\n",
    "\n",
    "        heat_data = X.values.tolist()\n",
    "\n",
    "        plugins.HeatMap(heat_data).add_to(map)\n",
    "\n",
    "        map.save(f\"heat_map_{t0}_to_{t1}.html\")\n",
    "        if show_map:\n",
    "            display(map)\n",
    "        return map\n"
   ]
  },
  {
   "cell_type": "code",
   "execution_count": 52,
   "metadata": {},
   "outputs": [
    {
     "name": "stderr",
     "output_type": "stream",
     "text": [
      "C:\\Users\\karth\\AppData\\Local\\Temp\\ipykernel_14112\\1175992201.py:10: SettingWithCopyWarning: \n",
      "A value is trying to be set on a copy of a slice from a DataFrame\n",
      "\n",
      "See the caveats in the documentation: https://pandas.pydata.org/pandas-docs/stable/user_guide/indexing.html#returning-a-view-versus-a-copy\n",
      "  X.dropna(inplace=True)\n"
     ]
    },
    {
     "data": {
      "text/html": [
       "<div style=\"width:100%;\"><div style=\"position:relative;width:100%;height:0;padding-bottom:60%;\"><span style=\"color:#565656\">Make this Notebook Trusted to load map: File -> Trust Notebook</span><iframe srcdoc=\"&lt;!DOCTYPE html&gt;\n",
       "&lt;html&gt;\n",
       "&lt;head&gt;\n",
       "    \n",
       "    &lt;meta http-equiv=&quot;content-type&quot; content=&quot;text/html; charset=UTF-8&quot; /&gt;\n",
       "    \n",
       "        &lt;script&gt;\n",
       "            L_NO_TOUCH = false;\n",
       "            L_DISABLE_3D = false;\n",
       "        &lt;/script&gt;\n",
       "    \n",
       "    &lt;style&gt;html, body {width: 100%;height: 100%;margin: 0;padding: 0;}&lt;/style&gt;\n",
       "    &lt;style&gt;#map {position:absolute;top:0;bottom:0;right:0;left:0;}&lt;/style&gt;\n",
       "    &lt;script src=&quot;https://cdn.jsdelivr.net/npm/leaflet@1.9.3/dist/leaflet.js&quot;&gt;&lt;/script&gt;\n",
       "    &lt;script src=&quot;https://code.jquery.com/jquery-1.12.4.min.js&quot;&gt;&lt;/script&gt;\n",
       "    &lt;script src=&quot;https://cdn.jsdelivr.net/npm/bootstrap@5.2.2/dist/js/bootstrap.bundle.min.js&quot;&gt;&lt;/script&gt;\n",
       "    &lt;script src=&quot;https://cdnjs.cloudflare.com/ajax/libs/Leaflet.awesome-markers/2.0.2/leaflet.awesome-markers.js&quot;&gt;&lt;/script&gt;\n",
       "    &lt;link rel=&quot;stylesheet&quot; href=&quot;https://cdn.jsdelivr.net/npm/leaflet@1.9.3/dist/leaflet.css&quot;/&gt;\n",
       "    &lt;link rel=&quot;stylesheet&quot; href=&quot;https://cdn.jsdelivr.net/npm/bootstrap@5.2.2/dist/css/bootstrap.min.css&quot;/&gt;\n",
       "    &lt;link rel=&quot;stylesheet&quot; href=&quot;https://netdna.bootstrapcdn.com/bootstrap/3.0.0/css/bootstrap.min.css&quot;/&gt;\n",
       "    &lt;link rel=&quot;stylesheet&quot; href=&quot;https://cdn.jsdelivr.net/npm/@fortawesome/fontawesome-free@6.2.0/css/all.min.css&quot;/&gt;\n",
       "    &lt;link rel=&quot;stylesheet&quot; href=&quot;https://cdnjs.cloudflare.com/ajax/libs/Leaflet.awesome-markers/2.0.2/leaflet.awesome-markers.css&quot;/&gt;\n",
       "    &lt;link rel=&quot;stylesheet&quot; href=&quot;https://cdn.jsdelivr.net/gh/python-visualization/folium/folium/templates/leaflet.awesome.rotate.min.css&quot;/&gt;\n",
       "    \n",
       "            &lt;meta name=&quot;viewport&quot; content=&quot;width=device-width,\n",
       "                initial-scale=1.0, maximum-scale=1.0, user-scalable=no&quot; /&gt;\n",
       "            &lt;style&gt;\n",
       "                #map_fa391bc8846a5b22db43f9df58cebdde {\n",
       "                    position: relative;\n",
       "                    width: 100.0%;\n",
       "                    height: 100.0%;\n",
       "                    left: 0.0%;\n",
       "                    top: 0.0%;\n",
       "                }\n",
       "                .leaflet-container { font-size: 1rem; }\n",
       "            &lt;/style&gt;\n",
       "        \n",
       "    &lt;script src=&quot;https://cdn.jsdelivr.net/gh/python-visualization/folium@main/folium/templates/leaflet_heat.min.js&quot;&gt;&lt;/script&gt;\n",
       "&lt;/head&gt;\n",
       "&lt;body&gt;\n",
       "    \n",
       "    \n",
       "            &lt;div class=&quot;folium-map&quot; id=&quot;map_fa391bc8846a5b22db43f9df58cebdde&quot; &gt;&lt;/div&gt;\n",
       "        \n",
       "&lt;/body&gt;\n",
       "&lt;script&gt;\n",
       "    \n",
       "    \n",
       "            var map_fa391bc8846a5b22db43f9df58cebdde = L.map(\n",
       "                &quot;map_fa391bc8846a5b22db43f9df58cebdde&quot;,\n",
       "                {\n",
       "                    center: [5.0, 30.0],\n",
       "                    crs: L.CRS.EPSG3857,\n",
       "                    zoom: 2,\n",
       "                    zoomControl: true,\n",
       "                    preferCanvas: false,\n",
       "                }\n",
       "            );\n",
       "\n",
       "            \n",
       "\n",
       "        \n",
       "    \n",
       "            var tile_layer_60df5d9d8d9905348dc777d34ddf48c0 = L.tileLayer(\n",
       "                &quot;https://cartodb-basemaps-{s}.global.ssl.fastly.net/dark_all/{z}/{x}/{y}.png&quot;,\n",
       "                {&quot;attribution&quot;: &quot;\\u0026copy; \\u003ca target=\\&quot;_blank\\&quot; href=\\&quot;http://www.openstreetmap.org/copyright\\&quot;\\u003eOpenStreetMap\\u003c/a\\u003e contributors \\u0026copy; \\u003ca target=\\&quot;_blank\\&quot; href=\\&quot;http://cartodb.com/attributions\\&quot;\\u003eCartoDB\\u003c/a\\u003e, CartoDB \\u003ca target=\\&quot;_blank\\&quot; href =\\&quot;http://cartodb.com/attributions\\&quot;\\u003eattributions\\u003c/a\\u003e&quot;, &quot;detectRetina&quot;: false, &quot;maxNativeZoom&quot;: 18, &quot;maxZoom&quot;: 18, &quot;minZoom&quot;: 0, &quot;noWrap&quot;: false, &quot;opacity&quot;: 1, &quot;subdomains&quot;: &quot;abc&quot;, &quot;tms&quot;: false}\n",
       "            ).addTo(map_fa391bc8846a5b22db43f9df58cebdde);\n",
       "        \n",
       "    \n",
       "            var heat_map_c04cdc00b400bd1dd3964b45f53a74cc = L.heatLayer(\n",
       "                [[37.76972961, -122.466095, 0.0], [25.0420743, 121.614046, 65.0], [50.0657033, 19.91895867, 53.0], [48.00229565, 7.849140132, 1396.0], [47.17533015, 27.5723004, 51.0], [27.9151981, 78.07874075, 31.0], [39.9237514, 32.86102818, 2.0], [32.5919877, -85.49594874, 0.0], [-35.28131035, 149.1166828, 271.0], [46.7677836, 23.59197655, 132.0], [40.3739057, 49.81101336, 17.0], [49.78858948, 9.93552017, 45.0], [41.8186395, -71.40880087, 2182.0], [40.0286808, -75.31545509, 0.0], [22.57494455, 88.36262845, 543.0], [34.13701375, -118.1252883, 3636.0], [51.4764902, -3.1803382, 159.0], [40.4441897, -79.94271918, 1332.0], [38.38342285, -81.76409912, 0.0], [41.50138695, -81.60070217, 37.0], [45.203783, 5.699868499, 767.0], [60.4518905, 22.2791628, 504.0], [54.3458218, 10.11307301, 1301.0], [-18.9110302, 47.5279875, 25.0], [40.80775585, -73.96164947, 7318.0], [48.1402969, 17.11582582, 2.0], [42.4529076, -76.48008423, 1462.0], [50.08177175, 14.41414746, 60.0], [38.65811157, -90.26731873, 422.0], [43.70526735, -72.29052293, 68.0], [48.30062485, 34.84400177, 308.0], [36.0001557, -78.94422972, 496.0], [47.413218, 8.5374914, 2203.0], [48.5298981, 9.040432301, 2199.0], [51.9176312, 4.525962326, 33.0], [47.4934799, 19.06189933, 39.0], [30.44235995, -84.29747867, 0.0], [52.4550561, 13.29643763, 306.0], [49.60030465, 11.01622777, 600.0], [50.9333221, 11.58229697, 182.0], [51.5592251, 9.952444154, 4647.0], [36.14166641, -86.7986145, 7.0], [38.90893925, -77.07457962, 9.0], [33.7760948, -84.39880767, 40.0], [42.9701199, 47.5091488, 0.0], [52.38219833, 9.71780014, 284.0], [57.69854645, 11.97124216, 0.0], [59.34161377, 18.05691719, 5.0], [42.36790855, -71.12678237, 13703.0], [60.1756483, 24.95355002, 796.0], [43.07900775, 141.3377295, 3.0], [52.5183402, 13.39292023, 1203.0], [47.50126265, 19.04613374, 295.0], [41.83616405, -87.62647228, 74.0], [51.4989595, -0.175640693, 783.0], [40.4594635, -86.1302691, 585.0], [48.81655625, 2.308627838, 2.0], [50.4443723, 30.51638191, 148.0], [38.38342285, -81.76409912, 64.0], [-22.9158261, -43.23278762, 82.0], [42.0279608, -93.64473746, 1121.0], [41.0132424, 28.9637609, 0.0], [49.84021675, 24.02228812, 132.0], [41.71573395, 44.7255856, 69.0], [34.68795395, 33.02952576, 23.0], [43.880146, 125.301151, 104.0], [50.12724275, 8.667596031, 278.0], [49.99203965, 8.237090346, 392.0], [50.5804836, 8.677565534, 284.0], [39.20883, -96.58845116, 7.0], [49.1018534, 8.433120159, 21.0], [51.2205068, 4.404626283, 5.0], [51.84169388, 5.85865116, 3.0], [48.15047575, 11.57983565, 107.0], [50.01508035, 36.22864282, 6.0], [50.3942259, 30.49831742, 255.0], [51.5060001, -0.112158295, 268.0], [59.34986645, 18.07063213, 1053.0], [55.79624725, 37.47444985, 62.0], [35.02704665, 135.7814373, 386.0], [32.94739665, 130.553603, 22.0], [55.6801502, 12.572327, 42.0], [51.96643448, 5.65831041, 56.0], [40.91285705, -73.90696802, 0.0], [55.69778061, 37.56528091, 17.0], [40.6068028, -75.3782488, 46.0], [59.93848419, 30.31248474, 0.0], [59.94166183, 30.30098724, 15.0], [55.70229715, 37.53179773, 2591.0], [51.51426105, -0.11673352, 388.0], [30.40576185, -91.1859745, 32.0], [48.15047575, 11.57983565, 3123.0], [55.70582245, 13.19334082, 618.0], [51.48443715, 11.97354696, 178.0], [42.3582529, -71.09662724, 13876.0], [45.50688565, -73.5790846, 117.0], [42.7024238, -84.48032838, 38.0], [53.9099267, 27.5299522, 0.0], [34.68795395, 33.02952576, 285.0], [35.1583416, 136.9219146, 198.0], [0.3366658, 32.5841375, 36.0], [40.72914525, -73.99507565, 1572.0], [56.29943848, 43.98332977, 8.0], [35.7714749, -78.6741935, 436.0], [42.0557157, -87.67529455, 323.0], [36.12847675, -97.08398055, 4.0], [44.56305595, -123.2839236, 116.0], [34.51119925, 135.631448, 179.0], [39.99171495, 116.303935, 28.0], [-29.1057087, 26.17541864, 84.0], [50.8124763, 8.772234461, 83.0], [52.2216394, 21.00737979, 70.0], [51.1068045, 17.06008134, 20.0], [45.04850495, 9.701694744, 140.0], [52.2377936, 21.0181978, 229.0], [42.7298969, -73.67966782, 433.0], [37.22192675, -80.42728184, 63.0], [40.33867515, -74.65836549, 13527.0], [45.8071025, 15.9705828, 86.0], [40.430028, -86.92642115, 1964.0], [54.58414875, -5.933721043, 292.0], [53.5846829, -2.29876509, 24.0], [42.7298969, -73.67966782, 4.0], [50.7791645, 6.068920971, 373.0], [50.7338124, 7.1022465, 272.0], [29.71679145, -95.40478113, 642.0], [53.21944155, 6.562986329, 253.0], [37.76972961, -122.466095, 55.0], [47.2289896, 39.74000444, 62.0], [49.4167814, 8.6691206, 1045.0], [55.6934259, 37.5606899, 0.0], [38.635359, -90.23184327, 14.0], [51.57865524, 46.79747009, 2.0], [43.7196687, 10.40043275, 14.0], [44.8177899, 20.45658353, 103.0], [49.93777847, 17.89666939, 20.0], [48.84471893, 2.34388995, 15.0], [47.2164127, 39.63155141, 0.0], [42.0000955, 21.44347171, 0.0], [54.50928116, 36.27381897, 9.0], [27.83057785, 80.02818298, 3.0], [59.9406782, 30.29649994, 1083.0], [37.43131385, -122.1693654, 5391.0], [43.00188805, -78.7852135, 0.0], [55.6947768, 37.5644492, 127.0], [59.3242703, 18.08305021, 714.0], [51.6192545, -3.8792745, 6.0], [43.01711285, -76.1185536, 354.0], [41.31085045, 69.24892054, 12.0], [47.4701078, 19.0471857, 86.0], [55.78541445, 12.52021514, 5.0], [52.22124481, 21.00768089, 3.0], [32.7768128, 35.02254465, 64.0], [51.35720444, 11.99227333, 20.0], [48.78152466, 9.17469406, 118.0], [48.19889069, 16.37000084, 0.0], [51.99882735, 4.373960368, 803.0], [50.9249694, 13.33163594, 93.0], [52.51101585, 13.32695414, 334.0], [52.27335739, 10.53064251, 15.0], [51.80195535, 10.34550528, 147.0], [49.86115175, 8.681943999, 356.0], [51.0282765, 13.73598275, 393.0], [47.0581999, 15.46018743, 3.0], [50.68250285, 10.93650626, 55.0], [48.2655696, 11.66934561, 439.0], [48.19853965, 16.36986168, 0.0], [59.34986645, 18.07063213, 23.0], [30.6108618, -96.35206061, 5.0], [38.93804505, -77.08939224, 16.0], [38.9391024, -76.99996417, 5.0], [39.33020225, -76.62185358, 920.0], [41.8973973, -87.62653132, 797.0], [40.2619389, -76.88034675, 21.0], [41.8761445, -87.6251612, 11201.0], [35.90503535, -79.04775327, 1872.0], [35.4894285, -97.53871275, 97.0], [51.56306085, 5.043598468, 58.0], [56.4695875, 84.94677153, 28.0], [29.94121955, -90.12010089, 540.0], [60.45607315, 22.28640968, 2.0], [40.4314742, -3.790043948, 565.0], [-34.6126638, -68.3271322, 2.0], [41.3868913, 2.163523846, 317.0], [-34.5087115, -58.68837906, 33.0], [-33.4439386, -70.6510174, 0.0], [37.1809009, -3.6000115, 3.0], [40.44916534, -3.72805595, 448.0], [40.207422, -8.4260033, 38.0], [38.7082646, -9.146463041, 44.0], [-23.5652201, -46.71258298, 231.0], [-6.35430908, 106.8281403, 0.0], [51.00784845, 3.710883068, 3.0], [52.1572025, 4.485216804, 1007.0], [52.0906639, 5.1231525, 1361.0], [52.3685848, 4.8902006, 3002.0], [59.9414173, 10.72276834, 5.0], [53.3068763, -6.224625093, 7.0], [51.52420305, -0.133000724, 733.0], [57.16452475, -2.101836355, 89.0], [-34.9281253, 138.6011844, 330.0], [44.8188718, 20.4570756, 758.0], [52.4512673, -1.9366269, 626.0], [51.4582866, -2.601568351, 129.0], [49.25783145, -123.246242, 15.0], [44.43564445, 26.10092625, 418.0], [52.2069895, 0.119092574, 10851.0], [-33.9545517, 18.47084236, 51.0], [39.12718375, -84.50008384, 28.0], [40.01407945, -105.2669594, 36.0], [41.69292775, -72.76542903, 7.0], [47.5334766, 21.62354221, 0.0], [39.90360285, -75.35373731, 61.0], [28.5846757, 77.16358981, 50.0], [35.97320905, -78.89755054, 70.0], [25.7148148, -80.2769765, 12.0], [31.48119265, -83.52225572, 33.0], [55.8618812, -4.241956566, 118.0], [40.09911835, -88.23851576, 3275.0], [38.9534918, -95.2630888, 120.0], [38.0266291, -84.50472223, 12.0], [53.40724285, -2.965833661, 221.0], [51.5116948, -0.117442, 2406.0], [26.8644647, 80.93218673, 19.0], [49.8398886, 24.0221314, 50.0], [13.06600485, 80.28285007, 10.0], [53.4803158, -2.2393912, 68.0], [39.252377, -76.70891807, 9.0], [38.99041245, -76.94385859, 454.0], [-37.8180846, 144.9639965, 32.0], [42.33245205, -83.03756645, 4244.0], [38.93641465, -92.32970302, 22.0], [18.9706634, 72.8170518, 64.0], [-29.86805515, 30.97841195, 6.0], [40.8206834, -96.70048318, 0.0], [-37.7878334, 175.3159841, 4.0], [33.21618375, -97.14527584, 4.0], [41.70456775, -86.23822026, 140.0], [52.9577322, -1.156158785, 55.0], [44.04441965, -123.0717603, 69.0], [45.42252705, -75.68339042, 0.0], [51.7533537, -1.257111811, 2352.0], [40.8025835, -77.85593833, 687.0], [40.44415295, -79.96246095, 13.0], [18.5208688, 73.8327706, 0.0], [51.4499995, -0.961407779, 13.0], [44.0190466, -92.4666537, 260.0], [43.852339, 18.38031614, 6.0], [53.3849374, -1.473972811, 27.0], [41.9973091, 21.4351329, 0.0], [42.6923495, 23.3260637, 7.0], [33.92682765, -118.2423499, 241.0], [56.3398198, -2.811793705, 464.0], [-33.8634791, 151.2143538, 44.0], [46.2456123, 20.1491243, 23.0], [35.9516352, -83.93088188, 253.0], [30.29320405, -97.73746822, 1198.0], [35.74722905, 139.802157, 825.0], [43.6562982, -79.38706268, 718.0], [40.7768903, -111.9154927, 1099.0], [38.0410576, -78.50550841, 231.0], [-33.91701725, 151.2251677, 13.0], [38.9005175, -77.0322149, 785.0], [41.92303465, -73.99882649, 6.0], [43.08027445, -89.43095872, 2011.0], [45.8160975, 15.9757047, 289.0], [-26.1888766, 28.0247912, 581.0], [44.7050093, 10.63073974, 10.0], [45.4601184, 9.195336372, 41.0], [45.6601694, 13.79479254, 7.0], [4.90575945, 114.9134644, 22.0], [41.8964496, 12.52095869, 383.0], [47.56174235, 7.582855137, 338.0], [52.5128521, 13.3892713, 0.0], [46.95097255, 7.438684131, 0.0], [53.56778265, 9.974051444, 661.0], [47.26331595, 11.38447331, 26.0], [51.33845385, 12.37863857, 870.0], [49.4832445, 8.4645749, 5.0], [52.40144345, 13.00879157, 0.0], [54.4309852, 12.6858664, 323.0], [48.7453828, 9.103267539, 68.0], [48.2131284, 16.36068599, 1151.0], [47.37377355, 8.550955, 121.0], [49.2542853, 7.041507076, 111.0], [50.92804455, 6.928130515, 83.0], [44.83697265, -0.578070404, 29.0], [50.8212127, 4.349553369, 96.0], [45.1651985, 5.72793834, 0.0], [48.6914565, 6.1782072, 4901.0], [46.78116215, -71.27680024, 0.0], [50.81347185, 4.381235729, 686.0], [48.6074817, 7.707622004, 23.0], [48.8488954, 2.3431908, 210.0], [43.5642189, 1.466572406, 216.0], [48.84722137, 2.35638905, 50.0], [48.84943771, 2.34373593, 2.0], [44.83697265, -0.578070404, 96.0], [46.1972358, 6.136766, 19.0], [45.19258, 5.717927756, 107.0], [46.5225695, 6.58094986, 3.0], [50.6407185, 5.576232584, 0.0], [45.5359358, -73.49389, 5.0], [45.50475765, -73.61454176, 0.0], [46.993896, 6.938209, 0.0], [48.84313755, 2.335254767, 3621.0], [43.6058532, 1.440898016, 308.0], [50.06156295, 19.93340907, 149.0], [51.24292505, 22.54197517, 81.0], [53.02118445, 18.5688082, 52.0], [52.2402217, 21.01884756, 398.0], [51.1137041, 17.0322332, 187.0], [52.3900169, 16.8757714, 70.0], [51.7713674, 19.47406772, 115.0], [59.8576902, 17.6297861, 926.0], [50.9039315, 12.07025489, 44.0], [36.14380105, -86.80281889, 8.0], [49.98594666, 36.2735405, 136.0], [53.46172375, -2.225997679, 522.0], [54.682847, 25.28784064, 5.0], [37.22192675, -80.42728184, 8.0], [51.7049787, 39.18517109, 181.0], [52.33396225, 4.865196501, 99.0], [35.70917975, 139.7197213, 9.0], [46.7337716, -117.1498035, 0.0], [38.6557573, -90.31031469, 67.0], [42.35720515, -83.07094979, 44.0], [31.9078499, 34.81334092, 40.0], [11.57164495, 104.8891927, 3.0], [51.96734215, 7.599243326, 3016.0], [41.25713055, -72.9896696, 3346.0], [40.1826478, 44.52725719, 0.0], [30.521595, 120.7195312, 85.0], [48.84495163, 2.33919311, 15.0], [48.8430502, 2.346015821, 28.0], [48.7127874, 2.2107453, 11.0], [46.5186594, 6.566561505, 28.0], [41.10504645, 29.02632677, 4.0]],\n",
       "                {&quot;blur&quot;: 15, &quot;maxZoom&quot;: 18, &quot;minOpacity&quot;: 0.5, &quot;radius&quot;: 25}\n",
       "            ).addTo(map_fa391bc8846a5b22db43f9df58cebdde);\n",
       "        \n",
       "&lt;/script&gt;\n",
       "&lt;/html&gt;\" style=\"position:absolute;width:100%;height:100%;left:0;top:0;border:none !important;\" allowfullscreen webkitallowfullscreen mozallowfullscreen></iframe></div></div>"
      ],
      "text/plain": [
       "<folium.folium.Map at 0x26c8955cf90>"
      ]
     },
     "metadata": {},
     "output_type": "display_data"
    }
   ],
   "source": [
    "map = plot_inf_univ(data, ignore_ones= True)\n"
   ]
  },
  {
   "cell_type": "code",
   "execution_count": null,
   "metadata": {},
   "outputs": [],
   "source": []
  }
 ],
 "metadata": {
  "colab": {
   "provenance": []
  },
  "kernelspec": {
   "display_name": "Python 3 (ipykernel)",
   "language": "python",
   "name": "python3"
  },
  "language_info": {
   "codemirror_mode": {
    "name": "ipython",
    "version": 3
   },
   "file_extension": ".py",
   "mimetype": "text/x-python",
   "name": "python",
   "nbconvert_exporter": "python",
   "pygments_lexer": "ipython3",
   "version": "3.11.5"
  }
 },
 "nbformat": 4,
 "nbformat_minor": 1
}

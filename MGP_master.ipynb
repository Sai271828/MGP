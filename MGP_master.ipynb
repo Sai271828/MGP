{
 "cells": [
  {
   "cell_type": "markdown",
   "metadata": {
    "id": "ahIsZjjNp1te"
   },
   "source": [
    "# Math genealogy project"
   ]
  },
  {
   "cell_type": "markdown",
   "metadata": {
    "id": "3RV2npq46AcA"
   },
   "source": [
    "MIT License\n",
    "\n",
    "Copyright (c) 2023\n",
    "Authors: [Venkata Sai Narayana Bavisetty](https://www.linkedin.com/in/venkata-sai-narayana-bavisetty-62814476/), [Karthik Vasu](https://www.linkedin.com/in/karthikvasu/)\n",
    "\n"
   ]
  },
  {
   "cell_type": "markdown",
   "metadata": {
    "id": "hEDB05nMp9IS"
   },
   "source": [
    "In this notebook, we outline the process of downloading math genealogy data and coordinates for different universities. We will conclude by analyzing the data and providing explanations for some of our findings.\n"
   ]
  },
  {
   "cell_type": "markdown",
   "metadata": {
    "id": "ZGXIVaVvqf4h"
   },
   "source": [
    "# Downloading math genealogy data"
   ]
  },
  {
   "cell_type": "markdown",
   "metadata": {
    "id": "yd56xQltq0Nf"
   },
   "source": [
    "In this notebook, we outline the process of downloading Math genealogy data and coordinates for different universities. We will conclude by analyzing the data and providing explanations for some of our findings.\n",
    "\n",
    "We utilized the [MGP API](https://mathgenealogy.org:8000/api/v2/MGP/) for data retrieval. Below is the script code for downloading the data. While the script is primarily sourced from the [MGP website](https://mathgenealogy.org:8000/login), we made modifications to implement exponential backoff in case of request failures. This adaptation is crucial for successfully downloading the entire dataset in one go.\n"
   ]
  },
  {
   "cell_type": "markdown",
   "metadata": {
    "id": "pp9xEZeR3IV7"
   },
   "source": [
    "\n",
    "We download data in batches of $100$ IDs. Although the website indicates that we can download $10,000$ IDs at once, we encountered difficulties when attempting to do so in batches of $10,000$ or even $1,000$."
   ]
  },
  {
   "cell_type": "code",
   "execution_count": 1,
   "metadata": {
    "colab": {
     "base_uri": "https://localhost:8080/"
    },
    "id": "gjya_gFbtv8p",
    "outputId": "d075c3fa-0326-4f80-cacf-2fa40ecb5070"
   },
   "outputs": [],
   "source": [
    "#pip install backoff"
   ]
  },
  {
   "cell_type": "code",
   "execution_count": 2,
   "metadata": {
    "id": "4NM6ShGfPSLu"
   },
   "outputs": [],
   "source": [
    "import requests\n",
    "import json\n",
    "import sys\n",
    "import backoff\n",
    "from getpass import getpass\n",
    "import csv\n",
    "from tqdm import tqdm\n",
    "from folium import plugins\n",
    "import folium\n",
    "from datetime import datetime"
   ]
  },
  {
   "cell_type": "code",
   "execution_count": 3,
   "metadata": {
    "id": "YzGYypy7qzih"
   },
   "outputs": [],
   "source": [
    "PROTOCOL = \"https\"\n",
    "HOSTNAME = \"mathgenealogy.org\"\n",
    "PORT = \"8000\"\n",
    "\n",
    "# Function to prompt on the console for the user's\n",
    "# email address and password to use to log in to\n",
    "# the MGP API. Password is not shown on console\n",
    "# while the user types it.\n",
    "def getlogin():\n",
    "    print(\"Enter email used for MGP authentication:\",end=\" \",file=sys.stderr)\n",
    "    email = input()\n",
    "    password = getpass()\n",
    "    return {'email': email, 'password': password}\n",
    "\n",
    "# Function to log in to the MGP API and get a JWT for authentication.\n",
    "# authdata is a dict with key email set to the user's email address\n",
    "# and key password set to the user's password.\n",
    "# If login is successful, returns a JSON object with key token set\n",
    "# to the JWT.\n",
    "# If login is unsuccessful, raises RuntimeError.\n",
    "def login(authdata):\n",
    "    r = requests.post(f\"{PROTOCOL}://{HOSTNAME}:{PORT}/login\", authdata)\n",
    "    if r.ok:\n",
    "        r.close()\n",
    "        return r.json()\n",
    "    else:\n",
    "        r.close()\n",
    "        raise RuntimeError(\"Failed to authenticate\")\n",
    "\n",
    "# Function to do a query against the MGP API. Returns a string with\n",
    "# the query result if the query was successfully executed. Raises\n",
    "# RuntimeError if there is an error.\n",
    "\n",
    "# endpoint is a string (beginning with /) such as \"/api/v2/MGP/acad/all\"\n",
    "# referring to an API endpoint\n",
    "\n",
    "# token is a dict with key token containing a JWT.\n",
    "# The return value from login() is the best way to get this.\n",
    "\n",
    "# params is a dict structured to contain the GET parameters.\n",
    "# For example, if quering /api/v2/MGP/acad, params could be\n",
    "# {'id': '1969'}.\n",
    "@backoff.on_exception(backoff.expo, (requests.exceptions.Timeout,requests.exceptions.RequestException), max_tries= 8)\n",
    "def doquery(endpoint,token, params):\n",
    "    headers = {'x-access-token': token['token']}\n",
    "    r = requests.get(f\"{PROTOCOL}://{HOSTNAME}:{PORT}{endpoint}\",headers = headers, params = params)\n",
    "    if r.ok:\n",
    "        r.close()\n",
    "        return r.text\n",
    "\n",
    "download_data = False\n",
    "\n",
    "# User modifications can be made here in this portion of the script.\n",
    "# Alternatively, import the functions above into your own python\n",
    "# script and write code similar to what is given here as the example.\n",
    "if download_data:\n",
    "    data=[]\n",
    "\n",
    "    authdata = getlogin()\n",
    "\n",
    "    # Get all ids from MGP\n",
    "    endpoint = '/api/v2/MGP/acad/all'\n",
    "    querydata = ''\n",
    "    token = login(authdata)\n",
    "    all_ids = json.loads(doquery(endpoint,token,querydata))\n",
    "    \n",
    "    # Download data for IDs\n",
    "    # We will download in batches of 100\n",
    "    max_id= int(max(all_ids)/100) +1\n",
    "    endpoint = '/api/v2/MGP/acad/range'\n",
    "    json_file = \"MGP_data_try.json\"\n",
    "\n",
    "    for id in range(max_id):\n",
    "        # The token changes every two hours\n",
    "        token = login(authdata)\n",
    "\n",
    "        querydata = {'start': id*100, \"stop\":(id+1)*100}\n",
    "        new_data = json.loads(doquery(endpoint,token,querydata))\n",
    "        data.extend(new_data)\n",
    "\n",
    "        # Save data to a JSON file\n",
    "        with open(json_file, 'w', encoding='utf-8') as file:\n",
    "            json.dump(data, file, indent=4, ensure_ascii=False)\n",
    "            \n",
    "\n",
    "\n",
    "\n"
   ]
  },
  {
   "cell_type": "markdown",
   "metadata": {},
   "source": [
    "# Processing the data"
   ]
  },
  {
   "cell_type": "markdown",
   "metadata": {},
   "source": [
    "The original data is formatted as a JSON file. Each row is a dictionary featuring the key `MGP_academic`. The corresponding value for this key is another dictionary encompassing the details of individuals within the math genealogy dataset. A sample element is presented below."
   ]
  },
  {
   "cell_type": "code",
   "execution_count": 5,
   "metadata": {
    "id": "3EbVBQeXpodv"
   },
   "outputs": [
    {
     "name": "stdout",
     "output_type": "stream",
     "text": [
      "The number of records are 299624\n",
      "Here is a sample element\n",
      "{\n",
      "    \"MGP_academic\": {\n",
      "        \"ID\": \"304941\",\n",
      "        \"family_name\": \"Scheepens\",\n",
      "        \"given_name\": \"Roeland\",\n",
      "        \"mrauth_id\": \"\",\n",
      "        \"other_names\": \"Johannus\",\n",
      "        \"student_data\": {\n",
      "            \"degrees\": [\n",
      "                {\n",
      "                    \"advised by\": {\n",
      "                        \"85417\": \"van de Wetering, Huub M. M.\",\n",
      "                        \"97935\": \"van Wijk, Jarke J.\"\n",
      "                    },\n",
      "                    \"degree_msc\": \"Unknown\",\n",
      "                    \"degree_type\": \"Ph.D.\",\n",
      "                    \"degree_year\": \"2015\",\n",
      "                    \"schools\": [\n",
      "                        \"Technische Universiteit Eindhoven, Netherlands\"\n",
      "                    ],\n",
      "                    \"thesis_title\": \"Visualization for maritime situational awareness\"\n",
      "                }\n",
      "            ],\n",
      "            \"descendants\": {\n",
      "                \"advisees\": [\n",
      "                    \"\"\n",
      "                ],\n",
      "                \"descendant_count\": 0\n",
      "            }\n",
      "        }\n",
      "    }\n",
      "}\n"
     ]
    }
   ],
   "source": [
    "import pandas as pd\n",
    "\n",
    "# Read the JSON file\n",
    "with open('MGP_data.json', 'r') as file:\n",
    "    all_data = json.load(file)\n",
    "\n",
    "print(f\"The number of records are {len(all_data)}\")\n",
    "print(f\"Here is a sample element\")\n",
    "print(json.dumps(all_data[100], indent=4))"
   ]
  },
  {
   "cell_type": "markdown",
   "metadata": {},
   "source": [
    "Here we access the JSON file and convert it into a Pandas dataframe with the required information. The data frame has the columns `ID`,  `family_name`, `given_name`, `school`, `year`, `descendants`, `country` and `subject`. However, for some of these fields may be `None` when information is not available."
   ]
  },
  {
   "cell_type": "code",
   "execution_count": 6,
   "metadata": {
    "id": "bNW3E-U90-H5"
   },
   "outputs": [],
   "source": [
    "data=[]\n",
    "\n",
    "school_split_len = []\n",
    "for temp_row in all_data:\n",
    "    row = temp_row['MGP_academic']\n",
    "\n",
    "    try:\n",
    "        school = row['student_data']['degrees'][0]['schools'][0]\n",
    "    except:\n",
    "        school = 'None'\n",
    "\n",
    "    split = school.split(',')\n",
    "    school_split_len.append(len(split))\n",
    "    if len(split)>1:\n",
    "        country = split[-1]\n",
    "    school = split[0]\n",
    "\n",
    "    try:\n",
    "        year = int(row['student_data']['degrees'][0]['degree_year'])\n",
    "    except:\n",
    "        year = 'None'\n",
    "    \n",
    "    try:\n",
    "        subject = int(row['student_data']['degrees'][0]['degree_msc'])\n",
    "    except:\n",
    "        subject = 'None'\n",
    "\n",
    "\n",
    "\n",
    "    new_row = {\n",
    "        'ID':row['ID'],\n",
    "        'family_name':row['family_name'],\n",
    "        'given_name':row['given_name'],\n",
    "        'school':school,\n",
    "        'year':year,\n",
    "        'descendants':row['student_data']['descendants']['descendant_count'],\n",
    "        'country':country,\n",
    "        'subject':subject\n",
    "        }\n",
    "    data.append(new_row)\n",
    "\n",
    "data = pd.DataFrame(data)"
   ]
  },
  {
   "cell_type": "code",
   "execution_count": 7,
   "metadata": {},
   "outputs": [
    {
     "data": {
      "text/html": [
       "<div>\n",
       "<style scoped>\n",
       "    .dataframe tbody tr th:only-of-type {\n",
       "        vertical-align: middle;\n",
       "    }\n",
       "\n",
       "    .dataframe tbody tr th {\n",
       "        vertical-align: top;\n",
       "    }\n",
       "\n",
       "    .dataframe thead th {\n",
       "        text-align: right;\n",
       "    }\n",
       "</style>\n",
       "<table border=\"1\" class=\"dataframe\">\n",
       "  <thead>\n",
       "    <tr style=\"text-align: right;\">\n",
       "      <th></th>\n",
       "      <th>ID</th>\n",
       "      <th>family_name</th>\n",
       "      <th>given_name</th>\n",
       "      <th>school</th>\n",
       "      <th>year</th>\n",
       "      <th>descendants</th>\n",
       "      <th>country</th>\n",
       "      <th>subject</th>\n",
       "    </tr>\n",
       "  </thead>\n",
       "  <tbody>\n",
       "    <tr>\n",
       "      <th>0</th>\n",
       "      <td>304969</td>\n",
       "      <td>Treffers</td>\n",
       "      <td>Menno</td>\n",
       "      <td>Universiteit Leiden</td>\n",
       "      <td>1985</td>\n",
       "      <td>0</td>\n",
       "      <td>Netherlands</td>\n",
       "      <td>None</td>\n",
       "    </tr>\n",
       "    <tr>\n",
       "      <th>1</th>\n",
       "      <td>304970</td>\n",
       "      <td>van der Tol</td>\n",
       "      <td>Johannes</td>\n",
       "      <td>Universiteit Leiden</td>\n",
       "      <td>1985</td>\n",
       "      <td>0</td>\n",
       "      <td>Netherlands</td>\n",
       "      <td>None</td>\n",
       "    </tr>\n",
       "    <tr>\n",
       "      <th>2</th>\n",
       "      <td>304971</td>\n",
       "      <td>van Houten</td>\n",
       "      <td>Henk</td>\n",
       "      <td>Universiteit Leiden</td>\n",
       "      <td>1984</td>\n",
       "      <td>0</td>\n",
       "      <td>Netherlands</td>\n",
       "      <td>None</td>\n",
       "    </tr>\n",
       "    <tr>\n",
       "      <th>3</th>\n",
       "      <td>304972</td>\n",
       "      <td>Hermans</td>\n",
       "      <td>Peter</td>\n",
       "      <td>Universiteit Leiden</td>\n",
       "      <td>1982</td>\n",
       "      <td>0</td>\n",
       "      <td>Netherlands</td>\n",
       "      <td>None</td>\n",
       "    </tr>\n",
       "    <tr>\n",
       "      <th>4</th>\n",
       "      <td>304973</td>\n",
       "      <td>Breunese</td>\n",
       "      <td>Jaap</td>\n",
       "      <td>Universiteit Leiden</td>\n",
       "      <td>1982</td>\n",
       "      <td>0</td>\n",
       "      <td>Netherlands</td>\n",
       "      <td>None</td>\n",
       "    </tr>\n",
       "  </tbody>\n",
       "</table>\n",
       "</div>"
      ],
      "text/plain": [
       "       ID  family_name given_name               school  year  descendants  \\\n",
       "0  304969     Treffers      Menno  Universiteit Leiden  1985            0   \n",
       "1  304970  van der Tol   Johannes  Universiteit Leiden  1985            0   \n",
       "2  304971   van Houten       Henk  Universiteit Leiden  1984            0   \n",
       "3  304972      Hermans      Peter  Universiteit Leiden  1982            0   \n",
       "4  304973     Breunese       Jaap  Universiteit Leiden  1982            0   \n",
       "\n",
       "        country subject  \n",
       "0   Netherlands    None  \n",
       "1   Netherlands    None  \n",
       "2   Netherlands    None  \n",
       "3   Netherlands    None  \n",
       "4   Netherlands    None  "
      ]
     },
     "execution_count": 7,
     "metadata": {},
     "output_type": "execute_result"
    }
   ],
   "source": [
    "data.head()"
   ]
  },
  {
   "cell_type": "markdown",
   "metadata": {},
   "source": [
    "## Exploratory data analysis"
   ]
  },
  {
   "cell_type": "markdown",
   "metadata": {},
   "source": [
    "Number of PhDs by year plot"
   ]
  },
  {
   "cell_type": "markdown",
   "metadata": {},
   "source": [
    "Number of PhDs by subject bar plot? or pie chart?"
   ]
  },
  {
   "cell_type": "markdown",
   "metadata": {},
   "source": [
    "List of people with most descendants by subject classification"
   ]
  },
  {
   "cell_type": "markdown",
   "metadata": {},
   "source": [
    "Number of people with no descendants you graduated in 2012. This could be correlated to people leaving for industry?"
   ]
  },
  {
   "cell_type": "markdown",
   "metadata": {},
   "source": [
    "Compare that to people with no desecendants in the past. Show the number of people with no descendants vs graduation year graph."
   ]
  },
  {
   "cell_type": "markdown",
   "metadata": {},
   "source": [
    "Compare the number of people staying in the country of their PhD as professors vs people moving out. Check specifically for US to India over time"
   ]
  },
  {
   "cell_type": "markdown",
   "metadata": {
    "id": "TWCFqDsK0-X2"
   },
   "source": [
    "# Downloading the coordinate data"
   ]
  },
  {
   "cell_type": "code",
   "execution_count": null,
   "metadata": {
    "id": "FcRO626V09fk"
   },
   "outputs": [],
   "source": [
    "def get_coordinates(university_name,use_Bing=False,bing_api_key=None):\n",
    "\n",
    "    # Bing API geocoder\n",
    "    if use_Bing:\n",
    "        geolocator = Bing(api_key=bing_api_key)\n",
    "\n",
    "    # Nominatim geocoder\n",
    "    else:\n",
    "        geolocator = Nominatim(user_agent=\"university_locator\")\n",
    "\n",
    "    university_name_no_filler = remove_fillers(university_name)\n",
    "\n",
    "    try:\n",
    "        # Use the geocode method to get the location information\n",
    "        location = geolocator.geocode(university_name_no_filler)\n",
    "\n",
    "        if location:\n",
    "            # Extract latitude and longitude\n",
    "            latitude, longitude = location.latitude, location.longitude\n",
    "            return [university_name,latitude,longitude]\n",
    "\n",
    "        else:\n",
    "            # if we did not get the location return location in Antartica\n",
    "            return [university_name,-82,135]\n",
    "            #print(f\"Coordinates for {university_name} not found.\")\n",
    "\n",
    "    except Exception as e:\n",
    "        #print(f\"An error occurred: {e}\")\n",
    "        #If there is an error we return None\n",
    "        return [university_name,None,None]\n",
    "\n",
    "def remove_fillers(sentence):\n",
    "\n",
    "    sentence = str(sentence)\n",
    "    # List of filler words\n",
    "    filler_words = ['the', 'of', 'and', 'in', 'to', 'a', 'is', 'that', 'it', 'with', 'as', 'on', 'for', 'at']\n",
    "\n",
    "    # Split the sentence into words\n",
    "    words = sentence.split()\n",
    "\n",
    "    # Remove filler words\n",
    "    filtered_words = [word for word in words if word.lower() not in filler_words]\n",
    "\n",
    "    # Join the remaining words to form the new sentence\n",
    "    new_sentence = ' '.join(filtered_words)\n",
    "\n",
    "    return new_sentence"
   ]
  },
  {
   "cell_type": "code",
   "execution_count": null,
   "metadata": {
    "id": "BqEQH7bROyux"
   },
   "outputs": [],
   "source": [
    "\n",
    "\n",
    "# Set download_coordinates to True if you want to download the coordinates\n",
    "download_coordinates = False\n",
    "\n",
    "# Path to the coordinates file if you have already downloaded it.\n",
    "coords_file = 'C:\\\\Users\\\\karth\\\\Code\\\\MGP\\\\data\\\\coordinates.csv'\n",
    "\n",
    "# If you want to use Bing maps API, set use_Bing to True and enter your API key\n",
    "use_Bing = False\n",
    "bing_api_key = None\n",
    "\n",
    "if download_coordinates:\n",
    "\n",
    "    import time\n",
    "\n",
    "    # Using Bing maps API for better performance. This requires a free account and an API key\n",
    "    from geopy.geocoders import Bing\n",
    "\n",
    "    # Alternatively we can use OpenStreetMaps API which is free and open source, but does not perform as well as Bing\n",
    "    from geopy.geocoders import Nominatim\n",
    "\n",
    "    # Get the unique schools\n",
    "    schools = data['school'].unique()\n",
    "\n",
    "    # Loop through the schools and save the recieved coordinates in coord\n",
    "    coords =[]\n",
    "    count = 0\n",
    "    for school in tqdm(schools):\n",
    "        coord = get_coordinates(school,use_Bing=use_Bing,bing_api_key=bing_api_key)\n",
    "        coords.append(coord)\n",
    "        count+=1\n",
    "\n",
    "        # Save coordinates every 500 iterations\n",
    "        if count%500==0:\n",
    "            with open('data/coords'+str(count)+'.csv','w', newline='') as file:\n",
    "                csv_writer = csv.writer(file)\n",
    "                csv_writer.writerows(coords)\n",
    "\n",
    "        # To prevent the API from blocking us\n",
    "        time.sleep(0.2)\n",
    "\n",
    "    # Save all the coordinates\n",
    "    with open('data/coordinates.csv','w', newline='') as file:\n",
    "        csv_writer = csv.writer(file)\n",
    "        csv_writer.writerow(['school','lat','lon'])\n",
    "        csv_writer.writerows(coords)\n",
    "    print(\"Done Downloading Coordinates\")\n",
    "\n",
    "else:\n",
    "    # Read the coordinates from the csv file\n",
    "    coords = pd.read_csv(coords_file)\n"
   ]
  },
  {
   "cell_type": "code",
   "execution_count": null,
   "metadata": {},
   "outputs": [],
   "source": [
    "# Merge the coordinates with the data\n",
    "data = pd.merge(data,coords,on='school',how='left')"
   ]
  },
  {
   "cell_type": "markdown",
   "metadata": {
    "id": "jz0ZZ7Qb1Lt1"
   },
   "source": [
    "# Making heatmaps"
   ]
  },
  {
   "cell_type": "code",
   "execution_count": null,
   "metadata": {
    "id": "w8aIs9yHp0Ua"
   },
   "outputs": [],
   "source": []
  },
  {
   "cell_type": "code",
   "execution_count": null,
   "metadata": {},
   "outputs": [],
   "source": [
    "def plot_inf_univ(full_data, t0 = 1950, t1 = 1960, ignore_ones = False, show_map = True):\n",
    "    period = full_data[ (full_data[\"year\"]>=t0) & (full_data['year']<t1)]\n",
    "\n",
    "    p = period[[\"school\",\"lat\",\"lon\",\"descendants\"]].groupby(['school'])\n",
    "    p = p[\"descendants\"].agg(['sum']).reset_index()\n",
    "    p = pd.merge(p,coords,on='school',how='left')\n",
    "\n",
    "    X = p[[\"lat\",\"lon\",\"sum\"]]\n",
    "    X.dropna(inplace=True)\n",
    "    if ignore_ones:\n",
    "        X = X[X[\"sum\"] != 1]\n",
    "        map = folium.Map(location = [5,30], tiles = \"Cartodb dark_matter\", zoom_start=2)\n",
    "\n",
    "        heat_data = X.values.tolist()\n",
    "\n",
    "        plugins.HeatMap(heat_data).add_to(map)\n",
    "\n",
    "        map.save(f\"heat_map_ignore_{t0}_to_{t1}.html\")\n",
    "        if show_map:\n",
    "            display(map)\n",
    "        return map\n",
    "        \n",
    "    else:\n",
    "        map = folium.Map(location = [5,30], tiles = \"Cartodb dark_matter\", zoom_start=2)\n",
    "\n",
    "        heat_data = X.values.tolist()\n",
    "\n",
    "        plugins.HeatMap(heat_data).add_to(map)\n",
    "\n",
    "        map.save(f\"heat_map_{t0}_to_{t1}.html\")\n",
    "        if show_map:\n",
    "            display(map)\n",
    "        return map\n"
   ]
  },
  {
   "cell_type": "code",
   "execution_count": null,
   "metadata": {},
   "outputs": [],
   "source": [
    "map = plot_inf_univ(data, ignore_ones= True)\n"
   ]
  },
  {
   "cell_type": "code",
   "execution_count": null,
   "metadata": {},
   "outputs": [],
   "source": []
  }
 ],
 "metadata": {
  "colab": {
   "provenance": []
  },
  "kernelspec": {
   "display_name": "Python 3 (ipykernel)",
   "language": "python",
   "name": "python3"
  },
  "language_info": {
   "codemirror_mode": {
    "name": "ipython",
    "version": 3
   },
   "file_extension": ".py",
   "mimetype": "text/x-python",
   "name": "python",
   "nbconvert_exporter": "python",
   "pygments_lexer": "ipython3",
   "version": "3.11.5"
  }
 },
 "nbformat": 4,
 "nbformat_minor": 1
}

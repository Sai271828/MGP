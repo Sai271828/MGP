{
 "cells": [
  {
   "cell_type": "markdown",
   "metadata": {
    "id": "ahIsZjjNp1te"
   },
   "source": [
    "# Math genealogy project"
   ]
  },
  {
   "cell_type": "markdown",
   "metadata": {
    "id": "3RV2npq46AcA"
   },
   "source": [
    "MIT License\n",
    "\n",
    "Copyright (c) 2023\n",
    "Authors: [Venkata Sai Narayana Bavisetty](https://www.linkedin.com/in/venkata-sai-narayana-bavisetty-62814476/), [Karthik Vasu](https://www.linkedin.com/in/karthikvasu/)\n",
    "\n"
   ]
  },
  {
   "cell_type": "markdown",
   "metadata": {
    "id": "hEDB05nMp9IS"
   },
   "source": [
    "In this notebook, we outline the process of downloading math genealogy data and coordinates for different universities. We will conclude by analyzing the data and providing explanations for some of our findings.\n"
   ]
  },
  {
   "cell_type": "markdown",
   "metadata": {
    "id": "ZGXIVaVvqf4h"
   },
   "source": [
    "# Downloading math genealogy data"
   ]
  },
  {
   "cell_type": "markdown",
   "metadata": {
    "id": "yd56xQltq0Nf"
   },
   "source": [
    "In this notebook, we outline the process of downloading Math genealogy data and coordinates for different universities. We will conclude by analyzing the data and providing explanations for some of our findings.\n",
    "\n",
    "We utilized the [MGP API](https://mathgenealogy.org:8000/api/v2/MGP/) for data retrieval. Below is the script code for downloading the data. While the script is primarily sourced from the [MGP website](https://mathgenealogy.org:8000/login), we made modifications to implement exponential backoff in case of request failures. This adaptation is crucial for successfully downloading the entire dataset in one go.\n"
   ]
  },
  {
   "cell_type": "markdown",
   "metadata": {
    "id": "pp9xEZeR3IV7"
   },
   "source": [
    "\n",
    "We download data in batches of $100$ IDs. Although the website indicates that we can download $10,000$ IDs at once, we encountered difficulties when attempting to do so in batches of $10,000$ or even $1,000$."
   ]
  },
  {
   "cell_type": "code",
   "execution_count": 1,
   "metadata": {
    "colab": {
     "base_uri": "https://localhost:8080/"
    },
    "id": "gjya_gFbtv8p",
    "outputId": "d075c3fa-0326-4f80-cacf-2fa40ecb5070"
   },
   "outputs": [],
   "source": [
    "#pip install backoff"
   ]
  },
  {
   "cell_type": "code",
   "execution_count": 2,
   "metadata": {
    "id": "4NM6ShGfPSLu"
   },
   "outputs": [],
   "source": [
    "import requests\n",
    "import json\n",
    "import sys\n",
    "import backoff\n",
    "from getpass import getpass\n",
    "import csv\n",
    "from tqdm import tqdm\n",
    "from folium import plugins\n",
    "import folium\n",
    "from datetime import datetime"
   ]
  },
  {
   "cell_type": "code",
   "execution_count": 3,
   "metadata": {
    "id": "YzGYypy7qzih"
   },
   "outputs": [],
   "source": [
    "PROTOCOL = \"https\"\n",
    "HOSTNAME = \"mathgenealogy.org\"\n",
    "PORT = \"8000\"\n",
    "\n",
    "# Function to prompt on the console for the user's\n",
    "# email address and password to use to log in to\n",
    "# the MGP API. Password is not shown on console\n",
    "# while the user types it.\n",
    "def getlogin():\n",
    "    print(\"Enter email used for MGP authentication:\",end=\" \",file=sys.stderr)\n",
    "    email = input()\n",
    "    password = getpass()\n",
    "    return {'email': email, 'password': password}\n",
    "\n",
    "# Function to log in to the MGP API and get a JWT for authentication.\n",
    "# authdata is a dict with key email set to the user's email address\n",
    "# and key password set to the user's password.\n",
    "# If login is successful, returns a JSON object with key token set\n",
    "# to the JWT.\n",
    "# If login is unsuccessful, raises RuntimeError.\n",
    "def login(authdata):\n",
    "    r = requests.post(f\"{PROTOCOL}://{HOSTNAME}:{PORT}/login\", authdata)\n",
    "    if r.ok:\n",
    "        r.close()\n",
    "        return r.json()\n",
    "    else:\n",
    "        r.close()\n",
    "        raise RuntimeError(\"Failed to authenticate\")\n",
    "\n",
    "# Function to do a query against the MGP API. Returns a string with\n",
    "# the query result if the query was successfully executed. Raises\n",
    "# RuntimeError if there is an error.\n",
    "\n",
    "# endpoint is a string (beginning with /) such as \"/api/v2/MGP/acad/all\"\n",
    "# referring to an API endpoint\n",
    "\n",
    "# token is a dict with key token containing a JWT.\n",
    "# The return value from login() is the best way to get this.\n",
    "\n",
    "# params is a dict structured to contain the GET parameters.\n",
    "# For example, if quering /api/v2/MGP/acad, params could be\n",
    "# {'id': '1969'}.\n",
    "@backoff.on_exception(backoff.expo, (requests.exceptions.Timeout,requests.exceptions.RequestException), max_tries= 8)\n",
    "def doquery(endpoint,token, params):\n",
    "    headers = {'x-access-token': token['token']}\n",
    "    r = requests.get(f\"{PROTOCOL}://{HOSTNAME}:{PORT}{endpoint}\",headers = headers, params = params)\n",
    "    if r.ok:\n",
    "        r.close()\n",
    "        return r.text\n",
    "\n",
    "download_data = False\n",
    "\n",
    "# User modifications can be made here in this portion of the script.\n",
    "# Alternatively, import the functions above into your own python\n",
    "# script and write code similar to what is given here as the example.\n",
    "if download_data:\n",
    "    data=[]\n",
    "\n",
    "    authdata = getlogin()\n",
    "\n",
    "    # Get all ids from MGP\n",
    "    endpoint = '/api/v2/MGP/acad/all'\n",
    "    querydata = ''\n",
    "    token = login(authdata)\n",
    "    all_ids = json.loads(doquery(endpoint,token,querydata))\n",
    "    \n",
    "    # Download data for IDs\n",
    "    # We will download in batches of 100\n",
    "    max_id= int(max(all_ids)/100) +1\n",
    "    endpoint = '/api/v2/MGP/acad/range'\n",
    "    json_file = \"MGP_data_try.json\"\n",
    "\n",
    "    for id in range(max_id):\n",
    "        # The token changes every two hours\n",
    "        token = login(authdata)\n",
    "\n",
    "        querydata = {'start': id*100, \"stop\":(id+1)*100}\n",
    "        new_data = json.loads(doquery(endpoint,token,querydata))\n",
    "        data.extend(new_data)\n",
    "\n",
    "        # Save data to a JSON file\n",
    "        with open(json_file, 'w', encoding='utf-8') as file:\n",
    "            json.dump(data, file, indent=4, ensure_ascii=False)\n",
    "\n"
   ]
  },
  {
   "cell_type": "markdown",
   "metadata": {},
   "source": [
    "# Processing the data"
   ]
  },
  {
   "cell_type": "markdown",
   "metadata": {},
   "source": [
    "The original data is formatted as a JSON file. Each row is a dictionary featuring the key `MGP_academic`. The corresponding value for this key is another dictionary encompassing the details of individuals within the math genealogy dataset. A sample element is presented below."
   ]
  },
  {
   "cell_type": "code",
   "execution_count": 4,
   "metadata": {
    "id": "3EbVBQeXpodv"
   },
   "outputs": [
    {
     "name": "stdout",
     "output_type": "stream",
     "text": [
      "The number of records are 299624\n",
      "Here is a sample element\n",
      "{\n",
      "    \"MGP_academic\": {\n",
      "        \"ID\": \"304941\",\n",
      "        \"family_name\": \"Scheepens\",\n",
      "        \"given_name\": \"Roeland\",\n",
      "        \"mrauth_id\": \"\",\n",
      "        \"other_names\": \"Johannus\",\n",
      "        \"student_data\": {\n",
      "            \"degrees\": [\n",
      "                {\n",
      "                    \"advised by\": {\n",
      "                        \"85417\": \"van de Wetering, Huub M. M.\",\n",
      "                        \"97935\": \"van Wijk, Jarke J.\"\n",
      "                    },\n",
      "                    \"degree_msc\": \"Unknown\",\n",
      "                    \"degree_type\": \"Ph.D.\",\n",
      "                    \"degree_year\": \"2015\",\n",
      "                    \"schools\": [\n",
      "                        \"Technische Universiteit Eindhoven, Netherlands\"\n",
      "                    ],\n",
      "                    \"thesis_title\": \"Visualization for maritime situational awareness\"\n",
      "                }\n",
      "            ],\n",
      "            \"descendants\": {\n",
      "                \"advisees\": [\n",
      "                    \"\"\n",
      "                ],\n",
      "                \"descendant_count\": 0\n",
      "            }\n",
      "        }\n",
      "    }\n",
      "}\n"
     ]
    }
   ],
   "source": [
    "import pandas as pd\n",
    "\n",
    "# Read the JSON file\n",
    "with open('.\\\\data\\\\MGP_data.json', 'r') as file:\n",
    "    all_data = json.load(file)\n",
    "\n",
    "print(f\"The number of records are {len(all_data)}\")\n",
    "print(f\"Here is a sample element\")\n",
    "print(json.dumps(all_data[100], indent=4))"
   ]
  },
  {
   "cell_type": "markdown",
   "metadata": {},
   "source": [
    "Here we access the JSON file and convert it into a Pandas dataframe with the required information. The data frame has the columns `ID`,  `family_name`, `given_name`, `school`, `year`, `descendants`, `country` and `subject`. However, for some of these fields may be `None` when information is not available."
   ]
  },
  {
   "cell_type": "code",
   "execution_count": 8,
   "metadata": {
    "id": "bNW3E-U90-H5"
   },
   "outputs": [],
   "source": [
    "data=[]\n",
    "\n",
    "school_split_len = []\n",
    "for temp_row in all_data:\n",
    "    row = temp_row['MGP_academic']\n",
    "\n",
    "    try:\n",
    "        school = row['student_data']['degrees'][0]['schools'][0]\n",
    "    except:\n",
    "        school = None\n",
    "    \"\"\"\n",
    "    if school is None:\n",
    "        country = None\n",
    "    else:\n",
    "        split = school.split(',')\n",
    "        school_split_len.append(len(split))\n",
    "        if len(split)>1:\n",
    "            country = split[-1]\n",
    "        school = split[0]\n",
    "    \"\"\"\n",
    "    try:\n",
    "        year = int(row['student_data']['degrees'][0]['degree_year'])\n",
    "    except:\n",
    "        year = None\n",
    "    \n",
    "    try:\n",
    "        subject = int(row['student_data']['degrees'][0]['degree_msc'])\n",
    "    except:\n",
    "        subject = None\n",
    "\n",
    "\n",
    "\n",
    "    new_row = {\n",
    "        'ID':row['ID'],\n",
    "        #'family_name':row['family_name'],\n",
    "        #'given_name':row['given_name'],\n",
    "        'school':school,\n",
    "        'year':year,\n",
    "        'descendants':row['student_data']['descendants']['descendant_count'],\n",
    "        #'country':country,\n",
    "        #'subject':subject\n",
    "        }\n",
    "    data.append(new_row)\n",
    "\n",
    "data = pd.DataFrame(data)"
   ]
  },
  {
   "cell_type": "code",
   "execution_count": 9,
   "metadata": {},
   "outputs": [
    {
     "data": {
      "text/plain": [
       "(299624, 4)"
      ]
     },
     "execution_count": 9,
     "metadata": {},
     "output_type": "execute_result"
    }
   ],
   "source": [
    "data.shape"
   ]
  },
  {
   "cell_type": "markdown",
   "metadata": {},
   "source": [
    "## Exploratory data analysis"
   ]
  },
  {
   "cell_type": "markdown",
   "metadata": {},
   "source": [
    "Number of PhDs by year plot"
   ]
  },
  {
   "cell_type": "markdown",
   "metadata": {},
   "source": [
    "Number of PhDs by subject bar plot? or pie chart?"
   ]
  },
  {
   "cell_type": "markdown",
   "metadata": {},
   "source": [
    "List of people with most descendants by subject classification"
   ]
  },
  {
   "cell_type": "markdown",
   "metadata": {},
   "source": [
    "Number of people with no descendants you graduated in 2012. This could be correlated to people leaving for industry?"
   ]
  },
  {
   "cell_type": "markdown",
   "metadata": {},
   "source": [
    "Compare that to people with no desecendants in the past. Show the number of people with no descendants vs graduation year graph."
   ]
  },
  {
   "cell_type": "markdown",
   "metadata": {},
   "source": [
    "Compare the number of people staying in the country of their PhD as professors vs people moving out. Check specifically for US to India over time"
   ]
  },
  {
   "cell_type": "markdown",
   "metadata": {
    "id": "TWCFqDsK0-X2"
   },
   "source": [
    "# Downloading the coordinate data"
   ]
  },
  {
   "cell_type": "code",
   "execution_count": 5,
   "metadata": {
    "id": "FcRO626V09fk"
   },
   "outputs": [],
   "source": [
    "def get_coordinates(university_name,use_Bing=False,bing_api_key=None):\n",
    "\n",
    "    # Bing API geocoder\n",
    "    if use_Bing:\n",
    "        geolocator = Bing(api_key=bing_api_key)\n",
    "\n",
    "    # Nominatim geocoder\n",
    "    else:\n",
    "        geolocator = Nominatim(user_agent=\"university_locator\")\n",
    "\n",
    "    university_name_no_filler = remove_fillers(university_name)\n",
    "\n",
    "    try:\n",
    "        # Use the geocode method to get the location information\n",
    "        location = geolocator.geocode(university_name_no_filler)\n",
    "\n",
    "        if location:\n",
    "            # Extract latitude and longitude\n",
    "            latitude, longitude = location.latitude, location.longitude\n",
    "            return [university_name,latitude,longitude]\n",
    "\n",
    "        else:\n",
    "            # if we did not get the location return location in Antartica\n",
    "            return [university_name,-82,135]\n",
    "            #print(f\"Coordinates for {university_name} not found.\")\n",
    "\n",
    "    except Exception as e:\n",
    "        #print(f\"An error occurred: {e}\")\n",
    "        #If there is an error we return None\n",
    "        return [university_name,None,None]\n",
    "\n",
    "def remove_fillers(sentence):\n",
    "\n",
    "    sentence = str(sentence)\n",
    "    # List of filler words\n",
    "    filler_words = ['the', 'of', 'and', 'in', 'to', 'a', 'is', 'that', 'it', 'with', 'as', 'on', 'for', 'at']\n",
    "\n",
    "    # Split the sentence into words\n",
    "    words = sentence.split()\n",
    "\n",
    "    # Remove filler words\n",
    "    filtered_words = [word for word in words if word.lower() not in filler_words]\n",
    "\n",
    "    # Join the remaining words to form the new sentence\n",
    "    new_sentence = ' '.join(filtered_words)\n",
    "\n",
    "    return new_sentence"
   ]
  },
  {
   "cell_type": "code",
   "execution_count": 6,
   "metadata": {
    "id": "BqEQH7bROyux"
   },
   "outputs": [],
   "source": [
    "import os\n",
    "\n",
    "# Set download_coordinates to True if you want to download the coordinates\n",
    "download_coordinates = False\n",
    "\n",
    "# Path to the coordinates file if you have already downloaded it.\n",
    "coords_file = '.\\\\data\\\\new_coords.csv'\n",
    "\n",
    "# If you want to use Bing maps API, set use_Bing to True and enter your API key\n",
    "use_Bing = False\n",
    "#bing_api_key = os.getenv('BING_API_KEY')\n",
    "downloaded_file = \"data/new_coords\"\n",
    "\n",
    "if download_coordinates:\n",
    "\n",
    "    import time\n",
    "\n",
    "    # Using Bing maps API for better performance. This requires a free account and an API key\n",
    "    from geopy.geocoders import Bing\n",
    "\n",
    "    # Alternatively we can use OpenStreetMaps API which is free and open source, but does not perform as well as Bing\n",
    "    from geopy.geocoders import Nominatim\n",
    "\n",
    "    # Get the unique schools\n",
    "    schools = data['school'].unique()\n",
    "\n",
    "    # Loop through the schools and save the recieved coordinates in coord\n",
    "    coords =[]\n",
    "    count = 0\n",
    "    for school in tqdm(schools):\n",
    "        coord = get_coordinates(school,use_Bing=use_Bing,bing_api_key=bing_api_key)\n",
    "        coords.append(coord)\n",
    "        count+=1\n",
    "\n",
    "        # Save coordinates every 500 iterations\n",
    "        if count%500==0:\n",
    "            with open(downloaded_file+str(count)+'.csv','w', newline='') as file:\n",
    "                csv_writer = csv.writer(file)\n",
    "                csv_writer.writerows(coords)\n",
    "\n",
    "        # To prevent the API from blocking us\n",
    "        time.sleep(0.2)\n",
    "\n",
    "    # Save all the coordinates\n",
    "    with open(downloaded_file+'.csv','w', newline='') as file:\n",
    "        csv_writer = csv.writer(file)\n",
    "        csv_writer.writerow(['school','lat','lon'])\n",
    "        csv_writer.writerows(coords)\n",
    "    print(\"Done Downloading Coordinates\")\n",
    "\n",
    "else:\n",
    "    # Read the coordinates from the csv file\n",
    "    coords = pd.read_csv(coords_file)\n"
   ]
  },
  {
   "cell_type": "code",
   "execution_count": 10,
   "metadata": {},
   "outputs": [],
   "source": [
    "# Merge the coordinates with the data\n",
    "data = pd.merge(data,coords,on='school',how='left')"
   ]
  },
  {
   "cell_type": "markdown",
   "metadata": {
    "id": "jz0ZZ7Qb1Lt1"
   },
   "source": [
    "# Making heatmaps"
   ]
  },
  {
   "cell_type": "code",
   "execution_count": 11,
   "metadata": {
    "id": "w8aIs9yHp0Ua"
   },
   "outputs": [
    {
     "name": "stdout",
     "output_type": "stream",
     "text": [
      "(299626, 6)\n"
     ]
    },
    {
     "data": {
      "text/plain": [
       "2750"
      ]
     },
     "execution_count": 11,
     "metadata": {},
     "output_type": "execute_result"
    }
   ],
   "source": [
    "print(data.shape)\n",
    "\n",
    "schools = data['school'].unique()\n",
    "len(schools)"
   ]
  },
  {
   "cell_type": "code",
   "execution_count": 40,
   "metadata": {},
   "outputs": [],
   "source": [
    "def plot_inf_univ(full_data, t0=1950, t1=1960, ignore_zeroes=True, show_map=True):\n",
    "    \"\"\"\n",
    "    Plots a heatmap of descendants originating from universities\n",
    "    between years t0 (inclusive) and t1 (exclusive)\n",
    "\n",
    "    Args:\n",
    "        full_data: Pandas DataFrame containing descendant data\n",
    "        t0: Starting year (inclusive)\n",
    "        t1: Ending year (exclusive)\n",
    "        ignore_zeroes: Whether to ignore universities with no descendants\n",
    "        show_map: Whether to display the map\n",
    "\n",
    "    Returns:\n",
    "        folium.Map object\n",
    "    \"\"\"\n",
    "\n",
    "    # Suppress chained assignment warnings\n",
    "    pd.options.mode.chained_assignment = None\n",
    "\n",
    "    loc = f\"Descendants from {t0} to {t1}\"\n",
    "    title_html = f'''\n",
    "        <h3 align=\"center\" style=\"font-size:16px\"><b>{loc}</b></h3>\n",
    "        '''\n",
    "\n",
    "    # Drop NaN values and filter data by year range\n",
    "    full_data.dropna(inplace=True)\n",
    "    period = full_data[(full_data[\"year\"] >= t0) & (full_data[\"year\"] < t1)]\n",
    "\n",
    "    # Group data by university and sum descendants\n",
    "    p = period[[\"school\", \"lat\", \"lon\", \"descendants\"]].groupby([\"school\"])\n",
    "    p = p[\"descendants\"].agg([\"sum\"]).reset_index()\n",
    "\n",
    "    # Merge data with coordinates\n",
    "    p = pd.merge(p, coords, on=\"school\", how=\"left\")\n",
    "\n",
    "    # Extract relevant data for heatmap\n",
    "    X = p[[\"lat\", \"lon\", \"sum\"]]\n",
    "    X.dropna(inplace=True)\n",
    "\n",
    "    # Remove universities with no descendants (optional)\n",
    "    if ignore_zeroes:\n",
    "        X = X[X[\"sum\"] != 0]\n",
    "\n",
    "    # Create map object\n",
    "    map = folium.Map(location=[5, 30], tiles=\"Cartodb dark_matter\", zoom_start=2)\n",
    "\n",
    "    # Convert data to format suitable for heatmap plugin\n",
    "    heat_data = X.values.tolist()\n",
    "\n",
    "    # Add heatmap layer to map\n",
    "    plugins.HeatMap(heat_data).add_to(map)\n",
    "\n",
    "    # Add time period popup to map\n",
    "    map.get_root().html.add_child(folium.Element(title_html))\n",
    "\n",
    "    # Save map with appropriate filename based on ignore_zeroes setting\n",
    "    if ignore_zeroes:\n",
    "        map.save(f\"heat_map_ignore_{t0}_to_{t1}.html\")\n",
    "    else:\n",
    "        map.save(f\"heat_map_{t0}_to_{t1}.html\")\n",
    "\n",
    "    # Display map if requested\n",
    "    if show_map:\n",
    "        display(map)\n",
    "\n",
    "    return map\n"
   ]
  },
  {
   "cell_type": "code",
   "execution_count": 41,
   "metadata": {
    "scrolled": true
   },
   "outputs": [
    {
     "data": {
      "text/html": [
       "<div style=\"width:100%;\"><div style=\"position:relative;width:100%;height:0;padding-bottom:60%;\"><span style=\"color:#565656\">Make this Notebook Trusted to load map: File -> Trust Notebook</span><iframe srcdoc=\"&lt;!DOCTYPE html&gt;\n",
       "&lt;html&gt;\n",
       "&lt;head&gt;\n",
       "    \n",
       "    &lt;meta http-equiv=&quot;content-type&quot; content=&quot;text/html; charset=UTF-8&quot; /&gt;\n",
       "    \n",
       "        &lt;script&gt;\n",
       "            L_NO_TOUCH = false;\n",
       "            L_DISABLE_3D = false;\n",
       "        &lt;/script&gt;\n",
       "    \n",
       "    &lt;style&gt;html, body {width: 100%;height: 100%;margin: 0;padding: 0;}&lt;/style&gt;\n",
       "    &lt;style&gt;#map {position:absolute;top:0;bottom:0;right:0;left:0;}&lt;/style&gt;\n",
       "    &lt;script src=&quot;https://cdn.jsdelivr.net/npm/leaflet@1.9.3/dist/leaflet.js&quot;&gt;&lt;/script&gt;\n",
       "    &lt;script src=&quot;https://code.jquery.com/jquery-1.12.4.min.js&quot;&gt;&lt;/script&gt;\n",
       "    &lt;script src=&quot;https://cdn.jsdelivr.net/npm/bootstrap@5.2.2/dist/js/bootstrap.bundle.min.js&quot;&gt;&lt;/script&gt;\n",
       "    &lt;script src=&quot;https://cdnjs.cloudflare.com/ajax/libs/Leaflet.awesome-markers/2.0.2/leaflet.awesome-markers.js&quot;&gt;&lt;/script&gt;\n",
       "    &lt;link rel=&quot;stylesheet&quot; href=&quot;https://cdn.jsdelivr.net/npm/leaflet@1.9.3/dist/leaflet.css&quot;/&gt;\n",
       "    &lt;link rel=&quot;stylesheet&quot; href=&quot;https://cdn.jsdelivr.net/npm/bootstrap@5.2.2/dist/css/bootstrap.min.css&quot;/&gt;\n",
       "    &lt;link rel=&quot;stylesheet&quot; href=&quot;https://netdna.bootstrapcdn.com/bootstrap/3.0.0/css/bootstrap.min.css&quot;/&gt;\n",
       "    &lt;link rel=&quot;stylesheet&quot; href=&quot;https://cdn.jsdelivr.net/npm/@fortawesome/fontawesome-free@6.2.0/css/all.min.css&quot;/&gt;\n",
       "    &lt;link rel=&quot;stylesheet&quot; href=&quot;https://cdnjs.cloudflare.com/ajax/libs/Leaflet.awesome-markers/2.0.2/leaflet.awesome-markers.css&quot;/&gt;\n",
       "    &lt;link rel=&quot;stylesheet&quot; href=&quot;https://cdn.jsdelivr.net/gh/python-visualization/folium/folium/templates/leaflet.awesome.rotate.min.css&quot;/&gt;\n",
       "    \n",
       "            &lt;meta name=&quot;viewport&quot; content=&quot;width=device-width,\n",
       "                initial-scale=1.0, maximum-scale=1.0, user-scalable=no&quot; /&gt;\n",
       "            &lt;style&gt;\n",
       "                #map_18b2b2d650033544b4fc02769f50e939 {\n",
       "                    position: relative;\n",
       "                    width: 100.0%;\n",
       "                    height: 100.0%;\n",
       "                    left: 0.0%;\n",
       "                    top: 0.0%;\n",
       "                }\n",
       "                .leaflet-container { font-size: 1rem; }\n",
       "            &lt;/style&gt;\n",
       "        \n",
       "    &lt;script src=&quot;https://cdn.jsdelivr.net/gh/python-visualization/folium@main/folium/templates/leaflet_heat.min.js&quot;&gt;&lt;/script&gt;\n",
       "&lt;/head&gt;\n",
       "&lt;body&gt;\n",
       "    \n",
       "    \n",
       "        &lt;h3 align=&quot;center&quot; style=&quot;font-size:16px&quot;&gt;&lt;b&gt;Descendants from 1950 to 1960&lt;/b&gt;&lt;/h3&gt;\n",
       "        \n",
       "    \n",
       "            &lt;div class=&quot;folium-map&quot; id=&quot;map_18b2b2d650033544b4fc02769f50e939&quot; &gt;&lt;/div&gt;\n",
       "        \n",
       "&lt;/body&gt;\n",
       "&lt;script&gt;\n",
       "    \n",
       "    \n",
       "            var map_18b2b2d650033544b4fc02769f50e939 = L.map(\n",
       "                &quot;map_18b2b2d650033544b4fc02769f50e939&quot;,\n",
       "                {\n",
       "                    center: [5.0, 30.0],\n",
       "                    crs: L.CRS.EPSG3857,\n",
       "                    zoom: 2,\n",
       "                    zoomControl: true,\n",
       "                    preferCanvas: false,\n",
       "                }\n",
       "            );\n",
       "\n",
       "            \n",
       "\n",
       "        \n",
       "    \n",
       "            var tile_layer_ca92ae92eb138f693c52bc0ab7ab1119 = L.tileLayer(\n",
       "                &quot;https://cartodb-basemaps-{s}.global.ssl.fastly.net/dark_all/{z}/{x}/{y}.png&quot;,\n",
       "                {&quot;attribution&quot;: &quot;\\u0026copy; \\u003ca target=\\&quot;_blank\\&quot; href=\\&quot;http://www.openstreetmap.org/copyright\\&quot;\\u003eOpenStreetMap\\u003c/a\\u003e contributors \\u0026copy; \\u003ca target=\\&quot;_blank\\&quot; href=\\&quot;http://cartodb.com/attributions\\&quot;\\u003eCartoDB\\u003c/a\\u003e, CartoDB \\u003ca target=\\&quot;_blank\\&quot; href =\\&quot;http://cartodb.com/attributions\\&quot;\\u003eattributions\\u003c/a\\u003e&quot;, &quot;detectRetina&quot;: false, &quot;maxNativeZoom&quot;: 18, &quot;maxZoom&quot;: 18, &quot;minZoom&quot;: 0, &quot;noWrap&quot;: false, &quot;opacity&quot;: 1, &quot;subdomains&quot;: &quot;abc&quot;, &quot;tms&quot;: false}\n",
       "            ).addTo(map_18b2b2d650033544b4fc02769f50e939);\n",
       "        \n",
       "    \n",
       "            var heat_map_4b1d01452949b773d159d12a9dd3fa75 = L.heatLayer(\n",
       "                [[36.55937195, 103.7533493, 65.0], [50.06452942, 19.92374992, 53.0], [47.99417114, 7.84694004, 1396.0], [47.17467499, 27.57160187, 51.0], [27.9145298, 78.07752991, 31.0], [39.93500137, 32.83169937, 2.0], [-35.28019333, 149.11767578, 271.0], [46.76766968, 23.59136963, 132.0], [40.37298584, 49.81113815, 17.0], [49.78858948, 9.93552017, 45.0], [51.52022171, -0.12986009, 23.0], [41.82819366, -71.39990234, 2182.0], [22.57647514, 88.36180878, 543.0], [39.50357056, -99.01832581, 3636.0], [51.49277496, -3.18504333, 159.0], [40.44292831, -79.94275665, 1332.0], [41.5107193, -81.60707092, 37.0], [46.62480927, 2.45837402, 767.0], [50.08840179, 14.40369987, 504.0], [54.33889008, 10.12250042, 1301.0], [42.25170898, -71.82363892, 1.0], [48.84905624, 2.34552121, 25.0], [40.80732727, -73.96176147, 7318.0], [48.14122009, 17.11594391, 2.0], [42.45424271, -76.4813385, 1462.0], [49.73923874, 15.3317976, 60.0], [38.65811157, -90.26731873, 422.0], [43.71815872, -72.26668549, 68.0], [48.47329712, 35.00191498, 308.0], [35.99642563, -78.91738129, 496.0], [47.37641525, 8.54810238, 2203.0], [48.52544785, 9.06171322, 2199.0], [51.91727829, 4.52602386, 33.0], [47.4904213, 19.05844498, 39.0], [48.85689545, 2.35084867, 995.0], [52.4479332, 13.28576183, 306.0], [49.60218048, 11.01177406, 600.0], [50.9284668, 11.5822897, 182.0], [51.54383087, 9.94176483, 4647.0], [40.81263351, -73.95376587, 7.0], [38.90904236, -77.0747757, 9.0], [32.64828873, -83.44437408, 40.0], [52.38219833, 9.71780014, 284.0], [59.32511902, 18.07109261, 5.0], [42.37420273, -71.11627197, 13703.0], [31.77344513, 35.19736862, 697.0], [60.17192459, 24.94982719, 796.0], [43.07468796, 141.34083557, 3.0], [52.53033066, 13.38296795, 1203.0], [47.1652832, 19.41218948, 295.0], [40.12414551, -89.14863586, 74.0], [51.49881363, -0.17486399, 783.0], [22.33023834, 87.32365417, 1.0], [22.56557274, 88.37021637, 95.0], [39.1717186, -86.50167084, 585.0], [46.62480927, 2.45837402, 2.0], [52.12467194, 19.40042686, 1.0], [38.89300537, -77.04775238, 148.0], [45.83976746, 24.98456573, 64.0], [44.43558121, 26.10222054, 5.0], [52.12467194, 19.40042686, 130.0], [-22.96528435, -43.23793793, 82.0], [42.01955795, -93.64385223, 1121.0], [49.84018326, 24.0222435, 132.0], [41.70999908, 44.77833176, 69.0], [56.99546814, 40.97821808, 23.0], [43.83819199, 126.54928589, 104.0], [50.11824799, 8.65140629, 278.0], [49.99201202, 8.23829174, 392.0], [50.57678223, 8.66331863, 284.0], [39.19746017, -96.58454132, 7.0], [49.00944519, 8.41161156, 21.0], [50.87796021, 4.70026588, 5.0], [51.84169388, 5.85865116, 3.0], [55.79069901, 49.12189865, 107.0], [49.98594666, 36.2735405, 6.0], [50.44190216, 30.51131439, 255.0], [51.51166534, -0.116223, 268.0], [59.34998703, 18.06982613, 1053.0], [55.81211853, 37.47526932, 62.0], [35.0232048, 135.78443909, 386.0], [33.62783813, 130.42297363, 22.0], [55.67933655, 12.57098198, 42.0], [51.96643448, 5.65831041, 56.0], [61.66702652, 99.09856415, 17.0], [40.60486221, -75.37735748, 46.0], [59.94166183, 30.30098724, 15.0], [55.70284653, 37.53059387, 2591.0], [51.2620081, -0.1522929, 388.0], [30.41377068, -91.16902161, 32.0], [48.1504097, 11.5804739, 3123.0], [55.70293045, 13.19294453, 618.0], [51.48625565, 11.96957874, 178.0], [49.19863129, 16.60544014, 94.0], [42.17237473, -71.60503387, 13876.0], [45.50649643, -73.5798645, 117.0], [42.7019043, -84.48150635, 38.0], [47.01831818, 28.82403183, 1.0], [61.66702652, 99.09856415, 12.0], [61.66702652, 99.09856415, 285.0], [35.15472031, 136.9669342, 198.0], [51.2429574, -0.5928056, 36.0], [40.73889542, -73.97800446, 1572.0], [56.29943848, 43.98332977, 8.0], [35.77954483, -78.67736053, 436.0], [42.05439377, -87.69577789, 323.0], [46.62480927, 2.45837402, 15.0], [46.48749924, 30.73119926, 12.0], [36.1275444, -97.07408905, 4.0], [44.56346512, -123.28255463, 116.0], [34.81727219, 135.52645874, 179.0], [30.76201057, 76.76638031, 14.0], [39.99285126, 116.3109436, 28.0], [58.00788498, 56.18704224, 84.0], [50.81082916, 8.77361012, 83.0], [52.22124481, 21.00768089, 70.0], [51.10856247, 17.06049728, 20.0], [45.47862625, 9.22834015, 140.0], [52.12467194, 19.40042686, 229.0], [40.73889542, -73.97800446, 433.0], [28.14021492, -81.84324646, 63.0], [40.34233856, -74.65603638, 13527.0], [45.14022827, 16.42813301, 86.0], [40.42803192, -86.92464447, 1964.0], [51.41877775, -0.10312625, 25.0], [54.58424377, -5.93373108, 292.0], [42.38188934, -71.12618256, 24.0], [42.73215485, -73.67466736, 4.0], [50.77873611, 6.07741499, 373.0], [50.73370361, 7.10256767, 272.0], [29.71723175, -95.40277863, 642.0], [53.19889832, 5.79640007, 253.0], [45.83976746, 24.98456573, 55.0], [47.22303772, 39.72137451, 62.0], [49.41784668, 8.66932392, 1045.0], [38.6354332, -90.23322296, 14.0], [61.66702652, 99.09856415, 2.0], [43.71943283, 10.40013123, 14.0], [44.23060226, 20.7939949, 103.0], [49.93777847, 17.89666939, 20.0], [48.84471893, 2.34388995, 15.0], [54.50928116, 36.27381897, 9.0], [61.66702652, 99.09856415, 3.0], [59.94166183, 30.30098724, 1083.0], [37.42795563, -122.17184448, 5391.0], [61.66702652, 99.09856415, 127.0], [59.36611176, 18.0601387, 714.0], [51.60929108, -3.97966409, 6.0], [43.03820419, -76.13464355, 354.0], [39.64445877, 66.96183777, 12.0], [47.47961426, 19.05638885, 86.0], [55.78531265, 12.52049255, 5.0], [52.22124481, 21.00768089, 3.0], [30.81242561, 34.859478, 64.0], [51.35720444, 11.99227333, 20.0], [48.78152466, 9.17469406, 118.0], [51.99757767, 4.3751502, 803.0], [50.92476273, 13.33382797, 93.0], [52.51258087, 13.32678032, 334.0], [52.27335739, 10.53064251, 15.0], [51.80472183, 10.33444023, 147.0], [49.87584305, 8.65664577, 356.0], [51.02806091, 13.72667027, 393.0], [47.06915665, 15.45024967, 3.0], [50.68266678, 10.93632317, 55.0], [48.14954758, 11.56776524, 439.0], [63.24677658, 25.9209156, 23.0], [30.61027908, -96.34361267, 5.0], [38.93717575, -77.08914185, 16.0], [38.93259811, -76.99782562, 5.0], [38.89921951, -77.04801178, 1.0], [39.32925415, -76.6212616, 920.0], [40.01520538, -83.03659821, 797.0], [40.80312347, -77.85286713, 21.0], [41.8832283, -87.63240051, 11201.0], [55.94381714, -3.18808675, 82.0], [41.66213608, -91.55791473, 234.0], [35.90575027, -79.04873657, 1872.0], [35.21938324, -97.44792938, 97.0], [51.56259918, 5.04710007, 58.0], [56.4693985, 84.94750214, 28.0], [53.3437233, -6.25461674, 5.0], [29.9397068, -90.12065887, 540.0], [60.45627975, 22.28525734, 2.0], [40.4375, -3.72480512, 565.0], [-32.87981033, -68.8794632, 2.0], [41.38586044, 2.16435742, 317.0], [-34.600811, -58.40837479, 33.0], [37.18422699, -3.60056472, 3.0], [40.44916534, -3.72805595, 448.0], [40.20740128, -8.42650032, 38.0], [38.75367737, -9.15851593, 44.0], [-22.0000515, -47.93125916, 231.0], [51.01084518, 3.71048975, 3.0], [52.15694046, 4.48528004, 1007.0], [52.08597565, 5.17484617, 1361.0], [52.36854172, 4.89021587, 3002.0], [59.93896103, 10.72195053, 5.0], [53.30679321, -6.22376823, 7.0], [51.52381516, -0.1330597, 733.0], [42.69649124, 23.32600975, 4.0], [57.16480255, -2.10205007, 89.0], [-34.91899872, 138.60440063, 330.0], [44.81861115, 20.45750046, 758.0], [52.4499321, -1.93152285, 626.0], [51.45796585, -2.60253167, 129.0], [49.25802612, -123.24305725, 15.0], [44.43559265, 26.10082054, 418.0], [37.87189865, -122.25849915, 4636.0], [38.54672623, -121.74433899, 14.0], [33.9970932, -117.83753967, 1358.0], [52.21055984, 0.08616186, 10851.0], [-33.9545517, 18.47084236, 51.0], [39.14841286, -84.47633056, 28.0], [40.00742722, -105.26633453, 36.0], [41.57515335, -72.73828125, 7.0], [39.66525269, -75.74617004, 61.0], [28.69000053, 77.20999908, 50.0], [54.76379013, -1.57382619, 70.0], [29.6414299, -82.35647583, 12.0], [31.57870674, -84.15026855, 33.0], [55.8716507, -4.28842688, 118.0], [40.11251831, -88.22888184, 3275.0], [38.95255661, -95.26589966, 120.0], [38.0270195, -84.50534058, 12.0], [53.80628967, -1.55621433, 1.0], [53.40552139, -2.96123624, 221.0], [46.04917526, 14.50419712, 1.0], [51.42471313, -0.56266898, 2406.0], [26.8619957, 80.93729401, 19.0], [49.84018326, 24.0222435, 50.0], [13.06584167, 80.28277588, 10.0], [53.46814728, -2.23413324, 68.0], [39.25567245, -76.70980835, 9.0], [38.98670959, -76.94740295, 454.0], [-37.79917908, 144.9641571, 32.0], [42.27693939, -83.73806, 4244.0], [44.95000076, -93.19999695, 809.0], [38.94531631, -92.32906342, 22.0], [18.97500038, 72.82582855, 64.0], [-29.86908531, 30.97401237, 6.0], [-41.28430557, 174.77027893, 4.0], [33.21137619, -97.15072632, 4.0], [41.70300293, -86.2354126, 140.0], [52.93941116, -1.19878376, 55.0], [44.04432297, -123.07236481, 69.0], [51.76114655, -1.25338602, 2352.0], [39.951931, -75.19461823, 687.0], [40.44416428, -79.95941925, 13.0], [51.44100952, -0.94264203, 13.0], [43.11229324, -77.62974548, 260.0], [43.85818481, 18.41234207, 6.0], [53.38221359, -1.46700859, 27.0], [42.69412231, 23.33545113, 7.0], [34.02149582, -118.28678894, 241.0], [56.34121323, -2.79301119, 464.0], [-33.88857269, 151.18760681, 44.0], [46.25361633, 20.14613533, 23.0], [58.38106918, 26.7195015, 63.0], [-33.90242004, 151.20779419, 20.0], [35.95282364, -83.94454193, 253.0], [30.26497841, -97.74659729, 1198.0], [35.70811462, 139.76745605, 825.0], [43.66167068, -79.39499664, 718.0], [40.76153183, -111.83558655, 1099.0], [38.03258514, -78.51531219, 231.0], [53.225379, -4.1390515, 7.0], [51.4837789, -3.1690833, 6.0], [38.64799881, -90.30500031, 785.0], [42.99670029, -81.2736969, 6.0], [43.07184982, -89.40789032, 2011.0], [45.80904007, 15.97044277, 289.0], [-26.19293594, 28.02677917, 581.0], [44.64500046, 10.92778015, 10.0], [45.46121216, 9.18655968, 41.0], [40.84230042, 14.25627899, 20.0], [45.65910339, 13.79464436, 7.0], [44.41500092, 8.92580032, 1.0], [43.72172165, 10.39568233, 22.0], [41.9032135, 12.51540089, 383.0], [47.55910873, 7.5835371, 338.0], [50.99067688, 11.00863457, 10.0], [47.07794571, 15.44983292, 1.0], [54.09463882, 13.37462616, 2.0], [53.56594086, 9.98441029, 661.0], [47.26332855, 11.3844471, 26.0], [51.33915329, 12.37904644, 870.0], [49.48339844, 8.46297741, 5.0], [54.07567596, 12.0978756, 323.0], [48.74583435, 9.10542107, 68.0], [48.21300888, 16.36086082, 1151.0], [47.37472153, 8.54833031, 121.0], [49.25556183, 7.04166985, 111.0], [50.92629623, 6.92934513, 83.0], [44.80693817, -0.60000002, 29.0], [50.66971207, 4.61592197, 96.0], [48.66556168, 6.15944004, 4901.0], [50.8117218, 4.38108444, 686.0], [48.58160019, 7.76480007, 23.0], [48.84828949, 2.34287238, 210.0], [43.56315613, 1.46283925, 216.0], [48.84722137, 2.35638905, 50.0], [48.85471725, 2.34715796, 2.0], [44.83499527, -0.57549518, 96.0], [46.20111084, 6.14277983, 19.0], [45.19034958, 5.76713133, 107.0], [46.52232742, 6.57948065, 3.0], [45.74814987, 4.85235214, 5.0], [48.85689545, 2.35084867, 3621.0], [43.60440063, 1.44389999, 308.0], [50.06082916, 19.93277931, 149.0], [51.24555969, 22.54055977, 81.0], [52.12467194, 19.40042686, 52.0], [52.240242, 21.01867676, 398.0], [51.11327744, 17.03605461, 187.0], [52.40813828, 16.91544151, 70.0], [51.7716713, 19.47306061, 115.0], [59.8576889, 17.62978554, 926.0], [56.84400177, 60.65390015, 63.0], [56.8404007, 60.6167984, 44.0], [36.13861465, -86.80606842, 8.0], [49.98594666, 36.2735405, 136.0], [53.4680912, -2.2400768, 522.0], [54.68294525, 25.28774643, 5.0], [37.21538162, -80.42939758, 8.0], [51.65693283, 39.2057457, 181.0], [52.33430481, 4.86319685, 99.0], [35.7066803, 139.72232056, 9.0], [38.64310074, -90.31230927, 67.0], [42.35664749, -83.07086945, 44.0], [31.9080677, 34.81433105, 40.0], [42.99670029, -81.2736969, 3.0], [51.96358109, 7.61320591, 3016.0], [52.12467194, 19.40042686, 22.0], [41.31506348, -72.9254837, 3346.0], [29.17010498, 120.07197571, 85.0], [48.84495163, 2.33919311, 15.0], [48.84167862, 2.34479189, 28.0], [46.51909256, 6.56671047, 28.0], [48.71326828, 2.21016502, 11.0], [41.10435486, 29.02753067, 4.0]],\n",
       "                {&quot;blur&quot;: 15, &quot;maxZoom&quot;: 18, &quot;minOpacity&quot;: 0.5, &quot;radius&quot;: 25}\n",
       "            ).addTo(map_18b2b2d650033544b4fc02769f50e939);\n",
       "        \n",
       "&lt;/script&gt;\n",
       "&lt;/html&gt;\" style=\"position:absolute;width:100%;height:100%;left:0;top:0;border:none !important;\" allowfullscreen webkitallowfullscreen mozallowfullscreen></iframe></div></div>"
      ],
      "text/plain": [
       "<folium.folium.Map at 0x1da50a31bb0>"
      ]
     },
     "metadata": {},
     "output_type": "display_data"
    }
   ],
   "source": [
    "map = plot_inf_univ(data)\n"
   ]
  },
  {
   "cell_type": "code",
   "execution_count": 50,
   "metadata": {},
   "outputs": [],
   "source": [
    "def heatmap_time(full_data, t0=1950, t1=2020, ignore_zeroes=True, show_map=True):\n",
    "    \"\"\"\n",
    "    Generates an animated heatmap illustrating descendant distribution\n",
    "    across universities for each 5-year period between t0 and t1.\n",
    "\n",
    "    Args:\n",
    "        full_data: Pandas DataFrame containing descendant data\n",
    "        t0: Starting year (inclusive)\n",
    "        t1: Ending year (exclusive)\n",
    "        ignore_zeroes: Whether to ignore universities with no descendants\n",
    "        show_map: Whether to display the map\n",
    "\n",
    "    Returns:\n",
    "        folium.Map object\n",
    "    \"\"\"\n",
    "    def update_title(t):\n",
    "        # Extract the current time from the index\n",
    "        loc = f\"Descendants from {t} to {t+4}\"\n",
    "        title_html = f'''\n",
    "            <h3 align=\"center\" style=\"font-size:16px\"><b>{loc}</b></h3>\n",
    "            '''\n",
    "\n",
    "        # Update the map title based on the current time\n",
    "        map.get_root().html.find(\"h3\").replace_with(\n",
    "            folium.Element(title_html)\n",
    "    )\n",
    "\n",
    "\n",
    "\n",
    "\n",
    "\n",
    "\n",
    "    # Suppress chained assignment warnings\n",
    "    pd.options.mode.chained_assignment = None\n",
    "    \n",
    "    # Create map object\n",
    "    map = folium.Map(location=[5, 30], tiles=\"Cartodb dark_matter\", zoom_start=2)\n",
    "\n",
    "    # Initialize empty list to store heatmap data for each time period\n",
    "    time_period_data = []\n",
    "\n",
    "    for t in range(t0, t1, 5):\n",
    "        loc = f\"Descendants from {t0} to {t0+4}\"\n",
    "        title_html = f'''\n",
    "        <h3 align=\"center\" style=\"font-size:16px\"><b>{loc}</b></h3>\n",
    "        '''\n",
    "        # Filter data for the current 5-year period\n",
    "        period = full_data[(full_data[\"year\"] >= t) & (full_data[\"year\"] < t + 5)]\n",
    "\n",
    "        # Group data by university and sum descendants\n",
    "        p = period[[\"school\", \"lat\", \"lon\", \"descendants\"]].groupby([\"school\"])\n",
    "        p = p[\"descendants\"].agg([\"sum\"]).reset_index()\n",
    "\n",
    "        # Merge data with coordinates\n",
    "        p = pd.merge(p, coords, on=\"school\", how=\"left\")\n",
    "\n",
    "        # Extract relevant data for heatmap\n",
    "        X = p[[\"lat\", \"lon\", \"sum\"]]\n",
    "        X.dropna(inplace=True)\n",
    "\n",
    "        # Remove universities with no descendants (optional)\n",
    "        if ignore_zeroes:\n",
    "            X = X[X[\"sum\"] != 0]\n",
    "\n",
    "        # Append heatmap data for this time period to the list\n",
    "        time_period_data.append(X.values.tolist())\n",
    "        \n",
    "       \n",
    "\n",
    "    \n",
    "    \n",
    "    \n",
    "\n",
    "    # Add HeatMapWithTime plugin with data and animation options\n",
    "    plugins.HeatMapWithTime(time_period_data, auto_play=True, max_opacity=0.3).add_to(map)\n",
    "    \n",
    "    # Add time period popup to map\n",
    "    map.add_callback(update_title(1950))\n",
    "\n",
    "    # Save map with appropriate filename based on ignore_zeroes setting\n",
    "    if ignore_zeroes:\n",
    "        map.save(f\"heat_map_ignore_{t0}_to_{t1}.html\")\n",
    "    else:\n",
    "        map.save(f\"heat_map_{t0}_to_{t1}.html\")\n",
    "\n",
    "    if show_map:\n",
    "        display(map)\n",
    "\n",
    "    return map\n"
   ]
  },
  {
   "cell_type": "code",
   "execution_count": 51,
   "metadata": {},
   "outputs": [
    {
     "ename": "AttributeError",
     "evalue": "'Map' object has no attribute 'add_callback'",
     "output_type": "error",
     "traceback": [
      "\u001b[1;31m---------------------------------------------------------------------------\u001b[0m",
      "\u001b[1;31mAttributeError\u001b[0m                            Traceback (most recent call last)",
      "\u001b[1;32m~\\AppData\\Local\\Temp\\ipykernel_15784\\1366420089.py\u001b[0m in \u001b[0;36m<module>\u001b[1;34m\u001b[0m\n\u001b[1;32m----> 1\u001b[1;33m \u001b[0mheatmap_time\u001b[0m\u001b[1;33m(\u001b[0m\u001b[0mdata\u001b[0m\u001b[1;33m,\u001b[0m \u001b[0mt0\u001b[0m \u001b[1;33m=\u001b[0m \u001b[1;36m1950\u001b[0m\u001b[1;33m,\u001b[0m \u001b[0mt1\u001b[0m \u001b[1;33m=\u001b[0m \u001b[1;36m2020\u001b[0m\u001b[1;33m,\u001b[0m \u001b[0mignore_zeroes\u001b[0m \u001b[1;33m=\u001b[0m \u001b[1;32mTrue\u001b[0m\u001b[1;33m,\u001b[0m \u001b[0mshow_map\u001b[0m \u001b[1;33m=\u001b[0m \u001b[1;32mTrue\u001b[0m\u001b[1;33m)\u001b[0m\u001b[1;33m\u001b[0m\u001b[1;33m\u001b[0m\u001b[0m\n\u001b[0m",
      "\u001b[1;32m~\\AppData\\Local\\Temp\\ipykernel_15784\\2201077489.py\u001b[0m in \u001b[0;36mheatmap_time\u001b[1;34m(full_data, t0, t1, ignore_zeroes, show_map)\u001b[0m\n\u001b[0;32m     76\u001b[0m \u001b[1;33m\u001b[0m\u001b[0m\n\u001b[0;32m     77\u001b[0m     \u001b[1;31m# Add time period popup to map\u001b[0m\u001b[1;33m\u001b[0m\u001b[1;33m\u001b[0m\u001b[0m\n\u001b[1;32m---> 78\u001b[1;33m     \u001b[0mmap\u001b[0m\u001b[1;33m.\u001b[0m\u001b[0madd_callback\u001b[0m\u001b[1;33m(\u001b[0m\u001b[0mupdate_title\u001b[0m\u001b[1;33m(\u001b[0m\u001b[1;36m1950\u001b[0m\u001b[1;33m)\u001b[0m\u001b[1;33m)\u001b[0m\u001b[1;33m\u001b[0m\u001b[1;33m\u001b[0m\u001b[0m\n\u001b[0m\u001b[0;32m     79\u001b[0m \u001b[1;33m\u001b[0m\u001b[0m\n\u001b[0;32m     80\u001b[0m     \u001b[1;31m# Save map with appropriate filename based on ignore_zeroes setting\u001b[0m\u001b[1;33m\u001b[0m\u001b[1;33m\u001b[0m\u001b[0m\n",
      "\u001b[1;31mAttributeError\u001b[0m: 'Map' object has no attribute 'add_callback'"
     ]
    }
   ],
   "source": [
    "heatmap_time(data, t0 = 1950, t1 = 2020, ignore_zeroes = True, show_map = True)"
   ]
  },
  {
   "cell_type": "code",
   "execution_count": null,
   "metadata": {},
   "outputs": [],
   "source": []
  }
 ],
 "metadata": {
  "colab": {
   "provenance": []
  },
  "kernelspec": {
   "display_name": "Python 3 (ipykernel)",
   "language": "python",
   "name": "python3"
  },
  "language_info": {
   "codemirror_mode": {
    "name": "ipython",
    "version": 3
   },
   "file_extension": ".py",
   "mimetype": "text/x-python",
   "name": "python",
   "nbconvert_exporter": "python",
   "pygments_lexer": "ipython3",
   "version": "3.9.18"
  }
 },
 "nbformat": 4,
 "nbformat_minor": 1
}

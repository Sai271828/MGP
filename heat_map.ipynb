{
 "cells": [
  {
   "cell_type": "code",
   "execution_count": 2,
   "metadata": {},
   "outputs": [],
   "source": [
    "import json\n",
    "import pandas as pd\n",
    "\n",
    "from folium import plugins\n",
    "import folium\n"
   ]
  },
  {
   "cell_type": "code",
   "execution_count": 8,
   "metadata": {},
   "outputs": [],
   "source": [
    "descendants = pd.read_csv(\"data/descendants.csv\")"
   ]
  },
  {
   "cell_type": "code",
   "execution_count": 9,
   "metadata": {},
   "outputs": [
    {
     "data": {
      "text/plain": [
       "0             11\n",
       "1          19930\n",
       "2              4\n",
       "3          19939\n",
       "4              1\n",
       "           ...  \n",
       "256764     33501\n",
       "256765     74611\n",
       "256766     33507\n",
       "256767    235565\n",
       "256768    164293\n",
       "Name: id, Length: 256769, dtype: int64"
      ]
     },
     "execution_count": 9,
     "metadata": {},
     "output_type": "execute_result"
    }
   ],
   "source": [
    "descendants[\"id\"]"
   ]
  },
  {
   "cell_type": "code",
   "execution_count": 10,
   "metadata": {},
   "outputs": [],
   "source": [
    "data = pd.read_csv(\"data/data.csv\")"
   ]
  },
  {
   "cell_type": "code",
   "execution_count": 11,
   "metadata": {},
   "outputs": [
    {
     "data": {
      "text/html": [
       "<div>\n",
       "<style scoped>\n",
       "    .dataframe tbody tr th:only-of-type {\n",
       "        vertical-align: middle;\n",
       "    }\n",
       "\n",
       "    .dataframe tbody tr th {\n",
       "        vertical-align: top;\n",
       "    }\n",
       "\n",
       "    .dataframe thead th {\n",
       "        text-align: right;\n",
       "    }\n",
       "</style>\n",
       "<table border=\"1\" class=\"dataframe\">\n",
       "  <thead>\n",
       "    <tr style=\"text-align: right;\">\n",
       "      <th></th>\n",
       "      <th>id</th>\n",
       "      <th>name</th>\n",
       "      <th>thesis</th>\n",
       "      <th>school</th>\n",
       "      <th>country</th>\n",
       "      <th>year</th>\n",
       "      <th>subject</th>\n",
       "      <th>advisors</th>\n",
       "      <th>students</th>\n",
       "    </tr>\n",
       "  </thead>\n",
       "  <tbody>\n",
       "    <tr>\n",
       "      <th>0</th>\n",
       "      <td>11</td>\n",
       "      <td>Alfred E. Engelbrecht</td>\n",
       "      <td>Coupled Bending and Torsional Free Vibration o...</td>\n",
       "      <td>Iowa State University</td>\n",
       "      <td>UnitedStates</td>\n",
       "      <td>1949.0</td>\n",
       "      <td>NaN</td>\n",
       "      <td>[1]</td>\n",
       "      <td>[]</td>\n",
       "    </tr>\n",
       "    <tr>\n",
       "      <th>1</th>\n",
       "      <td>4</td>\n",
       "      <td>Charles Joseph Thorne</td>\n",
       "      <td>The Approximate Solution of Linear Differentia...</td>\n",
       "      <td>Iowa State University</td>\n",
       "      <td>UnitedStates</td>\n",
       "      <td>1941.0</td>\n",
       "      <td>NaN</td>\n",
       "      <td>[239]</td>\n",
       "      <td>[19930, 19939]</td>\n",
       "    </tr>\n",
       "    <tr>\n",
       "      <th>2</th>\n",
       "      <td>1</td>\n",
       "      <td>Ernest Willard Anderson</td>\n",
       "      <td>Statics of Special Types of Homogeneous Elasti...</td>\n",
       "      <td>Iowa State University</td>\n",
       "      <td>UnitedStates</td>\n",
       "      <td>1933.0</td>\n",
       "      <td>74—Mechanics of deformable solids</td>\n",
       "      <td>[258]</td>\n",
       "      <td>[11, 28, 31]</td>\n",
       "    </tr>\n",
       "    <tr>\n",
       "      <th>3</th>\n",
       "      <td>7</td>\n",
       "      <td>Carl Eric Langenhop</td>\n",
       "      <td>Properties of Kernels of Integral Equations Wh...</td>\n",
       "      <td>Iowa State University</td>\n",
       "      <td>UnitedStates</td>\n",
       "      <td>1948.0</td>\n",
       "      <td>NaN</td>\n",
       "      <td>[281]</td>\n",
       "      <td>[48, 104689, 38, 33, 3026, 39, 32, 35]</td>\n",
       "    </tr>\n",
       "    <tr>\n",
       "      <th>4</th>\n",
       "      <td>6</td>\n",
       "      <td>William B. Stiles</td>\n",
       "      <td>Solutions of Clamped Plated Problems by Means ...</td>\n",
       "      <td>Iowa State University</td>\n",
       "      <td>UnitedStates</td>\n",
       "      <td>1945.0</td>\n",
       "      <td>NaN</td>\n",
       "      <td>[258]</td>\n",
       "      <td>[]</td>\n",
       "    </tr>\n",
       "  </tbody>\n",
       "</table>\n",
       "</div>"
      ],
      "text/plain": [
       "   id                     name  \\\n",
       "0  11    Alfred E. Engelbrecht   \n",
       "1   4    Charles Joseph Thorne   \n",
       "2   1  Ernest Willard Anderson   \n",
       "3   7      Carl Eric Langenhop   \n",
       "4   6        William B. Stiles   \n",
       "\n",
       "                                              thesis                 school  \\\n",
       "0  Coupled Bending and Torsional Free Vibration o...  Iowa State University   \n",
       "1  The Approximate Solution of Linear Differentia...  Iowa State University   \n",
       "2  Statics of Special Types of Homogeneous Elasti...  Iowa State University   \n",
       "3  Properties of Kernels of Integral Equations Wh...  Iowa State University   \n",
       "4  Solutions of Clamped Plated Problems by Means ...  Iowa State University   \n",
       "\n",
       "        country    year                            subject advisors  \\\n",
       "0  UnitedStates  1949.0                                NaN      [1]   \n",
       "1  UnitedStates  1941.0                                NaN    [239]   \n",
       "2  UnitedStates  1933.0  74—Mechanics of deformable solids    [258]   \n",
       "3  UnitedStates  1948.0                                NaN    [281]   \n",
       "4  UnitedStates  1945.0                                NaN    [258]   \n",
       "\n",
       "                                 students  \n",
       "0                                      []  \n",
       "1                          [19930, 19939]  \n",
       "2                            [11, 28, 31]  \n",
       "3  [48, 104689, 38, 33, 3026, 39, 32, 35]  \n",
       "4                                      []  "
      ]
     },
     "execution_count": 11,
     "metadata": {},
     "output_type": "execute_result"
    }
   ],
   "source": [
    "data.head()"
   ]
  },
  {
   "cell_type": "code",
   "execution_count": 124,
   "metadata": {},
   "outputs": [],
   "source": [
    "s2 = data['id']"
   ]
  },
  {
   "cell_type": "code",
   "execution_count": 125,
   "metadata": {},
   "outputs": [],
   "source": [
    "coords = pd.read_csv(\"data/coordinates.csv\")"
   ]
  },
  {
   "cell_type": "code",
   "execution_count": 126,
   "metadata": {},
   "outputs": [
    {
     "data": {
      "text/plain": [
       "(256769, 11)"
      ]
     },
     "execution_count": 126,
     "metadata": {},
     "output_type": "execute_result"
    }
   ],
   "source": [
    "merged = pd.merge(data,coords,on='school',how='left')\n",
    "merged.shape\n"
   ]
  },
  {
   "cell_type": "code",
   "execution_count": 159,
   "metadata": {},
   "outputs": [
    {
     "data": {
      "text/plain": [
       "Index(['id', 'name', 'thesis', 'school', 'country', 'year', 'subject',\n",
       "       'advisors', 'students', 'lat', 'lon', 'descendants'],\n",
       "      dtype='object')"
      ]
     },
     "execution_count": 159,
     "metadata": {},
     "output_type": "execute_result"
    }
   ],
   "source": [
    "merged2 = pd.merge(merged,descend,on='id',how=\"left\")\n",
    "merged2.columns"
   ]
  },
  {
   "cell_type": "markdown",
   "metadata": {},
   "source": [
    "## Influential universities"
   ]
  },
  {
   "cell_type": "code",
   "execution_count": 146,
   "metadata": {},
   "outputs": [
    {
     "data": {
      "text/plain": [
       "(3911, 2)"
      ]
     },
     "execution_count": 146,
     "metadata": {},
     "output_type": "execute_result"
    }
   ],
   "source": [
    "inf_uni = merged2[[\"school\",\"lat\",\"lon\",\"descendants\"]].groupby(['school'])\n",
    "inf_uni = inf_uni[\"descendants\"].agg(['sum']).reset_index()\n",
    "inf_uni = inf_uni.iloc[1:,:]\n",
    "inf_uni.shape\n"
   ]
  },
  {
   "cell_type": "code",
   "execution_count": 145,
   "metadata": {},
   "outputs": [
    {
     "data": {
      "text/plain": [
       "(3911, 4)"
      ]
     },
     "execution_count": 145,
     "metadata": {},
     "output_type": "execute_result"
    }
   ],
   "source": [
    "merged3 = pd.merge(inf_uni,coords,on='school',how='left')\n",
    "merged3.shape"
   ]
  },
  {
   "cell_type": "code",
   "execution_count": 147,
   "metadata": {},
   "outputs": [
    {
     "data": {
      "text/html": [
       "<div>\n",
       "<style scoped>\n",
       "    .dataframe tbody tr th:only-of-type {\n",
       "        vertical-align: middle;\n",
       "    }\n",
       "\n",
       "    .dataframe tbody tr th {\n",
       "        vertical-align: top;\n",
       "    }\n",
       "\n",
       "    .dataframe thead th {\n",
       "        text-align: right;\n",
       "    }\n",
       "</style>\n",
       "<table border=\"1\" class=\"dataframe\">\n",
       "  <thead>\n",
       "    <tr style=\"text-align: right;\">\n",
       "      <th></th>\n",
       "      <th>school</th>\n",
       "      <th>sum</th>\n",
       "      <th>lat</th>\n",
       "      <th>lon</th>\n",
       "    </tr>\n",
       "  </thead>\n",
       "  <tbody>\n",
       "    <tr>\n",
       "      <th>0</th>\n",
       "      <td>(Candidate of Sciences) Novosibirsk State Univ...</td>\n",
       "      <td>4</td>\n",
       "      <td>54.846317</td>\n",
       "      <td>83.093750</td>\n",
       "    </tr>\n",
       "    <tr>\n",
       "      <th>1</th>\n",
       "      <td>(Candidate of Sciences) Sobolev Institute of M...</td>\n",
       "      <td>1</td>\n",
       "      <td>55.049999</td>\n",
       "      <td>82.949997</td>\n",
       "    </tr>\n",
       "    <tr>\n",
       "      <th>2</th>\n",
       "      <td>(Doctorat 3e cycle) École Normale Supérie</td>\n",
       "      <td>1</td>\n",
       "      <td>48.821259</td>\n",
       "      <td>2.315226</td>\n",
       "    </tr>\n",
       "    <tr>\n",
       "      <th>3</th>\n",
       "      <td>(Doctorat d'Etat) Université Paris Diderot - P...</td>\n",
       "      <td>1</td>\n",
       "      <td>48.829723</td>\n",
       "      <td>2.380833</td>\n",
       "    </tr>\n",
       "    <tr>\n",
       "      <th>4</th>\n",
       "      <td>(Doctorat d'Etat) École Polytechnique</td>\n",
       "      <td>1</td>\n",
       "      <td>48.713268</td>\n",
       "      <td>2.210165</td>\n",
       "    </tr>\n",
       "  </tbody>\n",
       "</table>\n",
       "</div>"
      ],
      "text/plain": [
       "                                              school  sum        lat  \\\n",
       "0  (Candidate of Sciences) Novosibirsk State Univ...    4  54.846317   \n",
       "1  (Candidate of Sciences) Sobolev Institute of M...    1  55.049999   \n",
       "2          (Doctorat 3e cycle) École Normale Supérie    1  48.821259   \n",
       "3  (Doctorat d'Etat) Université Paris Diderot - P...    1  48.829723   \n",
       "4              (Doctorat d'Etat) École Polytechnique    1  48.713268   \n",
       "\n",
       "         lon  \n",
       "0  83.093750  \n",
       "1  82.949997  \n",
       "2   2.315226  \n",
       "3   2.380833  \n",
       "4   2.210165  "
      ]
     },
     "execution_count": 147,
     "metadata": {},
     "output_type": "execute_result"
    }
   ],
   "source": [
    "merged3.head()"
   ]
  },
  {
   "cell_type": "code",
   "execution_count": 154,
   "metadata": {},
   "outputs": [
    {
     "name": "stderr",
     "output_type": "stream",
     "text": [
      "C:\\Users\\karth\\AppData\\Local\\Temp\\ipykernel_15520\\1309021871.py:2: SettingWithCopyWarning: \n",
      "A value is trying to be set on a copy of a slice from a DataFrame\n",
      "\n",
      "See the caveats in the documentation: https://pandas.pydata.org/pandas-docs/stable/user_guide/indexing.html#returning-a-view-versus-a-copy\n",
      "  X.dropna(inplace=True)\n"
     ]
    },
    {
     "data": {
      "text/html": [
       "<div>\n",
       "<style scoped>\n",
       "    .dataframe tbody tr th:only-of-type {\n",
       "        vertical-align: middle;\n",
       "    }\n",
       "\n",
       "    .dataframe tbody tr th {\n",
       "        vertical-align: top;\n",
       "    }\n",
       "\n",
       "    .dataframe thead th {\n",
       "        text-align: right;\n",
       "    }\n",
       "</style>\n",
       "<table border=\"1\" class=\"dataframe\">\n",
       "  <thead>\n",
       "    <tr style=\"text-align: right;\">\n",
       "      <th></th>\n",
       "      <th>lat</th>\n",
       "      <th>lon</th>\n",
       "      <th>sum</th>\n",
       "    </tr>\n",
       "  </thead>\n",
       "  <tbody>\n",
       "    <tr>\n",
       "      <th>0</th>\n",
       "      <td>54.846317</td>\n",
       "      <td>83.093750</td>\n",
       "      <td>4</td>\n",
       "    </tr>\n",
       "    <tr>\n",
       "      <th>1</th>\n",
       "      <td>55.049999</td>\n",
       "      <td>82.949997</td>\n",
       "      <td>1</td>\n",
       "    </tr>\n",
       "    <tr>\n",
       "      <th>2</th>\n",
       "      <td>48.821259</td>\n",
       "      <td>2.315226</td>\n",
       "      <td>1</td>\n",
       "    </tr>\n",
       "    <tr>\n",
       "      <th>3</th>\n",
       "      <td>48.829723</td>\n",
       "      <td>2.380833</td>\n",
       "      <td>1</td>\n",
       "    </tr>\n",
       "    <tr>\n",
       "      <th>4</th>\n",
       "      <td>48.713268</td>\n",
       "      <td>2.210165</td>\n",
       "      <td>1</td>\n",
       "    </tr>\n",
       "    <tr>\n",
       "      <th>...</th>\n",
       "      <td>...</td>\n",
       "      <td>...</td>\n",
       "      <td>...</td>\n",
       "    </tr>\n",
       "    <tr>\n",
       "      <th>3906</th>\n",
       "      <td>46.672527</td>\n",
       "      <td>0.366398</td>\n",
       "      <td>2</td>\n",
       "    </tr>\n",
       "    <tr>\n",
       "      <th>3907</th>\n",
       "      <td>48.045746</td>\n",
       "      <td>-1.746071</td>\n",
       "      <td>2</td>\n",
       "    </tr>\n",
       "    <tr>\n",
       "      <th>3908</th>\n",
       "      <td>59.253992</td>\n",
       "      <td>15.248768</td>\n",
       "      <td>1</td>\n",
       "    </tr>\n",
       "    <tr>\n",
       "      <th>3909</th>\n",
       "      <td>41.105046</td>\n",
       "      <td>29.026327</td>\n",
       "      <td>12</td>\n",
       "    </tr>\n",
       "    <tr>\n",
       "      <th>3910</th>\n",
       "      <td>40.952841</td>\n",
       "      <td>29.119971</td>\n",
       "      <td>1</td>\n",
       "    </tr>\n",
       "  </tbody>\n",
       "</table>\n",
       "<p>3905 rows × 3 columns</p>\n",
       "</div>"
      ],
      "text/plain": [
       "            lat        lon  sum\n",
       "0     54.846317  83.093750    4\n",
       "1     55.049999  82.949997    1\n",
       "2     48.821259   2.315226    1\n",
       "3     48.829723   2.380833    1\n",
       "4     48.713268   2.210165    1\n",
       "...         ...        ...  ...\n",
       "3906  46.672527   0.366398    2\n",
       "3907  48.045746  -1.746071    2\n",
       "3908  59.253992  15.248768    1\n",
       "3909  41.105046  29.026327   12\n",
       "3910  40.952841  29.119971    1\n",
       "\n",
       "[3905 rows x 3 columns]"
      ]
     },
     "execution_count": 154,
     "metadata": {},
     "output_type": "execute_result"
    }
   ],
   "source": [
    "X = merged3[[\"lat\",\"lon\",\"sum\"]]\n",
    "X.dropna(inplace=True)\n",
    "X"
   ]
  },
  {
   "cell_type": "markdown",
   "metadata": {},
   "source": [
    "## Plotting"
   ]
  },
  {
   "cell_type": "code",
   "execution_count": null,
   "metadata": {},
   "outputs": [],
   "source": []
  },
  {
   "cell_type": "code",
   "execution_count": 173,
   "metadata": {},
   "outputs": [
    {
     "name": "stderr",
     "output_type": "stream",
     "text": [
      "C:\\Users\\karth\\AppData\\Local\\Temp\\ipykernel_15520\\54324571.py:11: SettingWithCopyWarning: \n",
      "A value is trying to be set on a copy of a slice from a DataFrame\n",
      "\n",
      "See the caveats in the documentation: https://pandas.pydata.org/pandas-docs/stable/user_guide/indexing.html#returning-a-view-versus-a-copy\n",
      "  X.dropna(inplace=True)\n"
     ]
    }
   ],
   "source": [
    "t0=1950\n",
    "t1=1960\n",
    "\n",
    "period = merged2[ (merged2[\"year\"]>=t0) & (merged2['year']<t1)]\n",
    "\n",
    "p = period[[\"school\",\"lat\",\"lon\",\"descendants\"]].groupby(['school'])\n",
    "p = p[\"descendants\"].agg(['sum']).reset_index()\n",
    "p = pd.merge(p,coords,on='school',how='left')\n",
    "\n",
    "X = p[[\"lat\",\"lon\",\"sum\"]]\n",
    "X.dropna(inplace=True)\n"
   ]
  },
  {
   "cell_type": "code",
   "execution_count": null,
   "metadata": {},
   "outputs": [],
   "source": [
    "\n"
   ]
  },
  {
   "cell_type": "code",
   "execution_count": 174,
   "metadata": {},
   "outputs": [
    {
     "data": {
      "text/html": [
       "<div style=\"width:100%;\"><div style=\"position:relative;width:100%;height:0;padding-bottom:60%;\"><span style=\"color:#565656\">Make this Notebook Trusted to load map: File -> Trust Notebook</span><iframe srcdoc=\"&lt;!DOCTYPE html&gt;\n",
       "&lt;html&gt;\n",
       "&lt;head&gt;\n",
       "    \n",
       "    &lt;meta http-equiv=&quot;content-type&quot; content=&quot;text/html; charset=UTF-8&quot; /&gt;\n",
       "    \n",
       "        &lt;script&gt;\n",
       "            L_NO_TOUCH = false;\n",
       "            L_DISABLE_3D = false;\n",
       "        &lt;/script&gt;\n",
       "    \n",
       "    &lt;style&gt;html, body {width: 100%;height: 100%;margin: 0;padding: 0;}&lt;/style&gt;\n",
       "    &lt;style&gt;#map {position:absolute;top:0;bottom:0;right:0;left:0;}&lt;/style&gt;\n",
       "    &lt;script src=&quot;https://cdn.jsdelivr.net/npm/leaflet@1.9.3/dist/leaflet.js&quot;&gt;&lt;/script&gt;\n",
       "    &lt;script src=&quot;https://code.jquery.com/jquery-1.12.4.min.js&quot;&gt;&lt;/script&gt;\n",
       "    &lt;script src=&quot;https://cdn.jsdelivr.net/npm/bootstrap@5.2.2/dist/js/bootstrap.bundle.min.js&quot;&gt;&lt;/script&gt;\n",
       "    &lt;script src=&quot;https://cdnjs.cloudflare.com/ajax/libs/Leaflet.awesome-markers/2.0.2/leaflet.awesome-markers.js&quot;&gt;&lt;/script&gt;\n",
       "    &lt;link rel=&quot;stylesheet&quot; href=&quot;https://cdn.jsdelivr.net/npm/leaflet@1.9.3/dist/leaflet.css&quot;/&gt;\n",
       "    &lt;link rel=&quot;stylesheet&quot; href=&quot;https://cdn.jsdelivr.net/npm/bootstrap@5.2.2/dist/css/bootstrap.min.css&quot;/&gt;\n",
       "    &lt;link rel=&quot;stylesheet&quot; href=&quot;https://netdna.bootstrapcdn.com/bootstrap/3.0.0/css/bootstrap.min.css&quot;/&gt;\n",
       "    &lt;link rel=&quot;stylesheet&quot; href=&quot;https://cdn.jsdelivr.net/npm/@fortawesome/fontawesome-free@6.2.0/css/all.min.css&quot;/&gt;\n",
       "    &lt;link rel=&quot;stylesheet&quot; href=&quot;https://cdnjs.cloudflare.com/ajax/libs/Leaflet.awesome-markers/2.0.2/leaflet.awesome-markers.css&quot;/&gt;\n",
       "    &lt;link rel=&quot;stylesheet&quot; href=&quot;https://cdn.jsdelivr.net/gh/python-visualization/folium/folium/templates/leaflet.awesome.rotate.min.css&quot;/&gt;\n",
       "    \n",
       "            &lt;meta name=&quot;viewport&quot; content=&quot;width=device-width,\n",
       "                initial-scale=1.0, maximum-scale=1.0, user-scalable=no&quot; /&gt;\n",
       "            &lt;style&gt;\n",
       "                #map_0055c7bf04a6f79aeb7feabe099ae61d {\n",
       "                    position: relative;\n",
       "                    width: 100.0%;\n",
       "                    height: 100.0%;\n",
       "                    left: 0.0%;\n",
       "                    top: 0.0%;\n",
       "                }\n",
       "                .leaflet-container { font-size: 1rem; }\n",
       "            &lt;/style&gt;\n",
       "        \n",
       "    &lt;script src=&quot;https://cdn.jsdelivr.net/gh/python-visualization/folium@main/folium/templates/leaflet_heat.min.js&quot;&gt;&lt;/script&gt;\n",
       "&lt;/head&gt;\n",
       "&lt;body&gt;\n",
       "    \n",
       "    \n",
       "            &lt;div class=&quot;folium-map&quot; id=&quot;map_0055c7bf04a6f79aeb7feabe099ae61d&quot; &gt;&lt;/div&gt;\n",
       "        \n",
       "&lt;/body&gt;\n",
       "&lt;script&gt;\n",
       "    \n",
       "    \n",
       "            var map_0055c7bf04a6f79aeb7feabe099ae61d = L.map(\n",
       "                &quot;map_0055c7bf04a6f79aeb7feabe099ae61d&quot;,\n",
       "                {\n",
       "                    center: [5.0, 30.0],\n",
       "                    crs: L.CRS.EPSG3857,\n",
       "                    zoom: 2,\n",
       "                    zoomControl: true,\n",
       "                    preferCanvas: false,\n",
       "                }\n",
       "            );\n",
       "\n",
       "            \n",
       "\n",
       "        \n",
       "    \n",
       "            var tile_layer_75bd17e5e70a3efec583ebe812fd6b97 = L.tileLayer(\n",
       "                &quot;https://cartodb-basemaps-{s}.global.ssl.fastly.net/dark_all/{z}/{x}/{y}.png&quot;,\n",
       "                {&quot;attribution&quot;: &quot;\\u0026copy; \\u003ca target=\\&quot;_blank\\&quot; href=\\&quot;http://www.openstreetmap.org/copyright\\&quot;\\u003eOpenStreetMap\\u003c/a\\u003e contributors \\u0026copy; \\u003ca target=\\&quot;_blank\\&quot; href=\\&quot;http://cartodb.com/attributions\\&quot;\\u003eCartoDB\\u003c/a\\u003e, CartoDB \\u003ca target=\\&quot;_blank\\&quot; href =\\&quot;http://cartodb.com/attributions\\&quot;\\u003eattributions\\u003c/a\\u003e&quot;, &quot;detectRetina&quot;: false, &quot;maxNativeZoom&quot;: 18, &quot;maxZoom&quot;: 18, &quot;minZoom&quot;: 0, &quot;noWrap&quot;: false, &quot;opacity&quot;: 1, &quot;subdomains&quot;: &quot;abc&quot;, &quot;tms&quot;: false}\n",
       "            ).addTo(map_0055c7bf04a6f79aeb7feabe099ae61d);\n",
       "        \n",
       "    \n",
       "            var heat_map_a947c42d9cae5f853299f97c3d8de719 = L.heatLayer(\n",
       "                [[52.36854172, 4.89021587, 1.0], [37.76972961, -122.466095, 1.0], [25.0420743, 121.614046, 1.0], [50.0657033, 19.91895867, 53.0], [48.00229565, 7.849140132, 268.0], [47.17533015, 27.5723004, 35.0], [27.9151981, 78.07874075, 32.0], [39.9237514, 32.86102818, 4.0], [32.5919877, -85.49594874, 6.0], [-35.28131035, 149.1166828, 126.0], [46.7677836, 23.59197655, 2.0], [40.3739057, 49.81101336, 16.0], [49.78858948, 9.93552017, 38.0], [51.52184485, -0.130215507, 24.0], [41.8186395, -71.40880087, 1398.0], [40.0286808, -75.31545509, 1.0], [34.13701375, -118.1252883, 2384.0], [51.4764902, -3.1803382, 2.0], [40.4441897, -79.94271918, 278.0], [38.38342285, -81.76409912, 1.0], [41.50138695, -81.60070217, 40.0], [45.203783, 5.699868499, 581.0], [60.4518905, 22.2791628, 337.0], [54.3458218, 10.11307301, 559.0], [42.25146815, -71.82295086, 2.0], [-18.9110302, 47.5279875, 2.0], [40.80775585, -73.96164947, 4159.0], [42.4529076, -76.48008423, 577.0], [38.65811157, -90.26731873, 195.0], [43.70526735, -72.29052293, 1.0], [48.30062485, 34.84400177, 233.0], [36.0001557, -78.94422972, 140.0], [47.413218, 8.5374914, 1576.0], [48.5298981, 9.040432301, 310.0], [51.9176312, 4.525962326, 32.0], [54.08943465, 13.40487427, 6.0], [47.4934799, 19.06189933, 2.0], [47.4904213, 19.05844498, 1.0], [30.44235995, -84.29747867, 1.0], [52.4550561, 13.29643763, 15.0], [49.60030465, 11.01622777, 24.0], [50.9333221, 11.58229697, 20.0], [51.5592251, 9.952444154, 207.0], [36.14166641, -86.7986145, 7.0], [38.90893925, -77.07457962, 10.0], [33.7760948, -84.39880767, 8.0], [42.9701199, 47.5091488, 1.0], [52.38219833, 9.71780014, 112.0], [57.69854645, 11.97124216, 1.0], [42.36790855, -71.12678237, 6436.0], [31.77293975, 35.19799495, 251.0], [60.1756483, 24.95355002, 684.0], [43.07900775, 141.3377295, 1.0], [52.5183402, 13.39292023, 494.0], [47.50126265, 19.04613374, 223.0], [41.83616405, -87.62647228, 77.0], [51.4989595, -0.175640693, 78.0], [51.4989595, -0.175640693, 1.0], [22.6445112, 88.37716917, 7.0], [40.4594635, -86.1302691, 311.0], [48.81655625, 2.308627838, 1.0], [38.38342285, -81.76409912, 2.0], [50.4443723, 30.51638191, 140.0], [44.44408145, 26.08853395, 23.0], [37.76972961, -122.466095, 92.0], [49.01005936, 31.39693832, 6.0], [-22.9158261, -43.23278762, 51.0], [42.0279608, -93.64473746, 814.0], [41.0132424, 28.9637609, 7.0], [49.84021675, 24.02228812, 3.0], [41.71573395, 44.7255856, 64.0], [34.68795395, 33.02952576, 25.0], [50.12724275, 8.667596031, 6.0], [49.99203965, 8.237090346, 53.0], [50.5804836, 8.677565534, 14.0], [39.20883, -96.58845116, 1.0], [49.1018534, 8.433120159, 10.0], [51.2205068, 4.404626283, 1.0], [51.84169388, 5.85865116, 2.0], [48.15047575, 11.57983565, 7.0], [50.01508035, 36.22864282, 2.0], [50.3942259, 30.49831742, 15.0], [51.5060001, -0.112158295, 36.0], [59.34986645, 18.07063213, 762.0], [55.79624725, 37.47444985, 64.0], [35.02704665, 135.7814373, 79.0], [55.6801502, 12.572327, 39.0], [51.96643448, 5.65831041, 1.0], [40.91285705, -73.90696802, 1.0], [55.69778061, 37.56528091, 20.0], [40.6068028, -75.3782488, 42.0], [59.94166183, 30.30098724, 13.0], [55.70229715, 37.53179773, 1026.0], [51.51426105, -0.11673352, 165.0], [30.40576185, -91.1859745, 12.0], [48.15047575, 11.57983565, 144.0], [55.70582245, 13.19334082, 3.0], [51.48443715, 11.97354696, 102.0], [49.2099968, 16.59924898, 18.0], [42.3582529, -71.09662724, 3564.0], [45.50688565, -73.5790846, 12.0], [42.7024238, -84.48032838, 52.0], [53.9099267, 27.5299522, 1.0], [34.68795395, 33.02952576, 249.0], [35.1583416, 136.9219146, 63.0], [0.3366658, 32.5841375, 46.0], [40.72914525, -73.99507565, 774.0], [56.29943848, 43.98332977, 9.0], [35.7714749, -78.6741935, 379.0], [42.0557157, -87.67529455, 256.0], [33.76388931, -118.2011108, 5.0], [36.12847675, -97.08398055, 11.0], [44.56305595, -123.2839236, 119.0], [34.51119925, 135.631448, 63.0], [30.75799561, 76.76821136, 1.0], [-29.1057087, 26.17541864, 67.0], [52.2216394, 21.00737979, 1.0], [51.1068045, 17.06008134, 22.0], [52.2377936, 21.0181978, 206.0], [42.7298969, -73.67966782, 250.0], [37.22192675, -80.42728184, 1.0], [40.33867515, -74.65836549, 6948.0], [33.1816466, -96.52917205, 1.0], [45.8071025, 15.9705828, 1.0], [40.430028, -86.92642115, 387.0], [51.52492685, -0.039244053, 1.0], [54.58414875, -5.933721043, 61.0], [53.5846829, -2.29876509, 3.0], [50.7791645, 6.068920971, 33.0], [50.7338124, 7.1022465, 46.0], [29.71679145, -95.40478113, 366.0], [53.21944155, 6.562986329, 25.0], [37.76972961, -122.466095, 4.0], [47.2289896, 39.74000444, 55.0], [49.4167814, 8.6691206, 342.0], [55.6934259, 37.5606899, 2.0], [40.4929271, -74.44520167, 5.0], [38.635359, -90.23184327, 21.0], [51.57865524, 46.79747009, 6.0], [44.8177899, 20.45658353, 101.0], [49.93777847, 17.89666939, 19.0], [48.84471893, 2.34388995, 14.0], [47.2164127, 39.63155141, 1.0], [54.50928116, 36.27381897, 4.0], [59.94166183, 30.30098724, 1.0], [27.83057785, 80.02818298, 5.0], [59.9406782, 30.29649994, 917.0], [37.43131385, -122.1693654, 3311.0], [43.00188805, -78.7852135, 7.0], [55.6947768, 37.5644492, 64.0], [59.3242703, 18.08305021, 517.0], [51.6192545, -3.8792745, 9.0], [43.01711285, -76.1185536, 198.0], [41.31085045, 69.24892054, 14.0], [47.4701078, 19.0471857, 6.0], [55.78541445, 12.52021514, 6.0], [52.22124481, 21.00768089, 1.0], [32.7768128, 35.02254465, 1.0], [48.78152466, 9.17469406, 6.0], [51.99882735, 4.373960368, 397.0], [52.51101585, 13.32695414, 19.0], [52.27335739, 10.53064251, 4.0], [51.80195535, 10.34550528, 75.0], [49.86115175, 8.681943999, 175.0], [51.0282765, 13.73598275, 11.0], [50.68250285, 10.93650626, 1.0], [48.2655696, 11.66934561, 37.0], [48.19853965, 16.36986168, 1.0], [30.6108618, -96.35206061, 7.0], [38.93804505, -77.08939224, 17.0], [38.9391024, -76.99996417, 6.0], [38.89989375, -77.04744828, 11.0], [39.33020225, -76.62185358, 202.0], [41.8973973, -87.62653132, 296.0], [40.2619389, -76.88034675, 20.0], [41.8761445, -87.6251612, 1977.0], [35.90503535, -79.04775327, 1179.0], [35.4894285, -97.53871275, 50.0], [51.56306085, 5.043598468, 7.0], [56.4695875, 84.94677153, 6.0], [53.3444162, -6.2589561, 2.0], [29.94121955, -90.12010089, 539.0], [60.45607315, 22.28640968, 4.0], [40.4314742, -3.790043948, 15.0], [41.3868913, 2.163523846, 268.0], [-34.5087115, -58.68837906, 2.0], [-33.4439386, -70.6510174, 2.0], [37.1809009, -3.6000115, 1.0], [40.44916534, -3.72805595, 122.0], [-22.8533498, -43.23317029, 1.0], [40.207422, -8.4260033, 1.0], [38.7082646, -9.146463041, 48.0], [-23.5652201, -46.71258298, 81.0], [-6.35430908, 106.8281403, 1.0], [51.00784845, 3.710883068, 4.0], [52.1572025, 4.485216804, 471.0], [52.0906639, 5.1231525, 363.0], [52.3685848, 4.8902006, 1179.0], [53.3068763, -6.224625093, 7.0], [51.52420305, -0.133000724, 195.0], [42.69649124, 23.32600975, 5.0], [57.16452475, -2.101836355, 41.0], [-34.9281253, 138.6011844, 253.0], [44.8188718, 20.4570756, 652.0], [52.4512673, -1.9366269, 26.0], [51.4582866, -2.601568351, 111.0], [49.25783145, -123.246242, 6.0], [44.43564445, 26.10092625, 229.0], [37.87549965, -122.2390685, 3248.0], [38.5326461, -121.7511851, 1.0], [34.0198321, -118.2780639, 369.0], [52.2069895, 0.119092574, 3434.0], [-33.9545517, 18.47084236, 1.0], [39.12718375, -84.50008384, 39.0], [40.01407945, -105.2669594, 14.0], [47.5334766, 21.62354221, 2.0], [39.90360285, -75.35373731, 49.0], [28.5846757, 77.16358981, 43.0], [35.97320905, -78.89755054, 67.0], [55.94407645, -3.188373556, 82.0], [25.7148148, -80.2769765, 44.0], [31.48119265, -83.52225572, 36.0], [55.8618812, -4.241956566, 52.0], [40.09911835, -88.23851576, 1336.0], [41.6683126, -91.57952674, 55.0], [38.9534918, -95.2630888, 119.0], [38.0266291, -84.50472223, 15.0], [53.8016772, -1.546498355, 5.0], [53.40724285, -2.965833661, 222.0], [46.0490922, 14.50413067, 2.0], [51.5116948, -0.117442, 1217.0], [26.8644647, 80.93218673, 18.0], [49.8398886, 24.0221314, 62.0], [13.06600485, 80.28285007, 3.0], [53.4803158, -2.2393912, 30.0], [39.252377, -76.70891807, 2.0], [38.99041245, -76.94385859, 98.0], [-37.8180846, 144.9639965, 23.0], [42.33245205, -83.03756645, 2765.0], [44.9662364, -93.24110466, 528.0], [38.93641465, -92.32970302, 20.0], [18.9706634, 72.8170518, 47.0], [-29.86805515, 30.97841195, 7.0], [40.8206834, -96.70048318, 3.0], [-37.7878334, 175.3159841, 1.0], [41.70456775, -86.23822026, 72.0], [52.9577322, -1.156158785, 47.0], [44.04441965, -123.0717603, 51.0], [45.42252705, -75.68339042, 1.0], [51.7533537, -1.257111811, 362.0], [40.8025835, -77.85593833, 226.0], [40.44415295, -79.96246095, 17.0], [18.5208688, 73.8327706, 1.0], [51.4499995, -0.961407779, 11.0], [44.0190466, -92.4666537, 224.0], [43.852339, 18.38031614, 1.0], [53.3849374, -1.473972811, 2.0], [41.9973091, 21.4351329, 1.0], [42.6923495, 23.3260637, 11.0], [33.92682765, -118.2423499, 151.0], [56.3398198, -2.811793705, 420.0], [-33.8634791, 151.2143538, 13.0], [46.2456123, 20.1491243, 10.0], [-33.88321735, 151.2003669, 21.0], [35.9516352, -83.93088188, 233.0], [30.29320405, -97.73746822, 649.0], [35.74722905, 139.802157, 155.0], [43.6562982, -79.38706268, 274.0], [49.80944061, -97.13278198, 1.0], [40.7768903, -111.9154927, 28.0], [38.0410576, -78.50550841, 79.0], [-33.91701725, 151.2251677, 5.0], [53.22339575, -4.153210085, 5.0], [38.9005175, -77.0322149, 351.0], [41.92303465, -73.99882649, 7.0], [43.08027445, -89.43095872, 1162.0], [45.8160975, 15.9757047, 218.0], [-26.1888766, 28.0247912, 344.0], [45.4601184, 9.195336372, 32.0], [40.89679335, 14.24467371, 3.0], [41.8964496, 12.52095869, 49.0], [47.56174235, 7.582855137, 317.0], [52.5128521, 13.3892713, 1.0], [46.95097255, 7.438684131, 1.0], [47.0778573, 15.44984909, 2.0], [53.56778265, 9.974051444, 28.0], [45.19166946, 5.77297783, 1.0], [47.26331595, 11.38447331, 44.0], [51.33845385, 12.37863857, 100.0], [51.33915329, 12.37904644, 5.0], [54.4309852, 12.6858664, 10.0], [48.7453828, 9.103267539, 40.0], [48.2131284, 16.36068599, 54.0], [47.37377355, 8.550955, 13.0], [49.2542853, 7.041507076, 96.0], [50.92804455, 6.928130515, 36.0], [44.83697265, -0.578070404, 2.0], [50.8212127, 4.349553369, 13.0], [48.6914565, 6.1782072, 4.0], [46.78116215, -71.27680024, 1.0], [50.81347185, 4.381235729, 131.0], [48.8470111, 2.343799249, 112.0], [48.8488954, 2.3431908, 118.0], [43.5642189, 1.466572406, 214.0], [48.84722137, 2.35638905, 3.0], [45.1907316, 5.774147731, 1.0], [46.1972358, 6.136766, 15.0], [46.5225695, 6.58094986, 3.0], [50.6407185, 5.576232584, 2.0], [45.5359358, -73.49389, 6.0], [45.50475765, -73.61454176, 1.0], [46.993896, 6.938209, 1.0], [48.84313755, 2.335254767, 1275.0], [48.58599905, 7.737274115, 35.0], [43.6058532, 1.440898016, 2.0], [50.06156295, 19.93340907, 15.0], [51.24292505, 22.54197517, 77.0], [53.02118445, 18.5688082, 45.0], [52.2402217, 21.01884756, 166.0], [51.1137041, 17.0322332, 102.0], [52.3900169, 16.8757714, 62.0], [51.7713674, 19.47406772, 114.0], [59.8576902, 17.6297861, 20.0], [50.9039315, 12.07025489, 19.0], [36.14380105, -86.80281889, 9.0], [49.98594666, 36.2735405, 88.0], [53.46172375, -2.225997679, 381.0], [54.682847, 25.28784064, 6.0], [37.22192675, -80.42728184, 26.0], [51.7049787, 39.18517109, 177.0], [52.33396225, 4.865196501, 25.0], [46.7337716, -117.1498035, 1.0], [38.6557573, -90.31031469, 87.0], [42.35720515, -83.07094979, 23.0], [31.9078499, 34.81334092, 13.0], [11.57164495, 104.8891927, 4.0], [51.96734215, 7.599243326, 1277.0], [41.25713055, -72.9896696, 928.0], [40.1826478, 44.52725719, 2.0], [30.521595, 120.7195312, 21.0], [48.84495163, 2.33919311, 13.0], [48.8430502, 2.346015821, 16.0], [46.5186594, 6.566561505, 29.0], [41.10504645, 29.02632677, 1.0]],\n",
       "                {&quot;blur&quot;: 15, &quot;maxZoom&quot;: 18, &quot;minOpacity&quot;: 0.5, &quot;radius&quot;: 25}\n",
       "            ).addTo(map_0055c7bf04a6f79aeb7feabe099ae61d);\n",
       "        \n",
       "&lt;/script&gt;\n",
       "&lt;/html&gt;\" style=\"position:absolute;width:100%;height:100%;left:0;top:0;border:none !important;\" allowfullscreen webkitallowfullscreen mozallowfullscreen></iframe></div></div>"
      ],
      "text/plain": [
       "<folium.folium.Map at 0x221652f8fd0>"
      ]
     },
     "execution_count": 174,
     "metadata": {},
     "output_type": "execute_result"
    }
   ],
   "source": [
    "map = folium.Map(location = [5,30], tiles = \"Cartodb dark_matter\", zoom_start=2)\n",
    "\n",
    "heat_data = X.values.tolist()\n",
    "\n",
    "plugins.HeatMap(heat_data).add_to(map)\n",
    "\n",
    "map"
   ]
  },
  {
   "cell_type": "code",
   "execution_count": null,
   "metadata": {},
   "outputs": [],
   "source": []
  },
  {
   "cell_type": "code",
   "execution_count": null,
   "metadata": {},
   "outputs": [],
   "source": []
  },
  {
   "cell_type": "code",
   "execution_count": null,
   "metadata": {},
   "outputs": [],
   "source": []
  },
  {
   "cell_type": "code",
   "execution_count": null,
   "metadata": {},
   "outputs": [],
   "source": []
  },
  {
   "cell_type": "code",
   "execution_count": null,
   "metadata": {},
   "outputs": [],
   "source": []
  },
  {
   "cell_type": "code",
   "execution_count": null,
   "metadata": {},
   "outputs": [],
   "source": []
  },
  {
   "cell_type": "code",
   "execution_count": null,
   "metadata": {},
   "outputs": [],
   "source": []
  },
  {
   "cell_type": "code",
   "execution_count": null,
   "metadata": {},
   "outputs": [],
   "source": []
  },
  {
   "cell_type": "code",
   "execution_count": null,
   "metadata": {},
   "outputs": [],
   "source": []
  },
  {
   "cell_type": "code",
   "execution_count": null,
   "metadata": {},
   "outputs": [],
   "source": []
  },
  {
   "cell_type": "code",
   "execution_count": null,
   "metadata": {},
   "outputs": [],
   "source": []
  },
  {
   "cell_type": "code",
   "execution_count": null,
   "metadata": {},
   "outputs": [],
   "source": []
  },
  {
   "cell_type": "code",
   "execution_count": null,
   "metadata": {},
   "outputs": [],
   "source": [
    "\n"
   ]
  }
 ],
 "metadata": {
  "kernelspec": {
   "display_name": "Python 3 (ipykernel)",
   "language": "python",
   "name": "python3"
  },
  "language_info": {
   "codemirror_mode": {
    "name": "ipython",
    "version": 3
   },
   "file_extension": ".py",
   "mimetype": "text/x-python",
   "name": "python",
   "nbconvert_exporter": "python",
   "pygments_lexer": "ipython3",
   "version": "3.9.13"
  }
 },
 "nbformat": 4,
 "nbformat_minor": 2
}

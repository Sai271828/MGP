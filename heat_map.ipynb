{
 "cells": [
  {
   "cell_type": "code",
   "execution_count": 2,
   "metadata": {},
   "outputs": [],
   "source": [
    "import json\n",
    "import pandas as pd\n",
    "\n",
    "from folium import plugins\n",
    "import folium\n"
   ]
  },
  {
   "cell_type": "code",
   "execution_count": 8,
   "metadata": {},
   "outputs": [],
   "source": [
    "descendants = pd.read_csv(\"data/descendants.csv\")"
   ]
  },
  {
   "cell_type": "code",
   "execution_count": 9,
   "metadata": {},
   "outputs": [
    {
     "data": {
      "text/plain": [
       "0             11\n",
       "1          19930\n",
       "2              4\n",
       "3          19939\n",
       "4              1\n",
       "           ...  \n",
       "256764     33501\n",
       "256765     74611\n",
       "256766     33507\n",
       "256767    235565\n",
       "256768    164293\n",
       "Name: id, Length: 256769, dtype: int64"
      ]
     },
     "execution_count": 9,
     "metadata": {},
     "output_type": "execute_result"
    }
   ],
   "source": [
    "descendants[\"id\"]"
   ]
  },
  {
   "cell_type": "code",
   "execution_count": 10,
   "metadata": {},
   "outputs": [],
   "source": [
    "data = pd.read_csv(\"data/data.csv\")"
   ]
  },
  {
   "cell_type": "code",
   "execution_count": 11,
   "metadata": {},
   "outputs": [
    {
     "data": {
      "text/html": [
       "<div>\n",
       "<style scoped>\n",
       "    .dataframe tbody tr th:only-of-type {\n",
       "        vertical-align: middle;\n",
       "    }\n",
       "\n",
       "    .dataframe tbody tr th {\n",
       "        vertical-align: top;\n",
       "    }\n",
       "\n",
       "    .dataframe thead th {\n",
       "        text-align: right;\n",
       "    }\n",
       "</style>\n",
       "<table border=\"1\" class=\"dataframe\">\n",
       "  <thead>\n",
       "    <tr style=\"text-align: right;\">\n",
       "      <th></th>\n",
       "      <th>id</th>\n",
       "      <th>name</th>\n",
       "      <th>thesis</th>\n",
       "      <th>school</th>\n",
       "      <th>country</th>\n",
       "      <th>year</th>\n",
       "      <th>subject</th>\n",
       "      <th>advisors</th>\n",
       "      <th>students</th>\n",
       "    </tr>\n",
       "  </thead>\n",
       "  <tbody>\n",
       "    <tr>\n",
       "      <th>0</th>\n",
       "      <td>11</td>\n",
       "      <td>Alfred E. Engelbrecht</td>\n",
       "      <td>Coupled Bending and Torsional Free Vibration o...</td>\n",
       "      <td>Iowa State University</td>\n",
       "      <td>UnitedStates</td>\n",
       "      <td>1949.0</td>\n",
       "      <td>NaN</td>\n",
       "      <td>[1]</td>\n",
       "      <td>[]</td>\n",
       "    </tr>\n",
       "    <tr>\n",
       "      <th>1</th>\n",
       "      <td>4</td>\n",
       "      <td>Charles Joseph Thorne</td>\n",
       "      <td>The Approximate Solution of Linear Differentia...</td>\n",
       "      <td>Iowa State University</td>\n",
       "      <td>UnitedStates</td>\n",
       "      <td>1941.0</td>\n",
       "      <td>NaN</td>\n",
       "      <td>[239]</td>\n",
       "      <td>[19930, 19939]</td>\n",
       "    </tr>\n",
       "    <tr>\n",
       "      <th>2</th>\n",
       "      <td>1</td>\n",
       "      <td>Ernest Willard Anderson</td>\n",
       "      <td>Statics of Special Types of Homogeneous Elasti...</td>\n",
       "      <td>Iowa State University</td>\n",
       "      <td>UnitedStates</td>\n",
       "      <td>1933.0</td>\n",
       "      <td>74—Mechanics of deformable solids</td>\n",
       "      <td>[258]</td>\n",
       "      <td>[11, 28, 31]</td>\n",
       "    </tr>\n",
       "    <tr>\n",
       "      <th>3</th>\n",
       "      <td>7</td>\n",
       "      <td>Carl Eric Langenhop</td>\n",
       "      <td>Properties of Kernels of Integral Equations Wh...</td>\n",
       "      <td>Iowa State University</td>\n",
       "      <td>UnitedStates</td>\n",
       "      <td>1948.0</td>\n",
       "      <td>NaN</td>\n",
       "      <td>[281]</td>\n",
       "      <td>[48, 104689, 38, 33, 3026, 39, 32, 35]</td>\n",
       "    </tr>\n",
       "    <tr>\n",
       "      <th>4</th>\n",
       "      <td>6</td>\n",
       "      <td>William B. Stiles</td>\n",
       "      <td>Solutions of Clamped Plated Problems by Means ...</td>\n",
       "      <td>Iowa State University</td>\n",
       "      <td>UnitedStates</td>\n",
       "      <td>1945.0</td>\n",
       "      <td>NaN</td>\n",
       "      <td>[258]</td>\n",
       "      <td>[]</td>\n",
       "    </tr>\n",
       "  </tbody>\n",
       "</table>\n",
       "</div>"
      ],
      "text/plain": [
       "   id                     name  \\\n",
       "0  11    Alfred E. Engelbrecht   \n",
       "1   4    Charles Joseph Thorne   \n",
       "2   1  Ernest Willard Anderson   \n",
       "3   7      Carl Eric Langenhop   \n",
       "4   6        William B. Stiles   \n",
       "\n",
       "                                              thesis                 school  \\\n",
       "0  Coupled Bending and Torsional Free Vibration o...  Iowa State University   \n",
       "1  The Approximate Solution of Linear Differentia...  Iowa State University   \n",
       "2  Statics of Special Types of Homogeneous Elasti...  Iowa State University   \n",
       "3  Properties of Kernels of Integral Equations Wh...  Iowa State University   \n",
       "4  Solutions of Clamped Plated Problems by Means ...  Iowa State University   \n",
       "\n",
       "        country    year                            subject advisors  \\\n",
       "0  UnitedStates  1949.0                                NaN      [1]   \n",
       "1  UnitedStates  1941.0                                NaN    [239]   \n",
       "2  UnitedStates  1933.0  74—Mechanics of deformable solids    [258]   \n",
       "3  UnitedStates  1948.0                                NaN    [281]   \n",
       "4  UnitedStates  1945.0                                NaN    [258]   \n",
       "\n",
       "                                 students  \n",
       "0                                      []  \n",
       "1                          [19930, 19939]  \n",
       "2                            [11, 28, 31]  \n",
       "3  [48, 104689, 38, 33, 3026, 39, 32, 35]  \n",
       "4                                      []  "
      ]
     },
     "execution_count": 11,
     "metadata": {},
     "output_type": "execute_result"
    }
   ],
   "source": [
    "data.head()"
   ]
  },
  {
   "cell_type": "code",
   "execution_count": 23,
   "metadata": {},
   "outputs": [
    {
     "data": {
      "text/html": [
       "<div>\n",
       "<style scoped>\n",
       "    .dataframe tbody tr th:only-of-type {\n",
       "        vertical-align: middle;\n",
       "    }\n",
       "\n",
       "    .dataframe tbody tr th {\n",
       "        vertical-align: top;\n",
       "    }\n",
       "\n",
       "    .dataframe thead th {\n",
       "        text-align: right;\n",
       "    }\n",
       "</style>\n",
       "<table border=\"1\" class=\"dataframe\">\n",
       "  <thead>\n",
       "    <tr style=\"text-align: right;\">\n",
       "      <th></th>\n",
       "      <th>id</th>\n",
       "      <th>name</th>\n",
       "      <th>thesis</th>\n",
       "      <th>school</th>\n",
       "      <th>country</th>\n",
       "      <th>year</th>\n",
       "      <th>subject</th>\n",
       "      <th>advisors</th>\n",
       "      <th>students</th>\n",
       "    </tr>\n",
       "  </thead>\n",
       "  <tbody>\n",
       "    <tr>\n",
       "      <th>256768</th>\n",
       "      <td>164297</td>\n",
       "      <td>Maksud Alisimran Dzhavadov</td>\n",
       "      <td>NaN</td>\n",
       "      <td>NaN</td>\n",
       "      <td>NaN</td>\n",
       "      <td>NaN</td>\n",
       "      <td>51—Geometry</td>\n",
       "      <td>[99692]</td>\n",
       "      <td>[]</td>\n",
       "    </tr>\n",
       "  </tbody>\n",
       "</table>\n",
       "</div>"
      ],
      "text/plain": [
       "            id                        name thesis school country  year  \\\n",
       "256768  164297  Maksud Alisimran Dzhavadov    NaN    NaN     NaN   NaN   \n",
       "\n",
       "            subject advisors students  \n",
       "256768  51—Geometry  [99692]       []  "
      ]
     },
     "execution_count": 23,
     "metadata": {},
     "output_type": "execute_result"
    }
   ],
   "source": [
    "data[data[\"id\"]==164297]"
   ]
  },
  {
   "cell_type": "code",
   "execution_count": 12,
   "metadata": {},
   "outputs": [],
   "source": [
    "coords = pd.read_csv(\"data/coordinates.csv\")"
   ]
  },
  {
   "cell_type": "code",
   "execution_count": 13,
   "metadata": {},
   "outputs": [
    {
     "data": {
      "text/html": [
       "<div>\n",
       "<style scoped>\n",
       "    .dataframe tbody tr th:only-of-type {\n",
       "        vertical-align: middle;\n",
       "    }\n",
       "\n",
       "    .dataframe tbody tr th {\n",
       "        vertical-align: top;\n",
       "    }\n",
       "\n",
       "    .dataframe thead th {\n",
       "        text-align: right;\n",
       "    }\n",
       "</style>\n",
       "<table border=\"1\" class=\"dataframe\">\n",
       "  <thead>\n",
       "    <tr style=\"text-align: right;\">\n",
       "      <th></th>\n",
       "      <th>school</th>\n",
       "      <th>lat</th>\n",
       "      <th>lon</th>\n",
       "    </tr>\n",
       "  </thead>\n",
       "  <tbody>\n",
       "    <tr>\n",
       "      <th>0</th>\n",
       "      <td>Iowa State University</td>\n",
       "      <td>42.027961</td>\n",
       "      <td>-93.644737</td>\n",
       "    </tr>\n",
       "    <tr>\n",
       "      <th>1</th>\n",
       "      <td>University of Tennessee - Knoxville</td>\n",
       "      <td>35.951635</td>\n",
       "      <td>-83.930882</td>\n",
       "    </tr>\n",
       "    <tr>\n",
       "      <th>2</th>\n",
       "      <td>University of Illinois at Urbana-Champaign</td>\n",
       "      <td>40.099118</td>\n",
       "      <td>-88.238516</td>\n",
       "    </tr>\n",
       "    <tr>\n",
       "      <th>3</th>\n",
       "      <td>University of California, Berkeley</td>\n",
       "      <td>37.875500</td>\n",
       "      <td>-122.239069</td>\n",
       "    </tr>\n",
       "    <tr>\n",
       "      <th>4</th>\n",
       "      <td>University of Wisconsin-Madison</td>\n",
       "      <td>43.080274</td>\n",
       "      <td>-89.430959</td>\n",
       "    </tr>\n",
       "  </tbody>\n",
       "</table>\n",
       "</div>"
      ],
      "text/plain": [
       "                                       school        lat         lon\n",
       "0                       Iowa State University  42.027961  -93.644737\n",
       "1         University of Tennessee - Knoxville  35.951635  -83.930882\n",
       "2  University of Illinois at Urbana-Champaign  40.099118  -88.238516\n",
       "3          University of California, Berkeley  37.875500 -122.239069\n",
       "4             University of Wisconsin-Madison  43.080274  -89.430959"
      ]
     },
     "execution_count": 13,
     "metadata": {},
     "output_type": "execute_result"
    }
   ],
   "source": [
    "coords.head()"
   ]
  },
  {
   "cell_type": "code",
   "execution_count": 15,
   "metadata": {},
   "outputs": [
    {
     "data": {
      "text/plain": [
       "(3907, 3)"
      ]
     },
     "execution_count": 15,
     "metadata": {},
     "output_type": "execute_result"
    }
   ],
   "source": [
    "coords.shape"
   ]
  },
  {
   "cell_type": "code",
   "execution_count": 24,
   "metadata": {},
   "outputs": [],
   "source": [
    "coords.dropna(inplace=True)"
   ]
  },
  {
   "cell_type": "markdown",
   "metadata": {},
   "source": [
    "# Merging the descendants, coordinates and the genealogy data"
   ]
  },
  {
   "cell_type": "code",
   "execution_count": 25,
   "metadata": {},
   "outputs": [
    {
     "data": {
      "text/plain": [
       "(256769, 11)"
      ]
     },
     "execution_count": 25,
     "metadata": {},
     "output_type": "execute_result"
    }
   ],
   "source": [
    "merged = pd.merge(data,coords,on='school',how='left')\n",
    "merged.shape\n"
   ]
  },
  {
   "cell_type": "code",
   "execution_count": 27,
   "metadata": {},
   "outputs": [
    {
     "data": {
      "text/plain": [
       "Index(['id', 'name', 'thesis', 'school', 'country', 'year', 'subject',\n",
       "       'advisors', 'students', 'lat', 'lon', 'descendants'],\n",
       "      dtype='object')"
      ]
     },
     "execution_count": 27,
     "metadata": {},
     "output_type": "execute_result"
    }
   ],
   "source": [
    "full_data = pd.merge(merged,descendants,on='id',how=\"left\")\n",
    "full_data.columns"
   ]
  },
  {
   "cell_type": "code",
   "execution_count": 28,
   "metadata": {},
   "outputs": [
    {
     "data": {
      "text/plain": [
       "(256769, 12)"
      ]
     },
     "execution_count": 28,
     "metadata": {},
     "output_type": "execute_result"
    }
   ],
   "source": [
    "full_data.shape"
   ]
  },
  {
   "cell_type": "code",
   "execution_count": 30,
   "metadata": {},
   "outputs": [
    {
     "data": {
      "text/html": [
       "<div>\n",
       "<style scoped>\n",
       "    .dataframe tbody tr th:only-of-type {\n",
       "        vertical-align: middle;\n",
       "    }\n",
       "\n",
       "    .dataframe tbody tr th {\n",
       "        vertical-align: top;\n",
       "    }\n",
       "\n",
       "    .dataframe thead th {\n",
       "        text-align: right;\n",
       "    }\n",
       "</style>\n",
       "<table border=\"1\" class=\"dataframe\">\n",
       "  <thead>\n",
       "    <tr style=\"text-align: right;\">\n",
       "      <th></th>\n",
       "      <th>id</th>\n",
       "      <th>name</th>\n",
       "      <th>thesis</th>\n",
       "      <th>school</th>\n",
       "      <th>country</th>\n",
       "      <th>year</th>\n",
       "      <th>subject</th>\n",
       "      <th>advisors</th>\n",
       "      <th>students</th>\n",
       "      <th>lat</th>\n",
       "      <th>lon</th>\n",
       "      <th>descendants</th>\n",
       "    </tr>\n",
       "  </thead>\n",
       "  <tbody>\n",
       "    <tr>\n",
       "      <th>0</th>\n",
       "      <td>11</td>\n",
       "      <td>Alfred E. Engelbrecht</td>\n",
       "      <td>Coupled Bending and Torsional Free Vibration o...</td>\n",
       "      <td>Iowa State University</td>\n",
       "      <td>UnitedStates</td>\n",
       "      <td>1949.0</td>\n",
       "      <td>NaN</td>\n",
       "      <td>[1]</td>\n",
       "      <td>[]</td>\n",
       "      <td>42.027961</td>\n",
       "      <td>-93.644737</td>\n",
       "      <td>1</td>\n",
       "    </tr>\n",
       "    <tr>\n",
       "      <th>1</th>\n",
       "      <td>4</td>\n",
       "      <td>Charles Joseph Thorne</td>\n",
       "      <td>The Approximate Solution of Linear Differentia...</td>\n",
       "      <td>Iowa State University</td>\n",
       "      <td>UnitedStates</td>\n",
       "      <td>1941.0</td>\n",
       "      <td>NaN</td>\n",
       "      <td>[239]</td>\n",
       "      <td>[19930, 19939]</td>\n",
       "      <td>42.027961</td>\n",
       "      <td>-93.644737</td>\n",
       "      <td>3</td>\n",
       "    </tr>\n",
       "    <tr>\n",
       "      <th>2</th>\n",
       "      <td>1</td>\n",
       "      <td>Ernest Willard Anderson</td>\n",
       "      <td>Statics of Special Types of Homogeneous Elasti...</td>\n",
       "      <td>Iowa State University</td>\n",
       "      <td>UnitedStates</td>\n",
       "      <td>1933.0</td>\n",
       "      <td>74—Mechanics of deformable solids</td>\n",
       "      <td>[258]</td>\n",
       "      <td>[11, 28, 31]</td>\n",
       "      <td>42.027961</td>\n",
       "      <td>-93.644737</td>\n",
       "      <td>4</td>\n",
       "    </tr>\n",
       "    <tr>\n",
       "      <th>3</th>\n",
       "      <td>7</td>\n",
       "      <td>Carl Eric Langenhop</td>\n",
       "      <td>Properties of Kernels of Integral Equations Wh...</td>\n",
       "      <td>Iowa State University</td>\n",
       "      <td>UnitedStates</td>\n",
       "      <td>1948.0</td>\n",
       "      <td>NaN</td>\n",
       "      <td>[281]</td>\n",
       "      <td>[48, 104689, 38, 33, 3026, 39, 32, 35]</td>\n",
       "      <td>42.027961</td>\n",
       "      <td>-93.644737</td>\n",
       "      <td>38</td>\n",
       "    </tr>\n",
       "    <tr>\n",
       "      <th>4</th>\n",
       "      <td>6</td>\n",
       "      <td>William B. Stiles</td>\n",
       "      <td>Solutions of Clamped Plated Problems by Means ...</td>\n",
       "      <td>Iowa State University</td>\n",
       "      <td>UnitedStates</td>\n",
       "      <td>1945.0</td>\n",
       "      <td>NaN</td>\n",
       "      <td>[258]</td>\n",
       "      <td>[]</td>\n",
       "      <td>42.027961</td>\n",
       "      <td>-93.644737</td>\n",
       "      <td>1</td>\n",
       "    </tr>\n",
       "  </tbody>\n",
       "</table>\n",
       "</div>"
      ],
      "text/plain": [
       "   id                     name  \\\n",
       "0  11    Alfred E. Engelbrecht   \n",
       "1   4    Charles Joseph Thorne   \n",
       "2   1  Ernest Willard Anderson   \n",
       "3   7      Carl Eric Langenhop   \n",
       "4   6        William B. Stiles   \n",
       "\n",
       "                                              thesis                 school  \\\n",
       "0  Coupled Bending and Torsional Free Vibration o...  Iowa State University   \n",
       "1  The Approximate Solution of Linear Differentia...  Iowa State University   \n",
       "2  Statics of Special Types of Homogeneous Elasti...  Iowa State University   \n",
       "3  Properties of Kernels of Integral Equations Wh...  Iowa State University   \n",
       "4  Solutions of Clamped Plated Problems by Means ...  Iowa State University   \n",
       "\n",
       "        country    year                            subject advisors  \\\n",
       "0  UnitedStates  1949.0                                NaN      [1]   \n",
       "1  UnitedStates  1941.0                                NaN    [239]   \n",
       "2  UnitedStates  1933.0  74—Mechanics of deformable solids    [258]   \n",
       "3  UnitedStates  1948.0                                NaN    [281]   \n",
       "4  UnitedStates  1945.0                                NaN    [258]   \n",
       "\n",
       "                                 students        lat        lon  descendants  \n",
       "0                                      []  42.027961 -93.644737            1  \n",
       "1                          [19930, 19939]  42.027961 -93.644737            3  \n",
       "2                            [11, 28, 31]  42.027961 -93.644737            4  \n",
       "3  [48, 104689, 38, 33, 3026, 39, 32, 35]  42.027961 -93.644737           38  \n",
       "4                                      []  42.027961 -93.644737            1  "
      ]
     },
     "execution_count": 30,
     "metadata": {},
     "output_type": "execute_result"
    }
   ],
   "source": [
    "full_data.head()"
   ]
  },
  {
   "cell_type": "markdown",
   "metadata": {},
   "source": [
    "## Influential universities"
   ]
  },
  {
   "cell_type": "code",
   "execution_count": 32,
   "metadata": {},
   "outputs": [
    {
     "data": {
      "text/plain": [
       "(3911, 2)"
      ]
     },
     "execution_count": 32,
     "metadata": {},
     "output_type": "execute_result"
    }
   ],
   "source": [
    "univ_descendants = full_data[[\"school\",\"lat\",\"lon\",\"descendants\"]].groupby(['school'])\n",
    "univ_descendants = univ_descendants[\"descendants\"].agg(['sum']).reset_index()\n",
    "univ_descendants.shape\n"
   ]
  },
  {
   "cell_type": "code",
   "execution_count": 34,
   "metadata": {},
   "outputs": [
    {
     "data": {
      "text/html": [
       "<div>\n",
       "<style scoped>\n",
       "    .dataframe tbody tr th:only-of-type {\n",
       "        vertical-align: middle;\n",
       "    }\n",
       "\n",
       "    .dataframe tbody tr th {\n",
       "        vertical-align: top;\n",
       "    }\n",
       "\n",
       "    .dataframe thead th {\n",
       "        text-align: right;\n",
       "    }\n",
       "</style>\n",
       "<table border=\"1\" class=\"dataframe\">\n",
       "  <thead>\n",
       "    <tr style=\"text-align: right;\">\n",
       "      <th></th>\n",
       "      <th>school</th>\n",
       "      <th>sum</th>\n",
       "    </tr>\n",
       "  </thead>\n",
       "  <tbody>\n",
       "    <tr>\n",
       "      <th>0</th>\n",
       "      <td>(Candidate of Sciences) Novosibirsk State Univ...</td>\n",
       "      <td>4</td>\n",
       "    </tr>\n",
       "    <tr>\n",
       "      <th>1</th>\n",
       "      <td>(Candidate of Sciences) Sobolev Institute of M...</td>\n",
       "      <td>1</td>\n",
       "    </tr>\n",
       "    <tr>\n",
       "      <th>2</th>\n",
       "      <td>(Doctorat 3e cycle) École Normale Supérie</td>\n",
       "      <td>1</td>\n",
       "    </tr>\n",
       "    <tr>\n",
       "      <th>3</th>\n",
       "      <td>(Doctorat d'Etat) Université Paris Diderot - P...</td>\n",
       "      <td>1</td>\n",
       "    </tr>\n",
       "    <tr>\n",
       "      <th>4</th>\n",
       "      <td>(Doctorat d'Etat) École Polytechnique</td>\n",
       "      <td>1</td>\n",
       "    </tr>\n",
       "  </tbody>\n",
       "</table>\n",
       "</div>"
      ],
      "text/plain": [
       "                                              school  sum\n",
       "0  (Candidate of Sciences) Novosibirsk State Univ...    4\n",
       "1  (Candidate of Sciences) Sobolev Institute of M...    1\n",
       "2          (Doctorat 3e cycle) École Normale Supérie    1\n",
       "3  (Doctorat d'Etat) Université Paris Diderot - P...    1\n",
       "4              (Doctorat d'Etat) École Polytechnique    1"
      ]
     },
     "execution_count": 34,
     "metadata": {},
     "output_type": "execute_result"
    }
   ],
   "source": [
    "univ_descendants.head()"
   ]
  },
  {
   "cell_type": "code",
   "execution_count": 35,
   "metadata": {},
   "outputs": [
    {
     "data": {
      "text/plain": [
       "(3911, 4)"
      ]
     },
     "execution_count": 35,
     "metadata": {},
     "output_type": "execute_result"
    }
   ],
   "source": [
    "inf_uni = pd.merge(univ_descendants,coords,on='school',how='left')\n",
    "inf_uni.shape"
   ]
  },
  {
   "cell_type": "code",
   "execution_count": 36,
   "metadata": {},
   "outputs": [
    {
     "data": {
      "text/html": [
       "<div>\n",
       "<style scoped>\n",
       "    .dataframe tbody tr th:only-of-type {\n",
       "        vertical-align: middle;\n",
       "    }\n",
       "\n",
       "    .dataframe tbody tr th {\n",
       "        vertical-align: top;\n",
       "    }\n",
       "\n",
       "    .dataframe thead th {\n",
       "        text-align: right;\n",
       "    }\n",
       "</style>\n",
       "<table border=\"1\" class=\"dataframe\">\n",
       "  <thead>\n",
       "    <tr style=\"text-align: right;\">\n",
       "      <th></th>\n",
       "      <th>school</th>\n",
       "      <th>sum</th>\n",
       "      <th>lat</th>\n",
       "      <th>lon</th>\n",
       "    </tr>\n",
       "  </thead>\n",
       "  <tbody>\n",
       "    <tr>\n",
       "      <th>0</th>\n",
       "      <td>(Candidate of Sciences) Novosibirsk State Univ...</td>\n",
       "      <td>4</td>\n",
       "      <td>54.846317</td>\n",
       "      <td>83.093750</td>\n",
       "    </tr>\n",
       "    <tr>\n",
       "      <th>1</th>\n",
       "      <td>(Candidate of Sciences) Sobolev Institute of M...</td>\n",
       "      <td>1</td>\n",
       "      <td>55.049999</td>\n",
       "      <td>82.949997</td>\n",
       "    </tr>\n",
       "    <tr>\n",
       "      <th>2</th>\n",
       "      <td>(Doctorat 3e cycle) École Normale Supérie</td>\n",
       "      <td>1</td>\n",
       "      <td>48.821259</td>\n",
       "      <td>2.315226</td>\n",
       "    </tr>\n",
       "    <tr>\n",
       "      <th>3</th>\n",
       "      <td>(Doctorat d'Etat) Université Paris Diderot - P...</td>\n",
       "      <td>1</td>\n",
       "      <td>48.829723</td>\n",
       "      <td>2.380833</td>\n",
       "    </tr>\n",
       "    <tr>\n",
       "      <th>4</th>\n",
       "      <td>(Doctorat d'Etat) École Polytechnique</td>\n",
       "      <td>1</td>\n",
       "      <td>48.713268</td>\n",
       "      <td>2.210165</td>\n",
       "    </tr>\n",
       "  </tbody>\n",
       "</table>\n",
       "</div>"
      ],
      "text/plain": [
       "                                              school  sum        lat  \\\n",
       "0  (Candidate of Sciences) Novosibirsk State Univ...    4  54.846317   \n",
       "1  (Candidate of Sciences) Sobolev Institute of M...    1  55.049999   \n",
       "2          (Doctorat 3e cycle) École Normale Supérie    1  48.821259   \n",
       "3  (Doctorat d'Etat) Université Paris Diderot - P...    1  48.829723   \n",
       "4              (Doctorat d'Etat) École Polytechnique    1  48.713268   \n",
       "\n",
       "         lon  \n",
       "0  83.093750  \n",
       "1  82.949997  \n",
       "2   2.315226  \n",
       "3   2.380833  \n",
       "4   2.210165  "
      ]
     },
     "execution_count": 36,
     "metadata": {},
     "output_type": "execute_result"
    }
   ],
   "source": [
    "inf_uni.head()"
   ]
  },
  {
   "cell_type": "code",
   "execution_count": 154,
   "metadata": {},
   "outputs": [
    {
     "name": "stderr",
     "output_type": "stream",
     "text": [
      "C:\\Users\\karth\\AppData\\Local\\Temp\\ipykernel_15520\\1309021871.py:2: SettingWithCopyWarning: \n",
      "A value is trying to be set on a copy of a slice from a DataFrame\n",
      "\n",
      "See the caveats in the documentation: https://pandas.pydata.org/pandas-docs/stable/user_guide/indexing.html#returning-a-view-versus-a-copy\n",
      "  X.dropna(inplace=True)\n"
     ]
    },
    {
     "data": {
      "text/html": [
       "<div>\n",
       "<style scoped>\n",
       "    .dataframe tbody tr th:only-of-type {\n",
       "        vertical-align: middle;\n",
       "    }\n",
       "\n",
       "    .dataframe tbody tr th {\n",
       "        vertical-align: top;\n",
       "    }\n",
       "\n",
       "    .dataframe thead th {\n",
       "        text-align: right;\n",
       "    }\n",
       "</style>\n",
       "<table border=\"1\" class=\"dataframe\">\n",
       "  <thead>\n",
       "    <tr style=\"text-align: right;\">\n",
       "      <th></th>\n",
       "      <th>lat</th>\n",
       "      <th>lon</th>\n",
       "      <th>sum</th>\n",
       "    </tr>\n",
       "  </thead>\n",
       "  <tbody>\n",
       "    <tr>\n",
       "      <th>0</th>\n",
       "      <td>54.846317</td>\n",
       "      <td>83.093750</td>\n",
       "      <td>4</td>\n",
       "    </tr>\n",
       "    <tr>\n",
       "      <th>1</th>\n",
       "      <td>55.049999</td>\n",
       "      <td>82.949997</td>\n",
       "      <td>1</td>\n",
       "    </tr>\n",
       "    <tr>\n",
       "      <th>2</th>\n",
       "      <td>48.821259</td>\n",
       "      <td>2.315226</td>\n",
       "      <td>1</td>\n",
       "    </tr>\n",
       "    <tr>\n",
       "      <th>3</th>\n",
       "      <td>48.829723</td>\n",
       "      <td>2.380833</td>\n",
       "      <td>1</td>\n",
       "    </tr>\n",
       "    <tr>\n",
       "      <th>4</th>\n",
       "      <td>48.713268</td>\n",
       "      <td>2.210165</td>\n",
       "      <td>1</td>\n",
       "    </tr>\n",
       "    <tr>\n",
       "      <th>...</th>\n",
       "      <td>...</td>\n",
       "      <td>...</td>\n",
       "      <td>...</td>\n",
       "    </tr>\n",
       "    <tr>\n",
       "      <th>3906</th>\n",
       "      <td>46.672527</td>\n",
       "      <td>0.366398</td>\n",
       "      <td>2</td>\n",
       "    </tr>\n",
       "    <tr>\n",
       "      <th>3907</th>\n",
       "      <td>48.045746</td>\n",
       "      <td>-1.746071</td>\n",
       "      <td>2</td>\n",
       "    </tr>\n",
       "    <tr>\n",
       "      <th>3908</th>\n",
       "      <td>59.253992</td>\n",
       "      <td>15.248768</td>\n",
       "      <td>1</td>\n",
       "    </tr>\n",
       "    <tr>\n",
       "      <th>3909</th>\n",
       "      <td>41.105046</td>\n",
       "      <td>29.026327</td>\n",
       "      <td>12</td>\n",
       "    </tr>\n",
       "    <tr>\n",
       "      <th>3910</th>\n",
       "      <td>40.952841</td>\n",
       "      <td>29.119971</td>\n",
       "      <td>1</td>\n",
       "    </tr>\n",
       "  </tbody>\n",
       "</table>\n",
       "<p>3905 rows × 3 columns</p>\n",
       "</div>"
      ],
      "text/plain": [
       "            lat        lon  sum\n",
       "0     54.846317  83.093750    4\n",
       "1     55.049999  82.949997    1\n",
       "2     48.821259   2.315226    1\n",
       "3     48.829723   2.380833    1\n",
       "4     48.713268   2.210165    1\n",
       "...         ...        ...  ...\n",
       "3906  46.672527   0.366398    2\n",
       "3907  48.045746  -1.746071    2\n",
       "3908  59.253992  15.248768    1\n",
       "3909  41.105046  29.026327   12\n",
       "3910  40.952841  29.119971    1\n",
       "\n",
       "[3905 rows x 3 columns]"
      ]
     },
     "execution_count": 154,
     "metadata": {},
     "output_type": "execute_result"
    }
   ],
   "source": [
    "X = inf_uni[[\"lat\",\"lon\",\"sum\"]]\n",
    "X.dropna(inplace=True)\n",
    "X"
   ]
  },
  {
   "cell_type": "markdown",
   "metadata": {},
   "source": [
    "## Plotting"
   ]
  },
  {
   "cell_type": "code",
   "execution_count": 50,
   "metadata": {},
   "outputs": [],
   "source": [
    "def plot_inf_univ(full_data, t0 = 1950, t1 = 1960, ignore_ones = False, show_map = True):\n",
    "    period = full_data[ (full_data[\"year\"]>=t0) & (full_data['year']<t1)]\n",
    "\n",
    "    p = period[[\"school\",\"lat\",\"lon\",\"descendants\"]].groupby(['school'])\n",
    "    p = p[\"descendants\"].agg(['sum']).reset_index()\n",
    "    p = pd.merge(p,coords,on='school',how='left')\n",
    "\n",
    "    X = p[[\"lat\",\"lon\",\"sum\"]]\n",
    "    X.dropna(inplace=True)\n",
    "    if ignore_ones:\n",
    "        X = X[X[\"sum\"] != 1]\n",
    "        map = folium.Map(location = [5,30], tiles = \"Cartodb dark_matter\", zoom_start=2)\n",
    "\n",
    "        heat_data = X.values.tolist()\n",
    "\n",
    "        plugins.HeatMap(heat_data).add_to(map)\n",
    "\n",
    "        map.save(f\"heat_map_ignore_{t0}_to_{t1}.html\")\n",
    "        if show_map:\n",
    "            display(map)\n",
    "        return map\n",
    "        \n",
    "    else:\n",
    "        map = folium.Map(location = [5,30], tiles = \"Cartodb dark_matter\", zoom_start=2)\n",
    "\n",
    "        heat_data = X.values.tolist()\n",
    "\n",
    "        plugins.HeatMap(heat_data).add_to(map)\n",
    "\n",
    "        map.save(f\"heat_map_{t0}_to_{t1}.html\")\n",
    "        if show_map:\n",
    "            display(map)\n",
    "        return map\n"
   ]
  },
  {
   "cell_type": "code",
   "execution_count": 51,
   "metadata": {},
   "outputs": [
    {
     "name": "stderr",
     "output_type": "stream",
     "text": [
      "C:\\Users\\venka\\AppData\\Local\\Temp\\ipykernel_9900\\343086128.py:9: SettingWithCopyWarning: \n",
      "A value is trying to be set on a copy of a slice from a DataFrame\n",
      "\n",
      "See the caveats in the documentation: https://pandas.pydata.org/pandas-docs/stable/user_guide/indexing.html#returning-a-view-versus-a-copy\n",
      "  X.dropna(inplace=True)\n"
     ]
    },
    {
     "data": {
      "text/html": [
       "<div style=\"width:100%;\"><div style=\"position:relative;width:100%;height:0;padding-bottom:60%;\"><span style=\"color:#565656\">Make this Notebook Trusted to load map: File -> Trust Notebook</span><iframe srcdoc=\"&lt;!DOCTYPE html&gt;\n",
       "&lt;html&gt;\n",
       "&lt;head&gt;\n",
       "    \n",
       "    &lt;meta http-equiv=&quot;content-type&quot; content=&quot;text/html; charset=UTF-8&quot; /&gt;\n",
       "    \n",
       "        &lt;script&gt;\n",
       "            L_NO_TOUCH = false;\n",
       "            L_DISABLE_3D = false;\n",
       "        &lt;/script&gt;\n",
       "    \n",
       "    &lt;style&gt;html, body {width: 100%;height: 100%;margin: 0;padding: 0;}&lt;/style&gt;\n",
       "    &lt;style&gt;#map {position:absolute;top:0;bottom:0;right:0;left:0;}&lt;/style&gt;\n",
       "    &lt;script src=&quot;https://cdn.jsdelivr.net/npm/leaflet@1.9.3/dist/leaflet.js&quot;&gt;&lt;/script&gt;\n",
       "    &lt;script src=&quot;https://code.jquery.com/jquery-1.12.4.min.js&quot;&gt;&lt;/script&gt;\n",
       "    &lt;script src=&quot;https://cdn.jsdelivr.net/npm/bootstrap@5.2.2/dist/js/bootstrap.bundle.min.js&quot;&gt;&lt;/script&gt;\n",
       "    &lt;script src=&quot;https://cdnjs.cloudflare.com/ajax/libs/Leaflet.awesome-markers/2.0.2/leaflet.awesome-markers.js&quot;&gt;&lt;/script&gt;\n",
       "    &lt;link rel=&quot;stylesheet&quot; href=&quot;https://cdn.jsdelivr.net/npm/leaflet@1.9.3/dist/leaflet.css&quot;/&gt;\n",
       "    &lt;link rel=&quot;stylesheet&quot; href=&quot;https://cdn.jsdelivr.net/npm/bootstrap@5.2.2/dist/css/bootstrap.min.css&quot;/&gt;\n",
       "    &lt;link rel=&quot;stylesheet&quot; href=&quot;https://netdna.bootstrapcdn.com/bootstrap/3.0.0/css/bootstrap.min.css&quot;/&gt;\n",
       "    &lt;link rel=&quot;stylesheet&quot; href=&quot;https://cdn.jsdelivr.net/npm/@fortawesome/fontawesome-free@6.2.0/css/all.min.css&quot;/&gt;\n",
       "    &lt;link rel=&quot;stylesheet&quot; href=&quot;https://cdnjs.cloudflare.com/ajax/libs/Leaflet.awesome-markers/2.0.2/leaflet.awesome-markers.css&quot;/&gt;\n",
       "    &lt;link rel=&quot;stylesheet&quot; href=&quot;https://cdn.jsdelivr.net/gh/python-visualization/folium/folium/templates/leaflet.awesome.rotate.min.css&quot;/&gt;\n",
       "    \n",
       "            &lt;meta name=&quot;viewport&quot; content=&quot;width=device-width,\n",
       "                initial-scale=1.0, maximum-scale=1.0, user-scalable=no&quot; /&gt;\n",
       "            &lt;style&gt;\n",
       "                #map_ca499101fe6ab7c952d8ae98c35d9e68 {\n",
       "                    position: relative;\n",
       "                    width: 100.0%;\n",
       "                    height: 100.0%;\n",
       "                    left: 0.0%;\n",
       "                    top: 0.0%;\n",
       "                }\n",
       "                .leaflet-container { font-size: 1rem; }\n",
       "            &lt;/style&gt;\n",
       "        \n",
       "    &lt;script src=&quot;https://cdn.jsdelivr.net/gh/python-visualization/folium@main/folium/templates/leaflet_heat.min.js&quot;&gt;&lt;/script&gt;\n",
       "&lt;/head&gt;\n",
       "&lt;body&gt;\n",
       "    \n",
       "    \n",
       "            &lt;div class=&quot;folium-map&quot; id=&quot;map_ca499101fe6ab7c952d8ae98c35d9e68&quot; &gt;&lt;/div&gt;\n",
       "        \n",
       "&lt;/body&gt;\n",
       "&lt;script&gt;\n",
       "    \n",
       "    \n",
       "            var map_ca499101fe6ab7c952d8ae98c35d9e68 = L.map(\n",
       "                &quot;map_ca499101fe6ab7c952d8ae98c35d9e68&quot;,\n",
       "                {\n",
       "                    center: [5.0, 30.0],\n",
       "                    crs: L.CRS.EPSG3857,\n",
       "                    zoom: 2,\n",
       "                    zoomControl: true,\n",
       "                    preferCanvas: false,\n",
       "                }\n",
       "            );\n",
       "\n",
       "            \n",
       "\n",
       "        \n",
       "    \n",
       "            var tile_layer_8bb443a6d720214bdbc637ea3336d173 = L.tileLayer(\n",
       "                &quot;https://cartodb-basemaps-{s}.global.ssl.fastly.net/dark_all/{z}/{x}/{y}.png&quot;,\n",
       "                {&quot;attribution&quot;: &quot;\\u0026copy; \\u003ca target=\\&quot;_blank\\&quot; href=\\&quot;http://www.openstreetmap.org/copyright\\&quot;\\u003eOpenStreetMap\\u003c/a\\u003e contributors \\u0026copy; \\u003ca target=\\&quot;_blank\\&quot; href=\\&quot;http://cartodb.com/attributions\\&quot;\\u003eCartoDB\\u003c/a\\u003e, CartoDB \\u003ca target=\\&quot;_blank\\&quot; href =\\&quot;http://cartodb.com/attributions\\&quot;\\u003eattributions\\u003c/a\\u003e&quot;, &quot;detectRetina&quot;: false, &quot;maxNativeZoom&quot;: 18, &quot;maxZoom&quot;: 18, &quot;minZoom&quot;: 0, &quot;noWrap&quot;: false, &quot;opacity&quot;: 1, &quot;subdomains&quot;: &quot;abc&quot;, &quot;tms&quot;: false}\n",
       "            ).addTo(map_ca499101fe6ab7c952d8ae98c35d9e68);\n",
       "        \n",
       "    \n",
       "            var heat_map_c6358fd692a2e295f8d6074b2e3f014f = L.heatLayer(\n",
       "                [[50.0657033, 19.918958667058632, 53.0], [48.00229565, 7.849140132188766, 268.0], [47.17533015, 27.57230039928448, 35.0], [27.9151981, 78.07874075060107, 32.0], [39.9237514, 32.86102817975936, 4.0], [32.591987700000004, -85.4959487362446, 6.0], [-35.28131035, 149.1166828434495, 126.0], [46.7677836, 23.591976552323946, 2.0], [40.3739057, 49.81101336269388, 16.0], [49.78858948, 9.93552017, 38.0], [51.52184485, -0.130215506706738, 24.0], [41.8186395, -71.4088008716793, 1398.0], [34.13701375, -118.12528833668254, 2384.0], [51.4764902, -3.1803382, 2.0], [40.4441897, -79.94271918393466, 278.0], [41.50138695, -81.60070216600491, 40.0], [45.203783, 5.699868499221769, 581.0], [60.4518905, 22.2791628, 337.0], [54.3458218, 10.113073008097192, 559.0], [42.25146815, -71.82295086144981, 2.0], [-18.9110302, 47.5279875, 2.0], [40.80775585, -73.96164946987652, 4159.0], [42.4529076, -76.48008423030923, 577.0], [38.65811157, -90.26731873, 195.0], [48.30062485, 34.84400177, 233.0], [36.00015569999999, -78.94422972195878, 140.0], [47.413218, 8.5374914, 1576.0], [48.5298981, 9.040432300509686, 310.0], [51.9176312, 4.525962326490774, 32.0], [54.08943465, 13.404874267720633, 6.0], [47.4934799, 19.061899330588723, 2.0], [52.4550561, 13.296437631145452, 15.0], [49.60030465, 11.016227770563525, 24.0], [50.9333221, 11.582296971854834, 20.0], [51.5592251, 9.952444154453854, 207.0], [36.14166641, -86.7986145, 7.0], [38.90893925, -77.07457962060826, 10.0], [33.7760948, -84.3988076699857, 8.0], [52.38219833, 9.71780014, 112.0], [42.36790855, -71.12678237443698, 6436.0], [31.77293975, 35.197994954152726, 251.0], [60.175648300000006, 24.95355002052208, 684.0], [52.5183402, 13.392920232320172, 494.0], [47.50126265, 19.046133737708708, 223.0], [41.83616405, -87.62647227745128, 77.0], [51.4989595, -0.1756406927631042, 78.0], [22.6445112, 88.37716916701987, 7.0], [40.4594635, -86.13026910233465, 311.0], [38.38342285, -81.76409912, 2.0], [50.4443723, 30.51638190506241, 140.0], [44.44408145, 26.08853395401554, 23.0], [37.76972961, -122.466095, 92.0], [49.01005936, 31.39693832, 6.0], [-22.9158261, -43.23278761875301, 51.0], [42.0279608, -93.64473746093856, 814.0], [41.0132424, 28.9637609, 7.0], [49.84021675, 24.02228812406451, 3.0], [41.71573395, 44.72558560003113, 64.0], [34.68795395, 33.02952576, 25.0], [50.12724275, 8.667596031153847, 6.0], [49.99203965, 8.237090346042269, 53.0], [50.5804836, 8.677565533510236, 14.0], [49.1018534, 8.433120159201868, 10.0], [51.84169388, 5.85865116, 2.0], [48.15047575, 11.579835648337658, 7.0], [50.01508035, 36.22864281891215, 2.0], [50.3942259, 30.498317422405822, 15.0], [51.5060001, -0.1121582948025203, 36.0], [59.34986645, 18.07063213298418, 762.0], [55.79624725, 37.47444984947771, 64.0], [35.02704665, 135.78143727667532, 79.0], [55.6801502, 12.57232700140625, 39.0], [55.69778061, 37.56528091, 20.0], [40.6068028, -75.3782488, 42.0], [59.94166183, 30.30098724, 13.0], [55.70229715, 37.53179772747929, 1026.0], [51.51426105, -0.1167335198149282, 165.0], [30.40576185, -91.18597450265686, 12.0], [48.15047575, 11.579835648337658, 144.0], [55.70582245, 13.193340816013588, 3.0], [51.484437150000005, 11.973546964461434, 102.0], [49.2099968, 16.599248976309006, 18.0], [42.3582529, -71.0966272383055, 3564.0], [45.50688565, -73.57908460423829, 12.0], [42.7024238, -84.48032837503001, 52.0], [34.68795395, 33.02952576, 249.0], [35.1583416, 136.9219146, 63.0], [0.3366658, 32.5841375, 46.0], [40.72914525, -73.99507565085935, 774.0], [56.29943848, 43.98332977, 9.0], [35.7714749, -78.6741935, 379.0], [42.0557157, -87.67529454739416, 256.0], [33.76388931, -118.2011108, 5.0], [36.12847675, -97.08398055028108, 11.0], [44.56305595, -123.28392363395751, 119.0], [34.51119925, 135.63144797553792, 63.0], [-29.1057087, 26.175418644592, 67.0], [51.1068045, 17.06008134209914, 22.0], [52.2377936, 21.0181978, 206.0], [42.7298969, -73.67966781998861, 250.0], [40.33867515, -74.65836549131683, 6948.0], [40.430028, -86.92642114650494, 387.0], [54.58414875, -5.933721043274003, 61.0], [53.5846829, -2.298765090067537, 3.0], [50.7791645, 6.068920971222876, 33.0], [50.7338124, 7.1022465, 46.0], [29.71679145, -95.40478113393792, 366.0], [53.21944155, 6.562986329174857, 25.0], [37.76972961, -122.466095, 4.0], [47.228989600000006, 39.7400044411576, 55.0], [49.4167814, 8.6691206, 342.0], [55.6934259, 37.5606899, 2.0], [40.4929271, -74.44520167306827, 5.0], [38.635359, -90.23184326838911, 21.0], [51.57865524, 46.79747009, 6.0], [44.8177899, 20.45658352795434, 101.0], [49.93777847, 17.89666939, 19.0], [48.84471893, 2.34388995, 14.0], [54.50928116, 36.27381897, 4.0], [27.83057785, 80.02818298, 5.0], [59.9406782, 30.296499938428813, 917.0], [37.43131385, -122.16936535498309, 3311.0], [43.00188805, -78.78521350495271, 7.0], [55.6947768, 37.56444919537102, 64.0], [59.3242703, 18.08305021491595, 517.0], [51.6192545, -3.8792745, 9.0], [43.01711285, -76.11855360009726, 198.0], [41.31085045, 69.2489205384669, 14.0], [47.4701078, 19.04718569557065, 6.0], [55.785414450000005, 12.520215144442094, 6.0], [48.78152466, 9.17469406, 6.0], [51.99882735, 4.373960368154041, 397.0], [52.51101585, 13.326954140959668, 19.0], [52.27335739, 10.53064251, 4.0], [51.80195535, 10.34550527586038, 75.0], [49.86115175, 8.681943998674633, 175.0], [51.0282765, 13.735982754935176, 11.0], [48.2655696, 11.669345610437995, 37.0], [30.6108618, -96.35206061388456, 7.0], [38.93804505, -77.08939223651926, 17.0], [38.9391024, -76.99996417338346, 6.0], [38.89989375, -77.04744828062584, 11.0], [39.33020225, -76.62185357858337, 202.0], [41.8973973, -87.62653132343092, 296.0], [40.2619389, -76.88034674874413, 20.0], [41.8761445, -87.6251612, 1977.0], [35.90503535, -79.04775326525107, 1179.0], [35.4894285, -97.53871275092656, 50.0], [51.56306085, 5.043598467727852, 7.0], [56.4695875, 84.94677153472858, 6.0], [53.3444162, -6.2589561, 2.0], [29.94121955, -90.12010089179184, 539.0], [60.45607315, 22.28640967697722, 4.0], [40.4314742, -3.7900439484094033, 15.0], [41.3868913, 2.1635238457663224, 268.0], [-34.508711500000004, -58.68837906432547, 2.0], [-33.4439386, -70.6510174, 2.0], [40.44916534, -3.72805595, 122.0], [38.7082646, -9.146463040754789, 48.0], [-23.5652201, -46.71258298223419, 81.0], [51.00784845, 3.710883068491984, 4.0], [52.1572025, 4.485216803828298, 471.0], [52.0906639, 5.1231525, 363.0], [52.3685848, 4.8902006, 1179.0], [53.3068763, -6.224625093340977, 7.0], [51.52420305, -0.1330007242592954, 195.0], [42.69649124, 23.32600975, 5.0], [57.16452475, -2.10183635466212, 41.0], [-34.928125300000005, 138.6011843985031, 253.0], [44.8188718, 20.4570756, 652.0], [52.4512673, -1.9366269, 26.0], [51.4582866, -2.601568350796178, 111.0], [49.25783145, -123.24624198622212, 6.0], [44.43564445, 26.10092625223488, 229.0], [37.87549965, -122.2390685139518, 3248.0], [34.0198321, -118.2780639, 369.0], [52.2069895, 0.1190925744826141, 3434.0], [39.12718375, -84.50008383599557, 39.0], [40.01407945, -105.26695943762093, 14.0], [47.5334766, 21.623542211607383, 2.0], [39.90360285, -75.3537373118458, 49.0], [28.5846757, 77.16358980822572, 43.0], [35.973209049999994, -78.89755053748397, 67.0], [55.94407645, -3.1883735563964555, 82.0], [25.7148148, -80.2769765, 44.0], [31.48119265, -83.52225572430962, 36.0], [55.8618812, -4.241956565778082, 52.0], [40.09911835, -88.23851575614376, 1336.0], [41.6683126, -91.57952674093114, 55.0], [38.9534918, -95.26308879955825, 119.0], [38.0266291, -84.50472223185739, 15.0], [53.8016772, -1.5464983554713156, 5.0], [53.40724285, -2.965833661018871, 222.0], [46.0490922, 14.50413066947671, 2.0], [51.5116948, -0.117442, 1217.0], [26.8644647, 80.93218673104445, 18.0], [49.8398886, 24.0221314, 62.0], [13.06600485, 80.28285007470035, 3.0], [53.4803158, -2.2393912, 30.0], [39.252377, -76.70891806688415, 2.0], [38.99041245, -76.9438585924238, 98.0], [-37.818084600000006, 144.96399653600264, 23.0], [42.33245205, -83.03756644880244, 2765.0], [44.9662364, -93.24110466136236, 528.0], [38.93641465, -92.32970301784542, 20.0], [18.9706634, 72.8170518, 47.0], [-29.86805515, 30.978411950041696, 7.0], [40.8206834, -96.7004831752174, 3.0], [41.70456775, -86.23822026017265, 72.0], [52.9577322, -1.1561587845079129, 47.0], [44.04441965, -123.07176029673084, 51.0], [51.7533537, -1.2571118113217246, 362.0], [40.8025835, -77.85593833184565, 226.0], [40.44415295, -79.96246095144505, 17.0], [51.4499995, -0.961407779409331, 11.0], [44.0190466, -92.46665369749604, 224.0], [53.3849374, -1.4739728109843808, 2.0], [42.6923495, 23.3260637, 11.0], [33.92682765, -118.24234989627216, 151.0], [56.3398198, -2.811793705314982, 420.0], [-33.8634791, 151.21435384492403, 13.0], [46.2456123, 20.1491243, 10.0], [-33.88321735, 151.20036690524597, 21.0], [35.9516352, -83.93088187962596, 233.0], [30.29320405, -97.73746822315464, 649.0], [35.74722905, 139.80215698929388, 155.0], [43.6562982, -79.38706267941706, 274.0], [40.7768903, -111.9154927, 28.0], [38.0410576, -78.50550841214823, 79.0], [-33.91701725, 151.2251677447594, 5.0], [53.22339575, -4.153210084821843, 5.0], [38.9005175, -77.0322149, 351.0], [41.923034650000005, -73.99882649060311, 7.0], [43.080274450000005, -89.43095871991434, 1162.0], [45.8160975, 15.9757047, 218.0], [-26.1888766, 28.02479120307132, 344.0], [45.4601184, 9.19533637181449, 32.0], [40.89679335, 14.244673709461011, 3.0], [41.8964496, 12.52095869350602, 49.0], [47.56174235, 7.58285513707386, 317.0], [47.077857300000005, 15.44984909187254, 2.0], [53.56778265, 9.97405144443411, 28.0], [47.26331595, 11.384473309954492, 44.0], [51.33845385, 12.37863856850984, 100.0], [51.33915329, 12.37904644, 5.0], [54.4309852, 12.6858664, 10.0], [48.7453828, 9.103267538773398, 40.0], [48.2131284, 16.360685994114505, 54.0], [47.37377355, 8.550954999703729, 13.0], [49.25428530000001, 7.04150707562534, 96.0], [50.92804455, 6.928130514523661, 36.0], [44.83697265, -0.578070403772544, 2.0], [50.8212127, 4.34955336942806, 13.0], [48.6914565, 6.1782072, 4.0], [50.81347185, 4.381235729203142, 131.0], [48.8470111, 2.343799248658736, 112.0], [48.8488954, 2.3431908, 118.0], [43.5642189, 1.4665724064187464, 214.0], [48.84722137, 2.35638905, 3.0], [46.1972358, 6.136766, 15.0], [46.5225695, 6.580949860268587, 3.0], [50.640718500000006, 5.576232583520801, 2.0], [45.5359358, -73.49389, 6.0], [48.84313755, 2.3352547670528816, 1275.0], [48.58599905, 7.7372741147169295, 35.0], [43.6058532, 1.4408980155210234, 2.0], [50.06156295, 19.933409068159605, 15.0], [51.24292505, 22.54197516504912, 77.0], [53.02118445, 18.568808197956635, 45.0], [52.2402217, 21.01884756035321, 166.0], [51.1137041, 17.0322332, 102.0], [52.3900169, 16.8757714, 62.0], [51.7713674, 19.47406771921605, 114.0], [59.8576902, 17.6297861, 20.0], [50.9039315, 12.070254890626668, 19.0], [36.14380105, -86.80281889095295, 9.0], [49.98594666, 36.2735405, 88.0], [53.46172375, -2.2259976794199576, 381.0], [54.682847, 25.28784063939981, 6.0], [37.22192675, -80.42728184013652, 26.0], [51.7049787, 39.185171087491234, 177.0], [52.33396225, 4.865196500737312, 25.0], [38.655757300000005, -90.31031469175366, 87.0], [42.35720515, -83.07094978691399, 23.0], [31.9078499, 34.81334092444211, 13.0], [11.57164495, 104.8891926551496, 4.0], [51.96734215, 7.599243326272159, 1277.0], [41.25713055, -72.98966960152231, 928.0], [40.1826478, 44.52725718841484, 2.0], [30.521595, 120.7195312, 21.0], [48.84495163, 2.33919311, 13.0], [48.8430502, 2.346015821392692, 16.0], [46.5186594, 6.566561505148001, 29.0]],\n",
       "                {&quot;blur&quot;: 15, &quot;maxZoom&quot;: 18, &quot;minOpacity&quot;: 0.5, &quot;radius&quot;: 25}\n",
       "            ).addTo(map_ca499101fe6ab7c952d8ae98c35d9e68);\n",
       "        \n",
       "&lt;/script&gt;\n",
       "&lt;/html&gt;\" style=\"position:absolute;width:100%;height:100%;left:0;top:0;border:none !important;\" allowfullscreen webkitallowfullscreen mozallowfullscreen></iframe></div></div>"
      ],
      "text/plain": [
       "<folium.folium.Map at 0x2386490a370>"
      ]
     },
     "metadata": {},
     "output_type": "display_data"
    }
   ],
   "source": [
    "map = plot_inf_univ(full_data, ignore_ones= True)\n"
   ]
  },
  {
   "cell_type": "code",
   "execution_count": null,
   "metadata": {},
   "outputs": [],
   "source": []
  },
  {
   "cell_type": "code",
   "execution_count": null,
   "metadata": {},
   "outputs": [],
   "source": []
  },
  {
   "cell_type": "code",
   "execution_count": null,
   "metadata": {},
   "outputs": [],
   "source": []
  },
  {
   "cell_type": "code",
   "execution_count": null,
   "metadata": {},
   "outputs": [],
   "source": []
  },
  {
   "cell_type": "code",
   "execution_count": null,
   "metadata": {},
   "outputs": [],
   "source": []
  },
  {
   "cell_type": "code",
   "execution_count": null,
   "metadata": {},
   "outputs": [],
   "source": []
  },
  {
   "cell_type": "code",
   "execution_count": null,
   "metadata": {},
   "outputs": [],
   "source": []
  },
  {
   "cell_type": "code",
   "execution_count": null,
   "metadata": {},
   "outputs": [],
   "source": []
  },
  {
   "cell_type": "code",
   "execution_count": null,
   "metadata": {},
   "outputs": [],
   "source": []
  },
  {
   "cell_type": "code",
   "execution_count": null,
   "metadata": {},
   "outputs": [],
   "source": []
  },
  {
   "cell_type": "code",
   "execution_count": null,
   "metadata": {},
   "outputs": [],
   "source": []
  },
  {
   "cell_type": "code",
   "execution_count": null,
   "metadata": {},
   "outputs": [],
   "source": []
  },
  {
   "cell_type": "code",
   "execution_count": null,
   "metadata": {},
   "outputs": [],
   "source": [
    "\n"
   ]
  }
 ],
 "metadata": {
  "kernelspec": {
   "display_name": "Python 3 (ipykernel)",
   "language": "python",
   "name": "python3"
  },
  "language_info": {
   "codemirror_mode": {
    "name": "ipython",
    "version": 3
   },
   "file_extension": ".py",
   "mimetype": "text/x-python",
   "name": "python",
   "nbconvert_exporter": "python",
   "pygments_lexer": "ipython3",
   "version": "3.9.13"
  }
 },
 "nbformat": 4,
 "nbformat_minor": 2
}

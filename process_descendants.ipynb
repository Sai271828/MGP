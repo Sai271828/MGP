{
 "cells": [
  {
   "cell_type": "code",
   "execution_count": 13,
   "metadata": {},
   "outputs": [],
   "source": [
    "import json\n",
    "import ast\n",
    "import pandas as pd"
   ]
  },
  {
   "cell_type": "code",
   "execution_count": 14,
   "metadata": {},
   "outputs": [],
   "source": [
    "# Load sorted and modified data. Modified to drop cycles in the tree\n",
    "\n",
    "with open('data/mod_sorted_data.json') as f:\n",
    "    data1 = json.load(f)"
   ]
  },
  {
   "cell_type": "code",
   "execution_count": 15,
   "metadata": {},
   "outputs": [],
   "source": [
    "# Convert students to list\n",
    "\n",
    "data={}\n",
    "for key in data1.keys():\n",
    "    data[key] = ast.literal_eval(data1[key])"
   ]
  },
  {
   "cell_type": "code",
   "execution_count": 21,
   "metadata": {},
   "outputs": [],
   "source": [
    "def count_descendants(data,des_dict,remaining_nodes):\n",
    "    node = remaining_nodes[-1]\n",
    "\n",
    "    # Check if node in in the keys of data\n",
    "\n",
    "    #if str(node) not in data.keys():\n",
    "    #    des_dict[node] = 0\n",
    "    #    remaining_nodes.pop()\n",
    "    #    return\n",
    "    des = 0\n",
    "    children = data[str(node)]\n",
    "    for child in children:\n",
    "\n",
    "        # Check if child is the same as node\n",
    "        #if str(child) == str(node):\n",
    "        #    print(child)\n",
    "        #    continue\n",
    "        \n",
    "        if str(child) not in data.keys():\n",
    "            des_dict[str(child)] = 0\n",
    "        elif des_dict[str(child)] == -1:\n",
    "            remaining_nodes.append(child)\n",
    "            return\n",
    "        else:\n",
    "            des += des_dict[str(child)]\n",
    "    des_dict[str(node)] = des + len(data[str(node)])\n",
    "    remaining_nodes.pop()"
   ]
  },
  {
   "cell_type": "code",
   "execution_count": 23,
   "metadata": {},
   "outputs": [],
   "source": [
    "des_dict = {key : -1 for key in data.keys()}\n",
    "remaining_nodes = list(data.keys())\n",
    "#count = 0\n",
    "while remaining_nodes != []:\n",
    "    count_descendants(data,des_dict,remaining_nodes)\n",
    "    #count += 1\n",
    "#print(count)"
   ]
  },
  {
   "cell_type": "code",
   "execution_count": 24,
   "metadata": {},
   "outputs": [],
   "source": [
    "with open(\"data/descendants.json\", 'w') as json_file:\n",
    "    json.dump(des_dict, json_file)"
   ]
  },
  {
   "cell_type": "code",
   "execution_count": 29,
   "metadata": {},
   "outputs": [],
   "source": [
    "descendants_df = pd.DataFrame.from_dict(des_dict, orient='index').reset_index()\n",
    "descendants_df.head()\n",
    "descendants_df = descendants_df.rename(columns={'index': 'id', 0: 'descendants'})\n",
    "descendants_df.head()\n",
    "descendants_df['id'] = descendants_df['id'].astype(int)"
   ]
  },
  {
   "cell_type": "code",
   "execution_count": 30,
   "metadata": {},
   "outputs": [],
   "source": [
    "descendants_df.to_csv(\"data/descendants.csv\", index=False)\n"
   ]
  },
  {
   "cell_type": "code",
   "execution_count": 31,
   "metadata": {},
   "outputs": [],
   "source": [
    "data = pd.read_csv(\"data/data_mod.csv\")"
   ]
  },
  {
   "cell_type": "code",
   "execution_count": 32,
   "metadata": {},
   "outputs": [],
   "source": [
    "merged_df = data.merge(descendants_df, on='id', how='left')\n"
   ]
  },
  {
   "cell_type": "code",
   "execution_count": 33,
   "metadata": {},
   "outputs": [],
   "source": [
    "merged_df.to_csv(\"data/data_des.csv\", index=False)"
   ]
  },
  {
   "cell_type": "markdown",
   "metadata": {},
   "source": []
  }
 ],
 "metadata": {
  "kernelspec": {
   "display_name": "Python 3 (ipykernel)",
   "language": "python",
   "name": "python3"
  },
  "language_info": {
   "codemirror_mode": {
    "name": "ipython",
    "version": 3
   },
   "file_extension": ".py",
   "mimetype": "text/x-python",
   "name": "python",
   "nbconvert_exporter": "python",
   "pygments_lexer": "ipython3",
   "version": "3.11.5"
  }
 },
 "nbformat": 4,
 "nbformat_minor": 4
}
